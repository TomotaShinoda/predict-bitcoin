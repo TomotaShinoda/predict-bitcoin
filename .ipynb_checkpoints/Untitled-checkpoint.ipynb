{
 "cells": [
  {
   "cell_type": "code",
   "execution_count": 7,
   "metadata": {},
   "outputs": [],
   "source": [
    "import dash\n",
    "import dash_core_components as dcc\n",
    "import dash_html_components as html\n",
    "import plotly.graph_objs as go\n",
    "import pandas as pd\n",
    "import matplotlib.pyplot as plt\n",
    "%matplotlib inline\n",
    "\n",
    "from assets.database import db_session,init_db,write_data\n",
    "from assets.models import Data\n",
    "\n",
    "# 外部のスタイルシートを取得\n",
    "external_stylesheets = ['https://codepen.io/chriddyp/pen/bWLwgP.css']\n",
    "\n",
    "# インスタンスを生成\n",
    "app = dash.Dash(__name__, external_stylesheets=external_stylesheets)\n",
    "\n",
    "server = app.server"
   ]
  },
  {
   "cell_type": "code",
   "execution_count": 2,
   "metadata": {},
   "outputs": [
    {
     "name": "stdout",
     "output_type": "stream",
     "text": [
      "2021-03-21 19:23:25,004 INFO sqlalchemy.engine.base.Engine SELECT CAST('test plain returns' AS VARCHAR(60)) AS anon_1\n",
      "2021-03-21 19:23:25,008 INFO sqlalchemy.engine.base.Engine ()\n",
      "2021-03-21 19:23:25,014 INFO sqlalchemy.engine.base.Engine SELECT CAST('test unicode returns' AS VARCHAR(60)) AS anon_1\n",
      "2021-03-21 19:23:25,016 INFO sqlalchemy.engine.base.Engine ()\n",
      "2021-03-21 19:23:25,019 INFO sqlalchemy.engine.base.Engine BEGIN (implicit)\n",
      "2021-03-21 19:23:25,027 INFO sqlalchemy.engine.base.Engine SELECT data.date AS data_date, data.real_price AS data_real_price, data.pred_price AS data_pred_price \n",
      "FROM data\n",
      "2021-03-21 19:23:25,032 INFO sqlalchemy.engine.base.Engine ()\n"
     ]
    }
   ],
   "source": [
    "# DBからデータを取得\n",
    "data = db_session.query(Data.date, Data.real_price, Data.pred_price).all()\n",
    "\n",
    "# 取得したデータを項目ごとに分配\n",
    "dates = []\n",
    "real_prices = []\n",
    "pred_prices = []\n",
    "\n",
    "for _data in data:\n",
    "    dates.append(_data.date)\n",
    "    real_prices.append(_data.real_price)\n",
    "    pred_prices.append(_data.pred_price)"
   ]
  },
  {
   "cell_type": "code",
   "execution_count": 4,
   "metadata": {},
   "outputs": [
    {
     "data": {
      "text/plain": [
       "6259890.0"
      ]
     },
     "execution_count": 4,
     "metadata": {},
     "output_type": "execute_result"
    }
   ],
   "source": [
    "real_prices[-1]"
   ]
  },
  {
   "cell_type": "code",
   "execution_count": 5,
   "metadata": {},
   "outputs": [],
   "source": [
    "# グラフのレイアウトを作成\n",
    "layout_graph = go.Layout(\n",
    "    height=600,\n",
    "    xaxis={\n",
    "        \"title\":{\n",
    "            \"text\":\"日付\"\n",
    "        },\n",
    "        \"rangeslider\":{\"visible\":True},\n",
    "        'rangeselector':{\n",
    "            'buttons':[\n",
    "                {'label':'1週', 'step':'day', 'count':7},\n",
    "                {'label':'1月', 'step':'month', 'count':1},\n",
    "                {'label':'半年', 'step':'month', 'count':6},\n",
    "                {'label':'1年', 'step':'year', 'count':1}\n",
    "            ]\n",
    "        }\n",
    "    },\n",
    "    yaxis={\n",
    "        \"title\":{\n",
    "            \"text\":\"相場（ビットコイン対日本円）\"\n",
    "        }\n",
    "    },\n",
    "    margin=dict(l=300, r=300, t=50, b=100)\n",
    ")"
   ]
  },
  {
   "cell_type": "code",
   "execution_count": 6,
   "metadata": {},
   "outputs": [],
   "source": [
    "# 予測相場グラフの作成\n",
    "pred_graph = go.Scatter(\n",
    "    x=dates, \n",
    "    y=pred_prices,\n",
    "    name='予測した価格'\n",
    ")\n",
    "\n",
    "# 実際の相場グラフの作成\n",
    "real_graph = go.Scatter(\n",
    "    x=dates, \n",
    "    y=real_prices,\n",
    "    name='実際の価格'\n",
    ")"
   ]
  },
  {
   "cell_type": "code",
   "execution_count": 9,
   "metadata": {},
   "outputs": [
    {
     "data": {
      "application/vnd.plotly.v1+json": {
       "config": {
        "plotlyServerURL": "https://plot.ly"
       },
       "data": [],
       "layout": {
        "height": 600,
        "margin": {
         "b": 100,
         "l": 300,
         "r": 300,
         "t": 50
        },
        "template": {
         "data": {
          "bar": [
           {
            "error_x": {
             "color": "#2a3f5f"
            },
            "error_y": {
             "color": "#2a3f5f"
            },
            "marker": {
             "line": {
              "color": "#E5ECF6",
              "width": 0.5
             }
            },
            "type": "bar"
           }
          ],
          "barpolar": [
           {
            "marker": {
             "line": {
              "color": "#E5ECF6",
              "width": 0.5
             }
            },
            "type": "barpolar"
           }
          ],
          "carpet": [
           {
            "aaxis": {
             "endlinecolor": "#2a3f5f",
             "gridcolor": "white",
             "linecolor": "white",
             "minorgridcolor": "white",
             "startlinecolor": "#2a3f5f"
            },
            "baxis": {
             "endlinecolor": "#2a3f5f",
             "gridcolor": "white",
             "linecolor": "white",
             "minorgridcolor": "white",
             "startlinecolor": "#2a3f5f"
            },
            "type": "carpet"
           }
          ],
          "choropleth": [
           {
            "colorbar": {
             "outlinewidth": 0,
             "ticks": ""
            },
            "type": "choropleth"
           }
          ],
          "contour": [
           {
            "colorbar": {
             "outlinewidth": 0,
             "ticks": ""
            },
            "colorscale": [
             [
              0,
              "#0d0887"
             ],
             [
              0.1111111111111111,
              "#46039f"
             ],
             [
              0.2222222222222222,
              "#7201a8"
             ],
             [
              0.3333333333333333,
              "#9c179e"
             ],
             [
              0.4444444444444444,
              "#bd3786"
             ],
             [
              0.5555555555555556,
              "#d8576b"
             ],
             [
              0.6666666666666666,
              "#ed7953"
             ],
             [
              0.7777777777777778,
              "#fb9f3a"
             ],
             [
              0.8888888888888888,
              "#fdca26"
             ],
             [
              1,
              "#f0f921"
             ]
            ],
            "type": "contour"
           }
          ],
          "contourcarpet": [
           {
            "colorbar": {
             "outlinewidth": 0,
             "ticks": ""
            },
            "type": "contourcarpet"
           }
          ],
          "heatmap": [
           {
            "colorbar": {
             "outlinewidth": 0,
             "ticks": ""
            },
            "colorscale": [
             [
              0,
              "#0d0887"
             ],
             [
              0.1111111111111111,
              "#46039f"
             ],
             [
              0.2222222222222222,
              "#7201a8"
             ],
             [
              0.3333333333333333,
              "#9c179e"
             ],
             [
              0.4444444444444444,
              "#bd3786"
             ],
             [
              0.5555555555555556,
              "#d8576b"
             ],
             [
              0.6666666666666666,
              "#ed7953"
             ],
             [
              0.7777777777777778,
              "#fb9f3a"
             ],
             [
              0.8888888888888888,
              "#fdca26"
             ],
             [
              1,
              "#f0f921"
             ]
            ],
            "type": "heatmap"
           }
          ],
          "heatmapgl": [
           {
            "colorbar": {
             "outlinewidth": 0,
             "ticks": ""
            },
            "colorscale": [
             [
              0,
              "#0d0887"
             ],
             [
              0.1111111111111111,
              "#46039f"
             ],
             [
              0.2222222222222222,
              "#7201a8"
             ],
             [
              0.3333333333333333,
              "#9c179e"
             ],
             [
              0.4444444444444444,
              "#bd3786"
             ],
             [
              0.5555555555555556,
              "#d8576b"
             ],
             [
              0.6666666666666666,
              "#ed7953"
             ],
             [
              0.7777777777777778,
              "#fb9f3a"
             ],
             [
              0.8888888888888888,
              "#fdca26"
             ],
             [
              1,
              "#f0f921"
             ]
            ],
            "type": "heatmapgl"
           }
          ],
          "histogram": [
           {
            "marker": {
             "colorbar": {
              "outlinewidth": 0,
              "ticks": ""
             }
            },
            "type": "histogram"
           }
          ],
          "histogram2d": [
           {
            "colorbar": {
             "outlinewidth": 0,
             "ticks": ""
            },
            "colorscale": [
             [
              0,
              "#0d0887"
             ],
             [
              0.1111111111111111,
              "#46039f"
             ],
             [
              0.2222222222222222,
              "#7201a8"
             ],
             [
              0.3333333333333333,
              "#9c179e"
             ],
             [
              0.4444444444444444,
              "#bd3786"
             ],
             [
              0.5555555555555556,
              "#d8576b"
             ],
             [
              0.6666666666666666,
              "#ed7953"
             ],
             [
              0.7777777777777778,
              "#fb9f3a"
             ],
             [
              0.8888888888888888,
              "#fdca26"
             ],
             [
              1,
              "#f0f921"
             ]
            ],
            "type": "histogram2d"
           }
          ],
          "histogram2dcontour": [
           {
            "colorbar": {
             "outlinewidth": 0,
             "ticks": ""
            },
            "colorscale": [
             [
              0,
              "#0d0887"
             ],
             [
              0.1111111111111111,
              "#46039f"
             ],
             [
              0.2222222222222222,
              "#7201a8"
             ],
             [
              0.3333333333333333,
              "#9c179e"
             ],
             [
              0.4444444444444444,
              "#bd3786"
             ],
             [
              0.5555555555555556,
              "#d8576b"
             ],
             [
              0.6666666666666666,
              "#ed7953"
             ],
             [
              0.7777777777777778,
              "#fb9f3a"
             ],
             [
              0.8888888888888888,
              "#fdca26"
             ],
             [
              1,
              "#f0f921"
             ]
            ],
            "type": "histogram2dcontour"
           }
          ],
          "mesh3d": [
           {
            "colorbar": {
             "outlinewidth": 0,
             "ticks": ""
            },
            "type": "mesh3d"
           }
          ],
          "parcoords": [
           {
            "line": {
             "colorbar": {
              "outlinewidth": 0,
              "ticks": ""
             }
            },
            "type": "parcoords"
           }
          ],
          "pie": [
           {
            "automargin": true,
            "type": "pie"
           }
          ],
          "scatter": [
           {
            "marker": {
             "colorbar": {
              "outlinewidth": 0,
              "ticks": ""
             }
            },
            "type": "scatter"
           }
          ],
          "scatter3d": [
           {
            "line": {
             "colorbar": {
              "outlinewidth": 0,
              "ticks": ""
             }
            },
            "marker": {
             "colorbar": {
              "outlinewidth": 0,
              "ticks": ""
             }
            },
            "type": "scatter3d"
           }
          ],
          "scattercarpet": [
           {
            "marker": {
             "colorbar": {
              "outlinewidth": 0,
              "ticks": ""
             }
            },
            "type": "scattercarpet"
           }
          ],
          "scattergeo": [
           {
            "marker": {
             "colorbar": {
              "outlinewidth": 0,
              "ticks": ""
             }
            },
            "type": "scattergeo"
           }
          ],
          "scattergl": [
           {
            "marker": {
             "colorbar": {
              "outlinewidth": 0,
              "ticks": ""
             }
            },
            "type": "scattergl"
           }
          ],
          "scattermapbox": [
           {
            "marker": {
             "colorbar": {
              "outlinewidth": 0,
              "ticks": ""
             }
            },
            "type": "scattermapbox"
           }
          ],
          "scatterpolar": [
           {
            "marker": {
             "colorbar": {
              "outlinewidth": 0,
              "ticks": ""
             }
            },
            "type": "scatterpolar"
           }
          ],
          "scatterpolargl": [
           {
            "marker": {
             "colorbar": {
              "outlinewidth": 0,
              "ticks": ""
             }
            },
            "type": "scatterpolargl"
           }
          ],
          "scatterternary": [
           {
            "marker": {
             "colorbar": {
              "outlinewidth": 0,
              "ticks": ""
             }
            },
            "type": "scatterternary"
           }
          ],
          "surface": [
           {
            "colorbar": {
             "outlinewidth": 0,
             "ticks": ""
            },
            "colorscale": [
             [
              0,
              "#0d0887"
             ],
             [
              0.1111111111111111,
              "#46039f"
             ],
             [
              0.2222222222222222,
              "#7201a8"
             ],
             [
              0.3333333333333333,
              "#9c179e"
             ],
             [
              0.4444444444444444,
              "#bd3786"
             ],
             [
              0.5555555555555556,
              "#d8576b"
             ],
             [
              0.6666666666666666,
              "#ed7953"
             ],
             [
              0.7777777777777778,
              "#fb9f3a"
             ],
             [
              0.8888888888888888,
              "#fdca26"
             ],
             [
              1,
              "#f0f921"
             ]
            ],
            "type": "surface"
           }
          ],
          "table": [
           {
            "cells": {
             "fill": {
              "color": "#EBF0F8"
             },
             "line": {
              "color": "white"
             }
            },
            "header": {
             "fill": {
              "color": "#C8D4E3"
             },
             "line": {
              "color": "white"
             }
            },
            "type": "table"
           }
          ]
         },
         "layout": {
          "annotationdefaults": {
           "arrowcolor": "#2a3f5f",
           "arrowhead": 0,
           "arrowwidth": 1
          },
          "autotypenumbers": "strict",
          "coloraxis": {
           "colorbar": {
            "outlinewidth": 0,
            "ticks": ""
           }
          },
          "colorscale": {
           "diverging": [
            [
             0,
             "#8e0152"
            ],
            [
             0.1,
             "#c51b7d"
            ],
            [
             0.2,
             "#de77ae"
            ],
            [
             0.3,
             "#f1b6da"
            ],
            [
             0.4,
             "#fde0ef"
            ],
            [
             0.5,
             "#f7f7f7"
            ],
            [
             0.6,
             "#e6f5d0"
            ],
            [
             0.7,
             "#b8e186"
            ],
            [
             0.8,
             "#7fbc41"
            ],
            [
             0.9,
             "#4d9221"
            ],
            [
             1,
             "#276419"
            ]
           ],
           "sequential": [
            [
             0,
             "#0d0887"
            ],
            [
             0.1111111111111111,
             "#46039f"
            ],
            [
             0.2222222222222222,
             "#7201a8"
            ],
            [
             0.3333333333333333,
             "#9c179e"
            ],
            [
             0.4444444444444444,
             "#bd3786"
            ],
            [
             0.5555555555555556,
             "#d8576b"
            ],
            [
             0.6666666666666666,
             "#ed7953"
            ],
            [
             0.7777777777777778,
             "#fb9f3a"
            ],
            [
             0.8888888888888888,
             "#fdca26"
            ],
            [
             1,
             "#f0f921"
            ]
           ],
           "sequentialminus": [
            [
             0,
             "#0d0887"
            ],
            [
             0.1111111111111111,
             "#46039f"
            ],
            [
             0.2222222222222222,
             "#7201a8"
            ],
            [
             0.3333333333333333,
             "#9c179e"
            ],
            [
             0.4444444444444444,
             "#bd3786"
            ],
            [
             0.5555555555555556,
             "#d8576b"
            ],
            [
             0.6666666666666666,
             "#ed7953"
            ],
            [
             0.7777777777777778,
             "#fb9f3a"
            ],
            [
             0.8888888888888888,
             "#fdca26"
            ],
            [
             1,
             "#f0f921"
            ]
           ]
          },
          "colorway": [
           "#636efa",
           "#EF553B",
           "#00cc96",
           "#ab63fa",
           "#FFA15A",
           "#19d3f3",
           "#FF6692",
           "#B6E880",
           "#FF97FF",
           "#FECB52"
          ],
          "font": {
           "color": "#2a3f5f"
          },
          "geo": {
           "bgcolor": "white",
           "lakecolor": "white",
           "landcolor": "#E5ECF6",
           "showlakes": true,
           "showland": true,
           "subunitcolor": "white"
          },
          "hoverlabel": {
           "align": "left"
          },
          "hovermode": "closest",
          "mapbox": {
           "style": "light"
          },
          "paper_bgcolor": "white",
          "plot_bgcolor": "#E5ECF6",
          "polar": {
           "angularaxis": {
            "gridcolor": "white",
            "linecolor": "white",
            "ticks": ""
           },
           "bgcolor": "#E5ECF6",
           "radialaxis": {
            "gridcolor": "white",
            "linecolor": "white",
            "ticks": ""
           }
          },
          "scene": {
           "xaxis": {
            "backgroundcolor": "#E5ECF6",
            "gridcolor": "white",
            "gridwidth": 2,
            "linecolor": "white",
            "showbackground": true,
            "ticks": "",
            "zerolinecolor": "white"
           },
           "yaxis": {
            "backgroundcolor": "#E5ECF6",
            "gridcolor": "white",
            "gridwidth": 2,
            "linecolor": "white",
            "showbackground": true,
            "ticks": "",
            "zerolinecolor": "white"
           },
           "zaxis": {
            "backgroundcolor": "#E5ECF6",
            "gridcolor": "white",
            "gridwidth": 2,
            "linecolor": "white",
            "showbackground": true,
            "ticks": "",
            "zerolinecolor": "white"
           }
          },
          "shapedefaults": {
           "line": {
            "color": "#2a3f5f"
           }
          },
          "ternary": {
           "aaxis": {
            "gridcolor": "white",
            "linecolor": "white",
            "ticks": ""
           },
           "baxis": {
            "gridcolor": "white",
            "linecolor": "white",
            "ticks": ""
           },
           "bgcolor": "#E5ECF6",
           "caxis": {
            "gridcolor": "white",
            "linecolor": "white",
            "ticks": ""
           }
          },
          "title": {
           "x": 0.05
          },
          "xaxis": {
           "automargin": true,
           "gridcolor": "white",
           "linecolor": "white",
           "ticks": "",
           "title": {
            "standoff": 15
           },
           "zerolinecolor": "white",
           "zerolinewidth": 2
          },
          "yaxis": {
           "automargin": true,
           "gridcolor": "white",
           "linecolor": "white",
           "ticks": "",
           "title": {
            "standoff": 15
           },
           "zerolinecolor": "white",
           "zerolinewidth": 2
          }
         }
        },
        "xaxis": {
         "rangeselector": {
          "buttons": [
           {
            "count": 7,
            "label": "1週",
            "step": "day"
           },
           {
            "count": 1,
            "label": "1月",
            "step": "month"
           },
           {
            "count": 6,
            "label": "半年",
            "step": "month"
           },
           {
            "count": 1,
            "label": "1年",
            "step": "year"
           }
          ]
         },
         "rangeslider": {
          "visible": true
         },
         "title": {
          "text": "日付"
         }
        },
        "yaxis": {
         "title": {
          "text": "相場（ビットコイン対日本円）"
         }
        }
       }
      },
      "text/html": [
       "<div>                            <div id=\"aedec0a5-bbc1-41d2-972d-4b878b62bca3\" class=\"plotly-graph-div\" style=\"height:600px; width:100%;\"></div>            <script type=\"text/javascript\">                require([\"plotly\"], function(Plotly) {                    window.PLOTLYENV=window.PLOTLYENV || {};                                    if (document.getElementById(\"aedec0a5-bbc1-41d2-972d-4b878b62bca3\")) {                    Plotly.newPlot(                        \"aedec0a5-bbc1-41d2-972d-4b878b62bca3\",                        [],                        {\"height\": 600, \"margin\": {\"b\": 100, \"l\": 300, \"r\": 300, \"t\": 50}, \"template\": {\"data\": {\"bar\": [{\"error_x\": {\"color\": \"#2a3f5f\"}, \"error_y\": {\"color\": \"#2a3f5f\"}, \"marker\": {\"line\": {\"color\": \"#E5ECF6\", \"width\": 0.5}}, \"type\": \"bar\"}], \"barpolar\": [{\"marker\": {\"line\": {\"color\": \"#E5ECF6\", \"width\": 0.5}}, \"type\": \"barpolar\"}], \"carpet\": [{\"aaxis\": {\"endlinecolor\": \"#2a3f5f\", \"gridcolor\": \"white\", \"linecolor\": \"white\", \"minorgridcolor\": \"white\", \"startlinecolor\": \"#2a3f5f\"}, \"baxis\": {\"endlinecolor\": \"#2a3f5f\", \"gridcolor\": \"white\", \"linecolor\": \"white\", \"minorgridcolor\": \"white\", \"startlinecolor\": \"#2a3f5f\"}, \"type\": \"carpet\"}], \"choropleth\": [{\"colorbar\": {\"outlinewidth\": 0, \"ticks\": \"\"}, \"type\": \"choropleth\"}], \"contour\": [{\"colorbar\": {\"outlinewidth\": 0, \"ticks\": \"\"}, \"colorscale\": [[0.0, \"#0d0887\"], [0.1111111111111111, \"#46039f\"], [0.2222222222222222, \"#7201a8\"], [0.3333333333333333, \"#9c179e\"], [0.4444444444444444, \"#bd3786\"], [0.5555555555555556, \"#d8576b\"], [0.6666666666666666, \"#ed7953\"], [0.7777777777777778, \"#fb9f3a\"], [0.8888888888888888, \"#fdca26\"], [1.0, \"#f0f921\"]], \"type\": \"contour\"}], \"contourcarpet\": [{\"colorbar\": {\"outlinewidth\": 0, \"ticks\": \"\"}, \"type\": \"contourcarpet\"}], \"heatmap\": [{\"colorbar\": {\"outlinewidth\": 0, \"ticks\": \"\"}, \"colorscale\": [[0.0, \"#0d0887\"], [0.1111111111111111, \"#46039f\"], [0.2222222222222222, \"#7201a8\"], [0.3333333333333333, \"#9c179e\"], [0.4444444444444444, \"#bd3786\"], [0.5555555555555556, \"#d8576b\"], [0.6666666666666666, \"#ed7953\"], [0.7777777777777778, \"#fb9f3a\"], [0.8888888888888888, \"#fdca26\"], [1.0, \"#f0f921\"]], \"type\": \"heatmap\"}], \"heatmapgl\": [{\"colorbar\": {\"outlinewidth\": 0, \"ticks\": \"\"}, \"colorscale\": [[0.0, \"#0d0887\"], [0.1111111111111111, \"#46039f\"], [0.2222222222222222, \"#7201a8\"], [0.3333333333333333, \"#9c179e\"], [0.4444444444444444, \"#bd3786\"], [0.5555555555555556, \"#d8576b\"], [0.6666666666666666, \"#ed7953\"], [0.7777777777777778, \"#fb9f3a\"], [0.8888888888888888, \"#fdca26\"], [1.0, \"#f0f921\"]], \"type\": \"heatmapgl\"}], \"histogram\": [{\"marker\": {\"colorbar\": {\"outlinewidth\": 0, \"ticks\": \"\"}}, \"type\": \"histogram\"}], \"histogram2d\": [{\"colorbar\": {\"outlinewidth\": 0, \"ticks\": \"\"}, \"colorscale\": [[0.0, \"#0d0887\"], [0.1111111111111111, \"#46039f\"], [0.2222222222222222, \"#7201a8\"], [0.3333333333333333, \"#9c179e\"], [0.4444444444444444, \"#bd3786\"], [0.5555555555555556, \"#d8576b\"], [0.6666666666666666, \"#ed7953\"], [0.7777777777777778, \"#fb9f3a\"], [0.8888888888888888, \"#fdca26\"], [1.0, \"#f0f921\"]], \"type\": \"histogram2d\"}], \"histogram2dcontour\": [{\"colorbar\": {\"outlinewidth\": 0, \"ticks\": \"\"}, \"colorscale\": [[0.0, \"#0d0887\"], [0.1111111111111111, \"#46039f\"], [0.2222222222222222, \"#7201a8\"], [0.3333333333333333, \"#9c179e\"], [0.4444444444444444, \"#bd3786\"], [0.5555555555555556, \"#d8576b\"], [0.6666666666666666, \"#ed7953\"], [0.7777777777777778, \"#fb9f3a\"], [0.8888888888888888, \"#fdca26\"], [1.0, \"#f0f921\"]], \"type\": \"histogram2dcontour\"}], \"mesh3d\": [{\"colorbar\": {\"outlinewidth\": 0, \"ticks\": \"\"}, \"type\": \"mesh3d\"}], \"parcoords\": [{\"line\": {\"colorbar\": {\"outlinewidth\": 0, \"ticks\": \"\"}}, \"type\": \"parcoords\"}], \"pie\": [{\"automargin\": true, \"type\": \"pie\"}], \"scatter\": [{\"marker\": {\"colorbar\": {\"outlinewidth\": 0, \"ticks\": \"\"}}, \"type\": \"scatter\"}], \"scatter3d\": [{\"line\": {\"colorbar\": {\"outlinewidth\": 0, \"ticks\": \"\"}}, \"marker\": {\"colorbar\": {\"outlinewidth\": 0, \"ticks\": \"\"}}, \"type\": \"scatter3d\"}], \"scattercarpet\": [{\"marker\": {\"colorbar\": {\"outlinewidth\": 0, \"ticks\": \"\"}}, \"type\": \"scattercarpet\"}], \"scattergeo\": [{\"marker\": {\"colorbar\": {\"outlinewidth\": 0, \"ticks\": \"\"}}, \"type\": \"scattergeo\"}], \"scattergl\": [{\"marker\": {\"colorbar\": {\"outlinewidth\": 0, \"ticks\": \"\"}}, \"type\": \"scattergl\"}], \"scattermapbox\": [{\"marker\": {\"colorbar\": {\"outlinewidth\": 0, \"ticks\": \"\"}}, \"type\": \"scattermapbox\"}], \"scatterpolar\": [{\"marker\": {\"colorbar\": {\"outlinewidth\": 0, \"ticks\": \"\"}}, \"type\": \"scatterpolar\"}], \"scatterpolargl\": [{\"marker\": {\"colorbar\": {\"outlinewidth\": 0, \"ticks\": \"\"}}, \"type\": \"scatterpolargl\"}], \"scatterternary\": [{\"marker\": {\"colorbar\": {\"outlinewidth\": 0, \"ticks\": \"\"}}, \"type\": \"scatterternary\"}], \"surface\": [{\"colorbar\": {\"outlinewidth\": 0, \"ticks\": \"\"}, \"colorscale\": [[0.0, \"#0d0887\"], [0.1111111111111111, \"#46039f\"], [0.2222222222222222, \"#7201a8\"], [0.3333333333333333, \"#9c179e\"], [0.4444444444444444, \"#bd3786\"], [0.5555555555555556, \"#d8576b\"], [0.6666666666666666, \"#ed7953\"], [0.7777777777777778, \"#fb9f3a\"], [0.8888888888888888, \"#fdca26\"], [1.0, \"#f0f921\"]], \"type\": \"surface\"}], \"table\": [{\"cells\": {\"fill\": {\"color\": \"#EBF0F8\"}, \"line\": {\"color\": \"white\"}}, \"header\": {\"fill\": {\"color\": \"#C8D4E3\"}, \"line\": {\"color\": \"white\"}}, \"type\": \"table\"}]}, \"layout\": {\"annotationdefaults\": {\"arrowcolor\": \"#2a3f5f\", \"arrowhead\": 0, \"arrowwidth\": 1}, \"autotypenumbers\": \"strict\", \"coloraxis\": {\"colorbar\": {\"outlinewidth\": 0, \"ticks\": \"\"}}, \"colorscale\": {\"diverging\": [[0, \"#8e0152\"], [0.1, \"#c51b7d\"], [0.2, \"#de77ae\"], [0.3, \"#f1b6da\"], [0.4, \"#fde0ef\"], [0.5, \"#f7f7f7\"], [0.6, \"#e6f5d0\"], [0.7, \"#b8e186\"], [0.8, \"#7fbc41\"], [0.9, \"#4d9221\"], [1, \"#276419\"]], \"sequential\": [[0.0, \"#0d0887\"], [0.1111111111111111, \"#46039f\"], [0.2222222222222222, \"#7201a8\"], [0.3333333333333333, \"#9c179e\"], [0.4444444444444444, \"#bd3786\"], [0.5555555555555556, \"#d8576b\"], [0.6666666666666666, \"#ed7953\"], [0.7777777777777778, \"#fb9f3a\"], [0.8888888888888888, \"#fdca26\"], [1.0, \"#f0f921\"]], \"sequentialminus\": [[0.0, \"#0d0887\"], [0.1111111111111111, \"#46039f\"], [0.2222222222222222, \"#7201a8\"], [0.3333333333333333, \"#9c179e\"], [0.4444444444444444, \"#bd3786\"], [0.5555555555555556, \"#d8576b\"], [0.6666666666666666, \"#ed7953\"], [0.7777777777777778, \"#fb9f3a\"], [0.8888888888888888, \"#fdca26\"], [1.0, \"#f0f921\"]]}, \"colorway\": [\"#636efa\", \"#EF553B\", \"#00cc96\", \"#ab63fa\", \"#FFA15A\", \"#19d3f3\", \"#FF6692\", \"#B6E880\", \"#FF97FF\", \"#FECB52\"], \"font\": {\"color\": \"#2a3f5f\"}, \"geo\": {\"bgcolor\": \"white\", \"lakecolor\": \"white\", \"landcolor\": \"#E5ECF6\", \"showlakes\": true, \"showland\": true, \"subunitcolor\": \"white\"}, \"hoverlabel\": {\"align\": \"left\"}, \"hovermode\": \"closest\", \"mapbox\": {\"style\": \"light\"}, \"paper_bgcolor\": \"white\", \"plot_bgcolor\": \"#E5ECF6\", \"polar\": {\"angularaxis\": {\"gridcolor\": \"white\", \"linecolor\": \"white\", \"ticks\": \"\"}, \"bgcolor\": \"#E5ECF6\", \"radialaxis\": {\"gridcolor\": \"white\", \"linecolor\": \"white\", \"ticks\": \"\"}}, \"scene\": {\"xaxis\": {\"backgroundcolor\": \"#E5ECF6\", \"gridcolor\": \"white\", \"gridwidth\": 2, \"linecolor\": \"white\", \"showbackground\": true, \"ticks\": \"\", \"zerolinecolor\": \"white\"}, \"yaxis\": {\"backgroundcolor\": \"#E5ECF6\", \"gridcolor\": \"white\", \"gridwidth\": 2, \"linecolor\": \"white\", \"showbackground\": true, \"ticks\": \"\", \"zerolinecolor\": \"white\"}, \"zaxis\": {\"backgroundcolor\": \"#E5ECF6\", \"gridcolor\": \"white\", \"gridwidth\": 2, \"linecolor\": \"white\", \"showbackground\": true, \"ticks\": \"\", \"zerolinecolor\": \"white\"}}, \"shapedefaults\": {\"line\": {\"color\": \"#2a3f5f\"}}, \"ternary\": {\"aaxis\": {\"gridcolor\": \"white\", \"linecolor\": \"white\", \"ticks\": \"\"}, \"baxis\": {\"gridcolor\": \"white\", \"linecolor\": \"white\", \"ticks\": \"\"}, \"bgcolor\": \"#E5ECF6\", \"caxis\": {\"gridcolor\": \"white\", \"linecolor\": \"white\", \"ticks\": \"\"}}, \"title\": {\"x\": 0.05}, \"xaxis\": {\"automargin\": true, \"gridcolor\": \"white\", \"linecolor\": \"white\", \"ticks\": \"\", \"title\": {\"standoff\": 15}, \"zerolinecolor\": \"white\", \"zerolinewidth\": 2}, \"yaxis\": {\"automargin\": true, \"gridcolor\": \"white\", \"linecolor\": \"white\", \"ticks\": \"\", \"title\": {\"standoff\": 15}, \"zerolinecolor\": \"white\", \"zerolinewidth\": 2}}}, \"xaxis\": {\"rangeselector\": {\"buttons\": [{\"count\": 7, \"label\": \"1\\u9031\", \"step\": \"day\"}, {\"count\": 1, \"label\": \"1\\u6708\", \"step\": \"month\"}, {\"count\": 6, \"label\": \"\\u534a\\u5e74\", \"step\": \"month\"}, {\"count\": 1, \"label\": \"1\\u5e74\", \"step\": \"year\"}]}, \"rangeslider\": {\"visible\": true}, \"title\": {\"text\": \"\\u65e5\\u4ed8\"}}, \"yaxis\": {\"title\": {\"text\": \"\\u76f8\\u5834\\uff08\\u30d3\\u30c3\\u30c8\\u30b3\\u30a4\\u30f3\\u5bfe\\u65e5\\u672c\\u5186\\uff09\"}}},                        {\"responsive\": true}                    ).then(function(){\n",
       "                            \n",
       "var gd = document.getElementById('aedec0a5-bbc1-41d2-972d-4b878b62bca3');\n",
       "var x = new MutationObserver(function (mutations, observer) {{\n",
       "        var display = window.getComputedStyle(gd).display;\n",
       "        if (!display || display === 'none') {{\n",
       "            console.log([gd, 'removed!']);\n",
       "            Plotly.purge(gd);\n",
       "            observer.disconnect();\n",
       "        }}\n",
       "}});\n",
       "\n",
       "// Listen for the removal of the full notebook cells\n",
       "var notebookContainer = gd.closest('#notebook-container');\n",
       "if (notebookContainer) {{\n",
       "    x.observe(notebookContainer, {childList: true});\n",
       "}}\n",
       "\n",
       "// Listen for the clearing of the current output cell\n",
       "var outputEl = gd.closest('.output');\n",
       "if (outputEl) {{\n",
       "    x.observe(outputEl, {childList: true});\n",
       "}}\n",
       "\n",
       "                        })                };                });            </script>        </div>"
      ]
     },
     "metadata": {},
     "output_type": "display_data"
    }
   ],
   "source": [
    "# グラフとレイアウトの登録\n",
    "go.Figure(\n",
    "    data=real_graph,\n",
    "    layout=layout_graph\n",
    ")"
   ]
  },
  {
   "cell_type": "code",
   "execution_count": 10,
   "metadata": {},
   "outputs": [
    {
     "data": {
      "image/png": "[encoded data removed]",
      "text/plain": [
       "<Figure size 1080x432 with 1 Axes>"
      ]
     },
     "metadata": {
      "needs_background": "light"
     },
     "output_type": "display_data"
    }
   ],
   "source": [
    "import matplotlib.pyplot as plt\n",
    "%matplotlib inline\n",
    "\n",
    "# グラフを描画\n",
    "plt.figure(figsize=(15,6))\n",
    "plt.plot(dates, real_prices, label=\"real_price\")\n",
    "plt.xlabel(\"day\", fontsize=15)\n",
    "plt.ylabel(\"price\", fontsize=15)\n",
    "plt.legend()\n",
    "plt.show()"
   ]
  },
  {
   "cell_type": "code",
   "execution_count": 14,
   "metadata": {},
   "outputs": [
    {
     "data": {
      "image/png": "[encoded data removed]",
      "text/plain": [
       "<Figure size 432x288 with 1 Axes>"
      ]
     },
     "metadata": {
      "needs_background": "light"
     },
     "output_type": "display_data"
    }
   ],
   "source": [
    "df = pd.DataFrame({'date':dates, 'real_price':real_prices})   \n",
    "plt.plot(df['date'][0:, df['real_price'], label=\"real_price\")\n",
    "plt.legend()\n",
    "plt.show()"
   ]
  },
  {
   "cell_type": "code",
   "execution_count": 16,
   "metadata": {},
   "outputs": [
    {
     "data": {
      "text/html": [
       "<div>\n",
       "<style scoped>\n",
       "    .dataframe tbody tr th:only-of-type {\n",
       "        vertical-align: middle;\n",
       "    }\n",
       "\n",
       "    .dataframe tbody tr th {\n",
       "        vertical-align: top;\n",
       "    }\n",
       "\n",
       "    .dataframe thead th {\n",
       "        text-align: right;\n",
       "    }\n",
       "</style>\n",
       "<table border=\"1\" class=\"dataframe\">\n",
       "  <thead>\n",
       "    <tr style=\"text-align: right;\">\n",
       "      <th></th>\n",
       "      <th>date</th>\n",
       "      <th>real_price</th>\n",
       "    </tr>\n",
       "  </thead>\n",
       "  <tbody>\n",
       "    <tr>\n",
       "      <th>4647</th>\n",
       "      <td>2021-03-20 09:00:00</td>\n",
       "      <td>6327712.0</td>\n",
       "    </tr>\n",
       "    <tr>\n",
       "      <th>4648</th>\n",
       "      <td>2021-03-21 09:00:00</td>\n",
       "      <td>6333656.0</td>\n",
       "    </tr>\n",
       "    <tr>\n",
       "      <th>4649</th>\n",
       "      <td>2021-03-22 09:00:00</td>\n",
       "      <td>6257700.0</td>\n",
       "    </tr>\n",
       "    <tr>\n",
       "      <th>4650</th>\n",
       "      <td>2021-03-23 09:00:00</td>\n",
       "      <td>6254588.0</td>\n",
       "    </tr>\n",
       "    <tr>\n",
       "      <th>4651</th>\n",
       "      <td>2021-03-24 09:00:00</td>\n",
       "      <td>6259890.0</td>\n",
       "    </tr>\n",
       "  </tbody>\n",
       "</table>\n",
       "</div>"
      ],
      "text/plain": [
       "                    date  real_price\n",
       "4647 2021-03-20 09:00:00   6327712.0\n",
       "4648 2021-03-21 09:00:00   6333656.0\n",
       "4649 2021-03-22 09:00:00   6257700.0\n",
       "4650 2021-03-23 09:00:00   6254588.0\n",
       "4651 2021-03-24 09:00:00   6259890.0"
      ]
     },
     "execution_count": 16,
     "metadata": {},
     "output_type": "execute_result"
    }
   ],
   "source": [
    "df.tail()"
   ]
  },
  {
   "cell_type": "code",
   "execution_count": 17,
   "metadata": {},
   "outputs": [
    {
     "data": {
      "text/plain": [
       "0     376384.0\n",
       "1     369767.0\n",
       "2     368506.0\n",
       "3     396319.0\n",
       "4     395754.0\n",
       "5     398468.0\n",
       "6     394797.0\n",
       "7     395085.0\n",
       "8     395099.0\n",
       "9     392999.0\n",
       "10    393923.0\n",
       "11    395229.0\n",
       "12    400000.0\n",
       "13    427531.0\n",
       "14    429902.0\n",
       "15    435816.0\n",
       "16    432185.0\n",
       "17    435789.0\n",
       "18    453900.0\n",
       "19    413712.0\n",
       "Name: real_price, dtype: float64"
      ]
     },
     "execution_count": 17,
     "metadata": {},
     "output_type": "execute_result"
    }
   ],
   "source": [
    "df['real_price'][0:20]"
   ]
  },
  {
   "cell_type": "code",
   "execution_count": 2,
   "metadata": {},
   "outputs": [
    {
     "name": "stdout",
     "output_type": "stream",
     "text": [
      "2021-03-21 21:56:42,181 INFO sqlalchemy.engine.base.Engine SELECT CAST('test plain returns' AS VARCHAR(60)) AS anon_1\n",
      "2021-03-21 21:56:42,185 INFO sqlalchemy.engine.base.Engine ()\n",
      "2021-03-21 21:56:42,190 INFO sqlalchemy.engine.base.Engine SELECT CAST('test unicode returns' AS VARCHAR(60)) AS anon_1\n",
      "2021-03-21 21:56:42,193 INFO sqlalchemy.engine.base.Engine ()\n",
      "2021-03-21 21:56:42,202 INFO sqlalchemy.engine.base.Engine PRAGMA main.table_info(\"data\")\n",
      "2021-03-21 21:56:42,205 INFO sqlalchemy.engine.base.Engine ()\n",
      "2021-03-21 21:56:42,211 INFO sqlalchemy.engine.base.Engine PRAGMA temp.table_info(\"data\")\n",
      "2021-03-21 21:56:42,215 INFO sqlalchemy.engine.base.Engine ()\n",
      "2021-03-21 21:56:42,222 INFO sqlalchemy.engine.base.Engine \n",
      "CREATE TABLE data (\n",
      "\tid INTEGER NOT NULL, \n",
      "\tdate DATETIME, \n",
      "\treal_price FLOAT, \n",
      "\tpred_price FLOAT, \n",
      "\ttimestamp DATETIME, \n",
      "\tPRIMARY KEY (id)\n",
      ")\n",
      "\n",
      "\n",
      "2021-03-21 21:56:42,222 INFO sqlalchemy.engine.base.Engine ()\n",
      "2021-03-21 21:56:42,256 INFO sqlalchemy.engine.base.Engine COMMIT\n"
     ]
    }
   ],
   "source": [
    "init_db()"
   ]
  },
  {
   "cell_type": "code",
   "execution_count": 3,
   "metadata": {},
   "outputs": [
    {
     "name": "stdout",
     "output_type": "stream",
     "text": [
      "WARNING:tensorflow:From C:\\Users\\tomot\\anaconda3\\envs\\dashbitcopy\\lib\\site-packages\\keras\\backend\\tensorflow_backend.py:74: The name tf.get_default_graph is deprecated. Please use tf.compat.v1.get_default_graph instead.\n",
      "\n",
      "WARNING:tensorflow:From C:\\Users\\tomot\\anaconda3\\envs\\dashbitcopy\\lib\\site-packages\\keras\\backend\\tensorflow_backend.py:517: The name tf.placeholder is deprecated. Please use tf.compat.v1.placeholder instead.\n",
      "\n",
      "WARNING:tensorflow:From C:\\Users\\tomot\\anaconda3\\envs\\dashbitcopy\\lib\\site-packages\\keras\\backend\\tensorflow_backend.py:4138: The name tf.random_uniform is deprecated. Please use tf.random.uniform instead.\n",
      "\n",
      "WARNING:tensorflow:From C:\\Users\\tomot\\anaconda3\\envs\\dashbitcopy\\lib\\site-packages\\keras\\backend\\tensorflow_backend.py:133: The name tf.placeholder_with_default is deprecated. Please use tf.compat.v1.placeholder_with_default instead.\n",
      "\n",
      "WARNING:tensorflow:From C:\\Users\\tomot\\anaconda3\\envs\\dashbitcopy\\lib\\site-packages\\keras\\backend\\tensorflow_backend.py:3445: calling dropout (from tensorflow.python.ops.nn_ops) with keep_prob is deprecated and will be removed in a future version.\n",
      "Instructions for updating:\n",
      "Please use `rate` instead of `keep_prob`. Rate should be set to `rate = 1 - keep_prob`.\n",
      "WARNING:tensorflow:From C:\\Users\\tomot\\anaconda3\\envs\\dashbitcopy\\lib\\site-packages\\keras\\backend\\tensorflow_backend.py:174: The name tf.get_default_session is deprecated. Please use tf.compat.v1.get_default_session instead.\n",
      "\n",
      "WARNING:tensorflow:From C:\\Users\\tomot\\anaconda3\\envs\\dashbitcopy\\lib\\site-packages\\keras\\backend\\tensorflow_backend.py:181: The name tf.ConfigProto is deprecated. Please use tf.compat.v1.ConfigProto instead.\n",
      "\n",
      "WARNING:tensorflow:From C:\\Users\\tomot\\anaconda3\\envs\\dashbitcopy\\lib\\site-packages\\keras\\backend\\tensorflow_backend.py:186: The name tf.Session is deprecated. Please use tf.compat.v1.Session instead.\n",
      "\n",
      "WARNING:tensorflow:From C:\\Users\\tomot\\anaconda3\\envs\\dashbitcopy\\lib\\site-packages\\keras\\backend\\tensorflow_backend.py:190: The name tf.global_variables is deprecated. Please use tf.compat.v1.global_variables instead.\n",
      "\n",
      "WARNING:tensorflow:From C:\\Users\\tomot\\anaconda3\\envs\\dashbitcopy\\lib\\site-packages\\keras\\backend\\tensorflow_backend.py:199: The name tf.is_variable_initialized is deprecated. Please use tf.compat.v1.is_variable_initialized instead.\n",
      "\n",
      "WARNING:tensorflow:From C:\\Users\\tomot\\anaconda3\\envs\\dashbitcopy\\lib\\site-packages\\keras\\backend\\tensorflow_backend.py:206: The name tf.variables_initializer is deprecated. Please use tf.compat.v1.variables_initializer instead.\n",
      "\n",
      "WARNING:tensorflow:From C:\\Users\\tomot\\anaconda3\\envs\\dashbitcopy\\lib\\site-packages\\keras\\optimizers.py:790: The name tf.train.Optimizer is deprecated. Please use tf.compat.v1.train.Optimizer instead.\n",
      "\n",
      "WARNING:tensorflow:From C:\\Users\\tomot\\anaconda3\\envs\\dashbitcopy\\lib\\site-packages\\tensorflow_core\\python\\ops\\math_grad.py:1424: where (from tensorflow.python.ops.array_ops) is deprecated and will be removed in a future version.\n",
      "Instructions for updating:\n",
      "Use tf.where in 2.0, which has the same broadcast rule as np.where\n",
      "WARNING:tensorflow:From C:\\Users\\tomot\\anaconda3\\envs\\dashbitcopy\\lib\\site-packages\\keras\\backend\\tensorflow_backend.py:986: The name tf.assign_add is deprecated. Please use tf.compat.v1.assign_add instead.\n",
      "\n",
      "WARNING:tensorflow:From C:\\Users\\tomot\\anaconda3\\envs\\dashbitcopy\\lib\\site-packages\\keras\\backend\\tensorflow_backend.py:973: The name tf.assign is deprecated. Please use tf.compat.v1.assign instead.\n",
      "\n",
      "2021-03-21 21:56:54,487 INFO sqlalchemy.engine.base.Engine BEGIN (implicit)\n",
      "2021-03-21 21:56:54,508 INFO sqlalchemy.engine.base.Engine INSERT INTO data (date, real_price, pred_price, timestamp) VALUES (?, ?, ?, ?)\n",
      "2021-03-21 21:56:54,508 INFO sqlalchemy.engine.base.Engine ('2019-02-06 09:00:00.000000', 376384.0, 374435.264564164, '2021-03-21 21:56:37.175518')\n",
      "2021-03-21 21:56:54,526 INFO sqlalchemy.engine.base.Engine INSERT INTO data (date, real_price, pred_price, timestamp) VALUES (?, ?, ?, ?)\n",
      "2021-03-21 21:56:54,530 INFO sqlalchemy.engine.base.Engine ('2019-02-07 09:00:00.000000', 369767.0, 376134.868961976, '2021-03-21 21:56:37.175518')\n",
      "2021-03-21 21:56:54,535 INFO sqlalchemy.engine.base.Engine INSERT INTO data (date, real_price, pred_price, timestamp) VALUES (?, ?, ?, ?)\n",
      "2021-03-21 21:56:54,540 INFO sqlalchemy.engine.base.Engine ('2019-02-08 09:00:00.000000', 368506.0, 371844.7684741403, '2021-03-21 21:56:37.175518')\n",
      "2021-03-21 21:56:54,544 INFO sqlalchemy.engine.base.Engine INSERT INTO data (date, real_price, pred_price, timestamp) VALUES (?, ?, ?, ?)\n",
      "2021-03-21 21:56:54,550 INFO sqlalchemy.engine.base.Engine ('2019-02-09 09:00:00.000000', 396319.0, 369229.603010562, '2021-03-21 21:56:37.175518')\n",
      "2021-03-21 21:56:54,551 INFO sqlalchemy.engine.base.Engine INSERT INTO data (date, real_price, pred_price, timestamp) VALUES (?, ?, ?, ?)\n",
      "2021-03-21 21:56:54,558 INFO sqlalchemy.engine.base.Engine ('2019-02-10 09:00:00.000000', 395754.0, 397564.9049030064, '2021-03-21 21:56:37.175518')\n",
      "2021-03-21 21:56:54,562 INFO sqlalchemy.engine.base.Engine INSERT INTO data (date, real_price, pred_price, timestamp) VALUES (?, ?, ?, ?)\n",
      "2021-03-21 21:56:54,567 INFO sqlalchemy.engine.base.Engine ('2019-02-11 09:00:00.000000', 398468.0, 401705.6929625448, '2021-03-21 21:56:37.175518')\n",
      "2021-03-21 21:56:54,573 INFO sqlalchemy.engine.base.Engine INSERT INTO data (date, real_price, pred_price, timestamp) VALUES (?, ?, ?, ?)\n",
      "2021-03-21 21:56:54,578 INFO sqlalchemy.engine.base.Engine ('2019-02-12 09:00:00.000000', 394797.0, 401197.869017694, '2021-03-21 21:56:37.175518')\n",
      "2021-03-21 21:56:54,585 INFO sqlalchemy.engine.base.Engine INSERT INTO data (date, real_price, pred_price, timestamp) VALUES (?, ?, ?, ?)\n",
      "2021-03-21 21:56:54,587 INFO sqlalchemy.engine.base.Engine ('2019-02-13 09:00:00.000000', 395085.0, 395375.3397073326, '2021-03-21 21:56:37.175518')\n",
      "2021-03-21 21:56:54,594 INFO sqlalchemy.engine.base.Engine INSERT INTO data (date, real_price, pred_price, timestamp) VALUES (?, ?, ?, ?)\n",
      "2021-03-21 21:56:54,595 INFO sqlalchemy.engine.base.Engine ('2019-02-14 09:00:00.000000', 395099.0, 395174.24103740975, '2021-03-21 21:56:37.175518')\n",
      "2021-03-21 21:56:54,600 INFO sqlalchemy.engine.base.Engine INSERT INTO data (date, real_price, pred_price, timestamp) VALUES (?, ?, ?, ?)\n",
      "2021-03-21 21:56:54,605 INFO sqlalchemy.engine.base.Engine ('2019-02-15 09:00:00.000000', 392999.0, 395144.00621947175, '2021-03-21 21:56:37.175518')\n",
      "2021-03-21 21:56:54,606 INFO sqlalchemy.engine.base.Engine INSERT INTO data (date, real_price, pred_price, timestamp) VALUES (?, ?, ?, ?)\n",
      "2021-03-21 21:56:54,614 INFO sqlalchemy.engine.base.Engine ('2019-02-16 09:00:00.000000', 393923.0, 393785.94556978205, '2021-03-21 21:56:37.175518')\n",
      "2021-03-21 21:56:54,619 INFO sqlalchemy.engine.base.Engine INSERT INTO data (date, real_price, pred_price, timestamp) VALUES (?, ?, ?, ?)\n",
      "2021-03-21 21:56:54,622 INFO sqlalchemy.engine.base.Engine ('2019-02-17 09:00:00.000000', 395229.0, 393671.4757969468, '2021-03-21 21:56:37.175518')\n",
      "2021-03-21 21:56:54,626 INFO sqlalchemy.engine.base.Engine INSERT INTO data (date, real_price, pred_price, timestamp) VALUES (?, ?, ?, ?)\n",
      "2021-03-21 21:56:54,632 INFO sqlalchemy.engine.base.Engine ('2019-02-18 09:00:00.000000', 400000.0, 395010.6552306787, '2021-03-21 21:56:37.175518')\n",
      "2021-03-21 21:56:54,636 INFO sqlalchemy.engine.base.Engine INSERT INTO data (date, real_price, pred_price, timestamp) VALUES (?, ?, ?, ?)\n",
      "2021-03-21 21:56:54,641 INFO sqlalchemy.engine.base.Engine ('2019-02-19 09:00:00.000000', 427531.0, 401050.3830590602, '2021-03-21 21:56:37.175518')\n",
      "2021-03-21 21:56:54,645 INFO sqlalchemy.engine.base.Engine INSERT INTO data (date, real_price, pred_price, timestamp) VALUES (?, ?, ?, ?)\n",
      "2021-03-21 21:56:54,650 INFO sqlalchemy.engine.base.Engine ('2019-02-20 09:00:00.000000', 429902.0, 433234.44975630584, '2021-03-21 21:56:37.175518')\n",
      "2021-03-21 21:56:54,656 INFO sqlalchemy.engine.base.Engine INSERT INTO data (date, real_price, pred_price, timestamp) VALUES (?, ?, ?, ?)\n",
      "2021-03-21 21:56:54,659 INFO sqlalchemy.engine.base.Engine ('2019-02-21 09:00:00.000000', 435816.0, 436384.72548131517, '2021-03-21 21:56:37.175518')\n",
      "2021-03-21 21:56:54,666 INFO sqlalchemy.engine.base.Engine INSERT INTO data (date, real_price, pred_price, timestamp) VALUES (?, ?, ?, ?)\n"
     ]
    },
    {
     "name": "stdout",
     "output_type": "stream",
     "text": [
      "2021-03-21 21:56:54,669 INFO sqlalchemy.engine.base.Engine ('2019-02-22 09:00:00.000000', 432185.0, 439273.08793258155, '2021-03-21 21:56:37.175518')\n",
      "2021-03-21 21:56:54,675 INFO sqlalchemy.engine.base.Engine INSERT INTO data (date, real_price, pred_price, timestamp) VALUES (?, ?, ?, ?)\n",
      "2021-03-21 21:56:54,677 INFO sqlalchemy.engine.base.Engine ('2019-02-23 09:00:00.000000', 435789.0, 433059.06565499445, '2021-03-21 21:56:37.175518')\n",
      "2021-03-21 21:56:54,682 INFO sqlalchemy.engine.base.Engine INSERT INTO data (date, real_price, pred_price, timestamp) VALUES (?, ?, ?, ?)\n",
      "2021-03-21 21:56:54,687 INFO sqlalchemy.engine.base.Engine ('2019-02-24 09:00:00.000000', 453900.0, 436407.88000906724, '2021-03-21 21:56:37.175518')\n",
      "2021-03-21 21:56:54,687 INFO sqlalchemy.engine.base.Engine INSERT INTO data (date, real_price, pred_price, timestamp) VALUES (?, ?, ?, ?)\n",
      "2021-03-21 21:56:54,693 INFO sqlalchemy.engine.base.Engine ('2019-02-25 09:00:00.000000', 413712.0, 457413.17844889656, '2021-03-21 21:56:37.175518')\n",
      "2021-03-21 21:56:54,699 INFO sqlalchemy.engine.base.Engine INSERT INTO data (date, real_price, pred_price, timestamp) VALUES (?, ?, ?, ?)\n",
      "2021-03-21 21:56:54,702 INFO sqlalchemy.engine.base.Engine ('2019-02-26 09:00:00.000000', 423575.0, 423718.03037300525, '2021-03-21 21:56:37.175518')\n",
      "2021-03-21 21:56:54,705 INFO sqlalchemy.engine.base.Engine INSERT INTO data (date, real_price, pred_price, timestamp) VALUES (?, ?, ?, ?)\n",
      "2021-03-21 21:56:54,710 INFO sqlalchemy.engine.base.Engine ('2019-02-27 09:00:00.000000', 419629.0, 421928.6516571811, '2021-03-21 21:56:37.175518')\n",
      "2021-03-21 21:56:54,716 INFO sqlalchemy.engine.base.Engine INSERT INTO data (date, real_price, pred_price, timestamp) VALUES (?, ?, ?, ?)\n",
      "2021-03-21 21:56:54,718 INFO sqlalchemy.engine.base.Engine ('2019-02-28 09:00:00.000000', 421267.0, 419975.1155068473, '2021-03-21 21:56:37.175518')\n",
      "2021-03-21 21:56:54,724 INFO sqlalchemy.engine.base.Engine INSERT INTO data (date, real_price, pred_price, timestamp) VALUES (?, ?, ?, ?)\n",
      "2021-03-21 21:56:54,728 INFO sqlalchemy.engine.base.Engine ('2019-03-01 09:00:00.000000', 422865.0, 423140.2525478047, '2021-03-21 21:56:37.175518')\n",
      "2021-03-21 21:56:54,733 INFO sqlalchemy.engine.base.Engine INSERT INTO data (date, real_price, pred_price, timestamp) VALUES (?, ?, ?, ?)\n",
      "2021-03-21 21:56:54,734 INFO sqlalchemy.engine.base.Engine ('2019-03-02 09:00:00.000000', 425943.0, 423663.1038641456, '2021-03-21 21:56:37.175518')\n",
      "2021-03-21 21:56:54,743 INFO sqlalchemy.engine.base.Engine INSERT INTO data (date, real_price, pred_price, timestamp) VALUES (?, ?, ?, ?)\n",
      "2021-03-21 21:56:54,747 INFO sqlalchemy.engine.base.Engine ('2019-03-03 09:00:00.000000', 426039.0, 426774.0370958134, '2021-03-21 21:56:37.175518')\n",
      "2021-03-21 21:56:54,750 INFO sqlalchemy.engine.base.Engine INSERT INTO data (date, real_price, pred_price, timestamp) VALUES (?, ?, ?, ?)\n",
      "2021-03-21 21:56:54,750 INFO sqlalchemy.engine.base.Engine ('2019-03-04 09:00:00.000000', 423661.0, 426707.292431373, '2021-03-21 21:56:37.175518')\n",
      "2021-03-21 21:56:54,756 INFO sqlalchemy.engine.base.Engine INSERT INTO data (date, real_price, pred_price, timestamp) VALUES (?, ?, ?, ?)\n",
      "2021-03-21 21:56:54,760 INFO sqlalchemy.engine.base.Engine ('2019-03-05 09:00:00.000000', 413871.0, 423841.1011263954, '2021-03-21 21:56:37.175518')\n",
      "2021-03-21 21:56:54,766 INFO sqlalchemy.engine.base.Engine INSERT INTO data (date, real_price, pred_price, timestamp) VALUES (?, ?, ?, ?)\n",
      "2021-03-21 21:56:54,770 INFO sqlalchemy.engine.base.Engine ('2019-03-06 09:00:00.000000', 429450.0, 417342.0721115818, '2021-03-21 21:56:37.175518')\n",
      "2021-03-21 21:56:54,775 INFO sqlalchemy.engine.base.Engine INSERT INTO data (date, real_price, pred_price, timestamp) VALUES (?, ?, ?, ?)\n",
      "2021-03-21 21:56:54,780 INFO sqlalchemy.engine.base.Engine ('2019-03-07 09:00:00.000000', 429848.0, 426327.437754056, '2021-03-21 21:56:37.175518')\n",
      "2021-03-21 21:56:54,787 INFO sqlalchemy.engine.base.Engine INSERT INTO data (date, real_price, pred_price, timestamp) VALUES (?, ?, ?, ?)\n",
      "2021-03-21 21:56:54,791 INFO sqlalchemy.engine.base.Engine ('2019-03-08 09:00:00.000000', 430100.0, 431796.4492062242, '2021-03-21 21:56:37.175518')\n",
      "2021-03-21 21:56:54,793 INFO sqlalchemy.engine.base.Engine INSERT INTO data (date, real_price, pred_price, timestamp) VALUES (?, ?, ?, ?)\n",
      "2021-03-21 21:56:54,800 INFO sqlalchemy.engine.base.Engine ('2019-03-09 09:00:00.000000', 427484.0, 431602.9755012821, '2021-03-21 21:56:37.175518')\n",
      "2021-03-21 21:56:54,805 INFO sqlalchemy.engine.base.Engine INSERT INTO data (date, real_price, pred_price, timestamp) VALUES (?, ?, ?, ?)\n",
      "2021-03-21 21:56:54,807 INFO sqlalchemy.engine.base.Engine ('2019-03-10 09:00:00.000000', 435287.0, 427672.81348243885, '2021-03-21 21:56:37.175518')\n",
      "2021-03-21 21:56:54,813 INFO sqlalchemy.engine.base.Engine INSERT INTO data (date, real_price, pred_price, timestamp) VALUES (?, ?, ?, ?)\n",
      "2021-03-21 21:56:54,816 INFO sqlalchemy.engine.base.Engine ('2019-03-11 09:00:00.000000', 433206.0, 435354.96711900854, '2021-03-21 21:56:37.175518')\n",
      "2021-03-21 21:56:54,818 INFO sqlalchemy.engine.base.Engine INSERT INTO data (date, real_price, pred_price, timestamp) VALUES (?, ?, ?, ?)\n",
      "2021-03-21 21:56:54,823 INFO sqlalchemy.engine.base.Engine ('2019-03-12 09:00:00.000000', 428795.0, 434457.73888490873, '2021-03-21 21:56:37.175518')\n",
      "2021-03-21 21:56:54,827 INFO sqlalchemy.engine.base.Engine INSERT INTO data (date, real_price, pred_price, timestamp) VALUES (?, ?, ?, ?)\n",
      "2021-03-21 21:56:54,833 INFO sqlalchemy.engine.base.Engine ('2019-03-13 09:00:00.000000', 429580.0, 429742.31497307465, '2021-03-21 21:56:37.175518')\n",
      "2021-03-21 21:56:54,837 INFO sqlalchemy.engine.base.Engine INSERT INTO data (date, real_price, pred_price, timestamp) VALUES (?, ?, ?, ?)\n",
      "2021-03-21 21:56:54,840 INFO sqlalchemy.engine.base.Engine ('2019-03-14 09:00:00.000000', 428300.0, 429480.1013028369, '2021-03-21 21:56:37.175518')\n",
      "2021-03-21 21:56:54,844 INFO sqlalchemy.engine.base.Engine INSERT INTO data (date, real_price, pred_price, timestamp) VALUES (?, ?, ?, ?)\n",
      "2021-03-21 21:56:54,848 INFO sqlalchemy.engine.base.Engine ('2019-03-15 09:00:00.000000', 430167.0, 428648.7768476119, '2021-03-21 21:56:37.175518')\n",
      "2021-03-21 21:56:54,852 INFO sqlalchemy.engine.base.Engine INSERT INTO data (date, real_price, pred_price, timestamp) VALUES (?, ?, ?, ?)\n",
      "2021-03-21 21:56:54,855 INFO sqlalchemy.engine.base.Engine ('2019-03-16 09:00:00.000000', 434178.0, 430013.3036425086, '2021-03-21 21:56:37.175518')\n",
      "2021-03-21 21:56:54,860 INFO sqlalchemy.engine.base.Engine INSERT INTO data (date, real_price, pred_price, timestamp) VALUES (?, ?, ?, ?)\n",
      "2021-03-21 21:56:54,864 INFO sqlalchemy.engine.base.Engine ('2019-03-17 09:00:00.000000', 443635.0, 435130.70742669527, '2021-03-21 21:56:37.175518')\n",
      "2021-03-21 21:56:54,870 INFO sqlalchemy.engine.base.Engine INSERT INTO data (date, real_price, pred_price, timestamp) VALUES (?, ?, ?, ?)\n",
      "2021-03-21 21:56:54,874 INFO sqlalchemy.engine.base.Engine ('2019-03-18 09:00:00.000000', 441454.0, 446328.8301496607, '2021-03-21 21:56:37.175518')\n",
      "2021-03-21 21:56:54,880 INFO sqlalchemy.engine.base.Engine INSERT INTO data (date, real_price, pred_price, timestamp) VALUES (?, ?, ?, ?)\n",
      "2021-03-21 21:56:54,885 INFO sqlalchemy.engine.base.Engine ('2019-03-19 09:00:00.000000', 442176.0, 443080.0303046281, '2021-03-21 21:56:37.175518')\n",
      "2021-03-21 21:56:54,890 INFO sqlalchemy.engine.base.Engine INSERT INTO data (date, real_price, pred_price, timestamp) VALUES (?, ?, ?, ?)\n",
      "2021-03-21 21:56:54,891 INFO sqlalchemy.engine.base.Engine ('2019-03-20 09:00:00.000000', 445064.0, 442769.6802374639, '2021-03-21 21:56:37.175518')\n",
      "2021-03-21 21:56:54,897 INFO sqlalchemy.engine.base.Engine INSERT INTO data (date, real_price, pred_price, timestamp) VALUES (?, ?, ?, ?)\n",
      "2021-03-21 21:56:54,903 INFO sqlalchemy.engine.base.Engine ('2019-03-21 09:00:00.000000', 445814.0, 445830.47244858, '2021-03-21 21:56:37.175518')\n",
      "2021-03-21 21:56:54,907 INFO sqlalchemy.engine.base.Engine INSERT INTO data (date, real_price, pred_price, timestamp) VALUES (?, ?, ?, ?)\n",
      "2021-03-21 21:56:54,907 INFO sqlalchemy.engine.base.Engine ('2019-03-22 09:00:00.000000', 440825.0, 446595.1515106955, '2021-03-21 21:56:37.175518')\n",
      "2021-03-21 21:56:54,917 INFO sqlalchemy.engine.base.Engine INSERT INTO data (date, real_price, pred_price, timestamp) VALUES (?, ?, ?, ?)\n"
     ]
    },
    {
     "name": "stdout",
     "output_type": "stream",
     "text": [
      "2021-03-21 21:56:54,921 INFO sqlalchemy.engine.base.Engine ('2019-03-23 09:00:00.000000', 438504.0, 441768.5346370086, '2021-03-21 21:56:37.175518')\n",
      "2021-03-21 21:56:54,927 INFO sqlalchemy.engine.base.Engine INSERT INTO data (date, real_price, pred_price, timestamp) VALUES (?, ?, ?, ?)\n",
      "2021-03-21 21:56:54,929 INFO sqlalchemy.engine.base.Engine ('2019-03-24 09:00:00.000000', 438500.0, 439467.6274933894, '2021-03-21 21:56:37.175518')\n",
      "2021-03-21 21:56:54,935 INFO sqlalchemy.engine.base.Engine INSERT INTO data (date, real_price, pred_price, timestamp) VALUES (?, ?, ?, ?)\n",
      "2021-03-21 21:56:54,935 INFO sqlalchemy.engine.base.Engine ('2019-03-25 09:00:00.000000', 436971.0, 438535.4450731954, '2021-03-21 21:56:37.175518')\n",
      "2021-03-21 21:56:54,940 INFO sqlalchemy.engine.base.Engine INSERT INTO data (date, real_price, pred_price, timestamp) VALUES (?, ?, ?, ?)\n",
      "2021-03-21 21:56:54,945 INFO sqlalchemy.engine.base.Engine ('2019-03-26 09:00:00.000000', 429928.0, 437616.6590792128, '2021-03-21 21:56:37.175518')\n",
      "2021-03-21 21:56:54,950 INFO sqlalchemy.engine.base.Engine INSERT INTO data (date, real_price, pred_price, timestamp) VALUES (?, ?, ?, ?)\n",
      "2021-03-21 21:56:54,957 INFO sqlalchemy.engine.base.Engine ('2019-03-27 09:00:00.000000', 433151.0, 432629.2564057041, '2021-03-21 21:56:37.175518')\n",
      "2021-03-21 21:56:54,961 INFO sqlalchemy.engine.base.Engine INSERT INTO data (date, real_price, pred_price, timestamp) VALUES (?, ?, ?, ?)\n",
      "2021-03-21 21:56:54,967 INFO sqlalchemy.engine.base.Engine ('2019-03-28 09:00:00.000000', 444477.0, 432255.967279344, '2021-03-21 21:56:37.175518')\n",
      "2021-03-21 21:56:54,970 INFO sqlalchemy.engine.base.Engine INSERT INTO data (date, real_price, pred_price, timestamp) VALUES (?, ?, ?, ?)\n",
      "2021-03-21 21:56:54,970 INFO sqlalchemy.engine.base.Engine ('2019-03-29 09:00:00.000000', 443222.0, 444315.4333366105, '2021-03-21 21:56:37.175518')\n",
      "2021-03-21 21:56:54,978 INFO sqlalchemy.engine.base.Engine INSERT INTO data (date, real_price, pred_price, timestamp) VALUES (?, ?, ?, ?)\n",
      "2021-03-21 21:56:54,983 INFO sqlalchemy.engine.base.Engine ('2019-03-30 09:00:00.000000', 452501.0, 445613.06901739025, '2021-03-21 21:56:37.175518')\n",
      "2021-03-21 21:56:54,987 INFO sqlalchemy.engine.base.Engine INSERT INTO data (date, real_price, pred_price, timestamp) VALUES (?, ?, ?, ?)\n",
      "2021-03-21 21:56:54,987 INFO sqlalchemy.engine.base.Engine ('2019-03-31 09:00:00.000000', 453000.0, 454939.94987614657, '2021-03-21 21:56:37.175518')\n",
      "2021-03-21 21:56:54,996 INFO sqlalchemy.engine.base.Engine INSERT INTO data (date, real_price, pred_price, timestamp) VALUES (?, ?, ?, ?)\n",
      "2021-03-21 21:56:55,003 INFO sqlalchemy.engine.base.Engine ('2019-04-01 09:00:00.000000', 453417.0, 454934.8741418593, '2021-03-21 21:56:37.175518')\n",
      "2021-03-21 21:56:55,008 INFO sqlalchemy.engine.base.Engine INSERT INTO data (date, real_price, pred_price, timestamp) VALUES (?, ?, ?, ?)\n",
      "2021-03-21 21:56:55,010 INFO sqlalchemy.engine.base.Engine ('2019-04-02 09:00:00.000000', 460500.0, 454339.2872975818, '2021-03-21 21:56:37.175518')\n",
      "2021-03-21 21:56:55,015 INFO sqlalchemy.engine.base.Engine INSERT INTO data (date, real_price, pred_price, timestamp) VALUES (?, ?, ?, ?)\n",
      "2021-03-21 21:56:55,019 INFO sqlalchemy.engine.base.Engine ('2019-04-03 09:00:00.000000', 545469.0, 462023.0610379239, '2021-03-21 21:56:37.175518')\n",
      "2021-03-21 21:56:55,024 INFO sqlalchemy.engine.base.Engine INSERT INTO data (date, real_price, pred_price, timestamp) VALUES (?, ?, ?, ?)\n",
      "2021-03-21 21:56:55,029 INFO sqlalchemy.engine.base.Engine ('2019-04-04 09:00:00.000000', 555300.0, 559700.2500674601, '2021-03-21 21:56:37.175518')\n",
      "2021-03-21 21:56:55,035 INFO sqlalchemy.engine.base.Engine INSERT INTO data (date, real_price, pred_price, timestamp) VALUES (?, ?, ?, ?)\n",
      "2021-03-21 21:56:55,035 INFO sqlalchemy.engine.base.Engine ('2019-04-05 09:00:00.000000', 548000.0, 575786.0000288205, '2021-03-21 21:56:37.175518')\n",
      "2021-03-21 21:56:55,042 INFO sqlalchemy.engine.base.Engine INSERT INTO data (date, real_price, pred_price, timestamp) VALUES (?, ?, ?, ?)\n",
      "2021-03-21 21:56:55,049 INFO sqlalchemy.engine.base.Engine ('2019-04-06 09:00:00.000000', 562532.0, 554763.8789683782, '2021-03-21 21:56:37.175518')\n",
      "2021-03-21 21:56:55,054 INFO sqlalchemy.engine.base.Engine INSERT INTO data (date, real_price, pred_price, timestamp) VALUES (?, ?, ?, ?)\n",
      "2021-03-21 21:56:55,058 INFO sqlalchemy.engine.base.Engine ('2019-04-07 09:00:00.000000', 563489.0, 565164.6938781488, '2021-03-21 21:56:37.175518')\n",
      "2021-03-21 21:56:55,061 INFO sqlalchemy.engine.base.Engine INSERT INTO data (date, real_price, pred_price, timestamp) VALUES (?, ?, ?, ?)\n",
      "2021-03-21 21:56:55,066 INFO sqlalchemy.engine.base.Engine ('2019-04-08 09:00:00.000000', 579725.0, 566677.2775204162, '2021-03-21 21:56:37.175518')\n",
      "2021-03-21 21:56:55,073 INFO sqlalchemy.engine.base.Engine INSERT INTO data (date, real_price, pred_price, timestamp) VALUES (?, ?, ?, ?)\n",
      "2021-03-21 21:56:55,073 INFO sqlalchemy.engine.base.Engine ('2019-04-09 09:00:00.000000', 588520.0, 584147.5645584418, '2021-03-21 21:56:37.175518')\n",
      "2021-03-21 21:56:55,077 INFO sqlalchemy.engine.base.Engine INSERT INTO data (date, real_price, pred_price, timestamp) VALUES (?, ?, ?, ?)\n",
      "2021-03-21 21:56:55,083 INFO sqlalchemy.engine.base.Engine ('2019-04-10 09:00:00.000000', 576430.0, 593618.2540269324, '2021-03-21 21:56:37.175518')\n",
      "2021-03-21 21:56:55,088 INFO sqlalchemy.engine.base.Engine INSERT INTO data (date, real_price, pred_price, timestamp) VALUES (?, ?, ?, ?)\n",
      "2021-03-21 21:56:55,093 INFO sqlalchemy.engine.base.Engine ('2019-04-11 09:00:00.000000', 591143.0, 577651.177601759, '2021-03-21 21:56:37.175518')\n",
      "2021-03-21 21:56:55,097 INFO sqlalchemy.engine.base.Engine INSERT INTO data (date, real_price, pred_price, timestamp) VALUES (?, ?, ?, ?)\n",
      "2021-03-21 21:56:55,103 INFO sqlalchemy.engine.base.Engine ('2019-04-12 09:00:00.000000', 564000.0, 592030.6596591239, '2021-03-21 21:56:37.175518')\n",
      "2021-03-21 21:56:55,107 INFO sqlalchemy.engine.base.Engine INSERT INTO data (date, real_price, pred_price, timestamp) VALUES (?, ?, ?, ?)\n",
      "2021-03-21 21:56:55,111 INFO sqlalchemy.engine.base.Engine ('2019-04-13 09:00:00.000000', 569500.0, 571208.4383168061, '2021-03-21 21:56:37.175518')\n",
      "2021-03-21 21:56:55,118 INFO sqlalchemy.engine.base.Engine INSERT INTO data (date, real_price, pred_price, timestamp) VALUES (?, ?, ?, ?)\n",
      "2021-03-21 21:56:55,122 INFO sqlalchemy.engine.base.Engine ('2019-04-14 09:00:00.000000', 568149.0, 568974.0427943078, '2021-03-21 21:56:37.175518')\n",
      "2021-03-21 21:56:55,125 INFO sqlalchemy.engine.base.Engine INSERT INTO data (date, real_price, pred_price, timestamp) VALUES (?, ?, ?, ?)\n",
      "2021-03-21 21:56:55,130 INFO sqlalchemy.engine.base.Engine ('2019-04-15 09:00:00.000000', 577750.0, 568280.5637329993, '2021-03-21 21:56:37.175518')\n",
      "2021-03-21 21:56:55,135 INFO sqlalchemy.engine.base.Engine INSERT INTO data (date, real_price, pred_price, timestamp) VALUES (?, ?, ?, ?)\n",
      "2021-03-21 21:56:55,138 INFO sqlalchemy.engine.base.Engine ('2019-04-16 09:00:00.000000', 563500.0, 578118.6683414882, '2021-03-21 21:56:37.175518')\n",
      "2021-03-21 21:56:55,142 INFO sqlalchemy.engine.base.Engine INSERT INTO data (date, real_price, pred_price, timestamp) VALUES (?, ?, ?, ?)\n",
      "2021-03-21 21:56:55,148 INFO sqlalchemy.engine.base.Engine ('2019-04-17 09:00:00.000000', 581653.0, 566026.7364260267, '2021-03-21 21:56:37.175518')\n",
      "2021-03-21 21:56:55,153 INFO sqlalchemy.engine.base.Engine INSERT INTO data (date, real_price, pred_price, timestamp) VALUES (?, ?, ?, ?)\n",
      "2021-03-21 21:56:55,154 INFO sqlalchemy.engine.base.Engine ('2019-04-18 09:00:00.000000', 584418.0, 581224.77593123, '2021-03-21 21:56:37.175518')\n",
      "2021-03-21 21:56:55,161 INFO sqlalchemy.engine.base.Engine INSERT INTO data (date, real_price, pred_price, timestamp) VALUES (?, ?, ?, ?)\n",
      "2021-03-21 21:56:55,163 INFO sqlalchemy.engine.base.Engine ('2019-04-19 09:00:00.000000', 591395.0, 588124.1843306315, '2021-03-21 21:56:37.175518')\n",
      "2021-03-21 21:56:55,171 INFO sqlalchemy.engine.base.Engine INSERT INTO data (date, real_price, pred_price, timestamp) VALUES (?, ?, ?, ?)\n",
      "2021-03-21 21:56:55,177 INFO sqlalchemy.engine.base.Engine ('2019-04-20 09:00:00.000000', 591437.0, 594652.946737397, '2021-03-21 21:56:37.175518')\n",
      "2021-03-21 21:56:55,181 INFO sqlalchemy.engine.base.Engine INSERT INTO data (date, real_price, pred_price, timestamp) VALUES (?, ?, ?, ?)\n"
     ]
    },
    {
     "name": "stdout",
     "output_type": "stream",
     "text": [
      "2021-03-21 21:56:55,185 INFO sqlalchemy.engine.base.Engine ('2019-04-21 09:00:00.000000', 595646.0, 592853.9068599641, '2021-03-21 21:56:37.175518')\n",
      "2021-03-21 21:56:55,185 INFO sqlalchemy.engine.base.Engine INSERT INTO data (date, real_price, pred_price, timestamp) VALUES (?, ?, ?, ?)\n",
      "2021-03-21 21:56:55,190 INFO sqlalchemy.engine.base.Engine ('2019-04-22 09:00:00.000000', 594101.0, 596950.1250853826, '2021-03-21 21:56:37.175518')\n",
      "2021-03-21 21:56:55,195 INFO sqlalchemy.engine.base.Engine INSERT INTO data (date, real_price, pred_price, timestamp) VALUES (?, ?, ?, ?)\n",
      "2021-03-21 21:56:55,201 INFO sqlalchemy.engine.base.Engine ('2019-04-23 09:00:00.000000', 603102.0, 594663.3910301094, '2021-03-21 21:56:37.175518')\n",
      "2021-03-21 21:56:55,207 INFO sqlalchemy.engine.base.Engine INSERT INTO data (date, real_price, pred_price, timestamp) VALUES (?, ?, ?, ?)\n",
      "2021-03-21 21:56:55,211 INFO sqlalchemy.engine.base.Engine ('2019-04-24 09:00:00.000000', 619737.0, 604716.4476977075, '2021-03-21 21:56:37.175518')\n",
      "2021-03-21 21:56:55,218 INFO sqlalchemy.engine.base.Engine INSERT INTO data (date, real_price, pred_price, timestamp) VALUES (?, ?, ?, ?)\n",
      "2021-03-21 21:56:55,222 INFO sqlalchemy.engine.base.Engine ('2019-04-25 09:00:00.000000', 611479.0, 624670.0402231626, '2021-03-21 21:56:37.175518')\n",
      "2021-03-21 21:56:55,226 INFO sqlalchemy.engine.base.Engine INSERT INTO data (date, real_price, pred_price, timestamp) VALUES (?, ?, ?, ?)\n",
      "2021-03-21 21:56:55,227 INFO sqlalchemy.engine.base.Engine ('2019-04-26 09:00:00.000000', 579000.0, 613850.0129484908, '2021-03-21 21:56:37.175518')\n",
      "2021-03-21 21:56:55,233 INFO sqlalchemy.engine.base.Engine INSERT INTO data (date, real_price, pred_price, timestamp) VALUES (?, ?, ?, ?)\n",
      "2021-03-21 21:56:55,237 INFO sqlalchemy.engine.base.Engine ('2019-04-27 09:00:00.000000', 579700.0, 588154.809463891, '2021-03-21 21:56:37.175518')\n",
      "2021-03-21 21:56:55,242 INFO sqlalchemy.engine.base.Engine INSERT INTO data (date, real_price, pred_price, timestamp) VALUES (?, ?, ?, ?)\n",
      "2021-03-21 21:56:55,246 INFO sqlalchemy.engine.base.Engine ('2019-04-28 09:00:00.000000', 579990.0, 580594.6486506443, '2021-03-21 21:56:37.175518')\n",
      "2021-03-21 21:56:55,251 INFO sqlalchemy.engine.base.Engine INSERT INTO data (date, real_price, pred_price, timestamp) VALUES (?, ?, ?, ?)\n",
      "2021-03-21 21:56:55,257 INFO sqlalchemy.engine.base.Engine ('2019-04-29 09:00:00.000000', 579000.0, 579281.9447452258, '2021-03-21 21:56:37.175518')\n",
      "2021-03-21 21:56:55,262 INFO sqlalchemy.engine.base.Engine INSERT INTO data (date, real_price, pred_price, timestamp) VALUES (?, ?, ?, ?)\n",
      "2021-03-21 21:56:55,265 INFO sqlalchemy.engine.base.Engine ('2019-04-30 09:00:00.000000', 577863.0, 580942.981444677, '2021-03-21 21:56:37.175518')\n",
      "2021-03-21 21:56:55,268 INFO sqlalchemy.engine.base.Engine INSERT INTO data (date, real_price, pred_price, timestamp) VALUES (?, ?, ?, ?)\n",
      "2021-03-21 21:56:55,273 INFO sqlalchemy.engine.base.Engine ('2019-05-01 09:00:00.000000', 587393.0, 578282.4983023554, '2021-03-21 21:56:37.175518')\n",
      "2021-03-21 21:56:55,278 INFO sqlalchemy.engine.base.Engine INSERT INTO data (date, real_price, pred_price, timestamp) VALUES (?, ?, ?, ?)\n",
      "2021-03-21 21:56:55,282 INFO sqlalchemy.engine.base.Engine ('2019-05-02 09:00:00.000000', 593000.0, 587925.4471354709, '2021-03-21 21:56:37.175518')\n",
      "2021-03-21 21:56:55,286 INFO sqlalchemy.engine.base.Engine INSERT INTO data (date, real_price, pred_price, timestamp) VALUES (?, ?, ?, ?)\n",
      "2021-03-21 21:56:55,291 INFO sqlalchemy.engine.base.Engine ('2019-05-03 09:00:00.000000', 601458.0, 596030.1384138122, '2021-03-21 21:56:37.175518')\n",
      "2021-03-21 21:56:55,297 INFO sqlalchemy.engine.base.Engine INSERT INTO data (date, real_price, pred_price, timestamp) VALUES (?, ?, ?, ?)\n",
      "2021-03-21 21:56:55,301 INFO sqlalchemy.engine.base.Engine ('2019-05-04 09:00:00.000000', 628473.0, 604864.0283235735, '2021-03-21 21:56:37.175518')\n",
      "2021-03-21 21:56:55,308 INFO sqlalchemy.engine.base.Engine INSERT INTO data (date, real_price, pred_price, timestamp) VALUES (?, ?, ?, ?)\n",
      "2021-03-21 21:56:55,311 INFO sqlalchemy.engine.base.Engine ('2019-05-05 09:00:00.000000', 640290.0, 635847.8106160999, '2021-03-21 21:56:37.175518')\n",
      "2021-03-21 21:56:55,311 INFO sqlalchemy.engine.base.Engine INSERT INTO data (date, real_price, pred_price, timestamp) VALUES (?, ?, ?, ?)\n",
      "2021-03-21 21:56:55,319 INFO sqlalchemy.engine.base.Engine ('2019-05-06 09:00:00.000000', 632873.0, 648600.6395374084, '2021-03-21 21:56:37.175518')\n",
      "2021-03-21 21:56:55,325 INFO sqlalchemy.engine.base.Engine INSERT INTO data (date, real_price, pred_price, timestamp) VALUES (?, ?, ?, ?)\n",
      "2021-03-21 21:56:55,328 INFO sqlalchemy.engine.base.Engine ('2019-05-07 09:00:00.000000', 629700.0, 635245.6750332036, '2021-03-21 21:56:37.175518')\n",
      "2021-03-21 21:56:55,335 INFO sqlalchemy.engine.base.Engine INSERT INTO data (date, real_price, pred_price, timestamp) VALUES (?, ?, ?, ?)\n",
      "2021-03-21 21:56:55,339 INFO sqlalchemy.engine.base.Engine ('2019-05-08 09:00:00.000000', 636280.0, 629696.7708825965, '2021-03-21 21:56:37.175518')\n",
      "2021-03-21 21:56:55,345 INFO sqlalchemy.engine.base.Engine INSERT INTO data (date, real_price, pred_price, timestamp) VALUES (?, ?, ?, ?)\n",
      "2021-03-21 21:56:55,350 INFO sqlalchemy.engine.base.Engine ('2019-05-09 09:00:00.000000', 653899.0, 636168.8129514568, '2021-03-21 21:56:37.175518')\n",
      "2021-03-21 21:56:55,353 INFO sqlalchemy.engine.base.Engine INSERT INTO data (date, real_price, pred_price, timestamp) VALUES (?, ?, ?, ?)\n",
      "2021-03-21 21:56:55,359 INFO sqlalchemy.engine.base.Engine ('2019-05-10 09:00:00.000000', 674664.0, 656563.3424084247, '2021-03-21 21:56:37.175518')\n",
      "2021-03-21 21:56:55,362 INFO sqlalchemy.engine.base.Engine INSERT INTO data (date, real_price, pred_price, timestamp) VALUES (?, ?, ?, ?)\n",
      "2021-03-21 21:56:55,366 INFO sqlalchemy.engine.base.Engine ('2019-05-11 09:00:00.000000', 698820.0, 682796.3017583892, '2021-03-21 21:56:37.175518')\n",
      "2021-03-21 21:56:55,370 INFO sqlalchemy.engine.base.Engine INSERT INTO data (date, real_price, pred_price, timestamp) VALUES (?, ?, ?, ?)\n",
      "2021-03-21 21:56:55,377 INFO sqlalchemy.engine.base.Engine ('2019-05-12 09:00:00.000000', 797940.0, 708807.26415588, '2021-03-21 21:56:37.175518')\n",
      "2021-03-21 21:56:55,381 INFO sqlalchemy.engine.base.Engine INSERT INTO data (date, real_price, pred_price, timestamp) VALUES (?, ?, ?, ?)\n",
      "2021-03-21 21:56:55,388 INFO sqlalchemy.engine.base.Engine ('2019-05-13 09:00:00.000000', 766297.0, 823158.4130305102, '2021-03-21 21:56:37.175518')\n",
      "2021-03-21 21:56:55,389 INFO sqlalchemy.engine.base.Engine INSERT INTO data (date, real_price, pred_price, timestamp) VALUES (?, ?, ?, ?)\n",
      "2021-03-21 21:56:55,394 INFO sqlalchemy.engine.base.Engine ('2019-05-14 09:00:00.000000', 854062.0, 781570.2910472584, '2021-03-21 21:56:37.175518')\n",
      "2021-03-21 21:56:55,399 INFO sqlalchemy.engine.base.Engine INSERT INTO data (date, real_price, pred_price, timestamp) VALUES (?, ?, ?, ?)\n",
      "2021-03-21 21:56:55,405 INFO sqlalchemy.engine.base.Engine ('2019-05-15 09:00:00.000000', 877000.0, 873465.1152672431, '2021-03-21 21:56:37.175518')\n",
      "2021-03-21 21:56:55,410 INFO sqlalchemy.engine.base.Engine INSERT INTO data (date, real_price, pred_price, timestamp) VALUES (?, ?, ?, ?)\n",
      "2021-03-21 21:56:55,413 INFO sqlalchemy.engine.base.Engine ('2019-05-16 09:00:00.000000', 897002.0, 899375.5708696011, '2021-03-21 21:56:37.175518')\n",
      "2021-03-21 21:56:55,419 INFO sqlalchemy.engine.base.Engine INSERT INTO data (date, real_price, pred_price, timestamp) VALUES (?, ?, ?, ?)\n",
      "2021-03-21 21:56:55,419 INFO sqlalchemy.engine.base.Engine ('2019-05-17 09:00:00.000000', 867106.0, 911609.7982539777, '2021-03-21 21:56:37.175518')\n",
      "2021-03-21 21:56:55,425 INFO sqlalchemy.engine.base.Engine INSERT INTO data (date, real_price, pred_price, timestamp) VALUES (?, ?, ?, ?)\n",
      "2021-03-21 21:56:55,430 INFO sqlalchemy.engine.base.Engine ('2019-05-18 09:00:00.000000', 813262.0, 868772.327480575, '2021-03-21 21:56:37.175518')\n",
      "2021-03-21 21:56:55,437 INFO sqlalchemy.engine.base.Engine INSERT INTO data (date, real_price, pred_price, timestamp) VALUES (?, ?, ?, ?)\n",
      "2021-03-21 21:56:55,442 INFO sqlalchemy.engine.base.Engine ('2019-05-19 09:00:00.000000', 801006.0, 831483.4038892371, '2021-03-21 21:56:37.175518')\n",
      "2021-03-21 21:56:55,445 INFO sqlalchemy.engine.base.Engine INSERT INTO data (date, real_price, pred_price, timestamp) VALUES (?, ?, ?, ?)\n"
     ]
    },
    {
     "name": "stdout",
     "output_type": "stream",
     "text": [
      "2021-03-21 21:56:55,450 INFO sqlalchemy.engine.base.Engine ('2019-05-20 09:00:00.000000', 899120.0, 807961.3293160659, '2021-03-21 21:56:37.175518')\n",
      "2021-03-21 21:56:55,456 INFO sqlalchemy.engine.base.Engine INSERT INTO data (date, real_price, pred_price, timestamp) VALUES (?, ?, ?, ?)\n",
      "2021-03-21 21:56:55,459 INFO sqlalchemy.engine.base.Engine ('2019-05-21 09:00:00.000000', 878650.0, 880798.9746188542, '2021-03-21 21:56:37.175518')\n",
      "2021-03-21 21:56:55,463 INFO sqlalchemy.engine.base.Engine INSERT INTO data (date, real_price, pred_price, timestamp) VALUES (?, ?, ?, ?)\n",
      "2021-03-21 21:56:55,467 INFO sqlalchemy.engine.base.Engine ('2019-05-22 09:00:00.000000', 879495.0, 894540.575624838, '2021-03-21 21:56:37.175518')\n",
      "2021-03-21 21:56:55,473 INFO sqlalchemy.engine.base.Engine INSERT INTO data (date, real_price, pred_price, timestamp) VALUES (?, ?, ?, ?)\n",
      "2021-03-21 21:56:55,481 INFO sqlalchemy.engine.base.Engine ('2019-05-23 09:00:00.000000', 844000.0, 886785.7493613428, '2021-03-21 21:56:37.175518')\n",
      "2021-03-21 21:56:55,490 INFO sqlalchemy.engine.base.Engine INSERT INTO data (date, real_price, pred_price, timestamp) VALUES (?, ?, ?, ?)\n",
      "2021-03-21 21:56:55,494 INFO sqlalchemy.engine.base.Engine ('2019-05-24 09:00:00.000000', 863494.0, 849165.893010152, '2021-03-21 21:56:37.175518')\n",
      "2021-03-21 21:56:55,499 INFO sqlalchemy.engine.base.Engine INSERT INTO data (date, real_price, pred_price, timestamp) VALUES (?, ?, ?, ?)\n",
      "2021-03-21 21:56:55,503 INFO sqlalchemy.engine.base.Engine ('2019-05-25 09:00:00.000000', 874415.0, 858711.3185346713, '2021-03-21 21:56:37.175518')\n",
      "2021-03-21 21:56:55,505 INFO sqlalchemy.engine.base.Engine INSERT INTO data (date, real_price, pred_price, timestamp) VALUES (?, ?, ?, ?)\n",
      "2021-03-21 21:56:55,512 INFO sqlalchemy.engine.base.Engine ('2019-05-26 09:00:00.000000', 883875.0, 871820.0350100655, '2021-03-21 21:56:37.175518')\n",
      "2021-03-21 21:56:55,517 INFO sqlalchemy.engine.base.Engine INSERT INTO data (date, real_price, pred_price, timestamp) VALUES (?, ?, ?, ?)\n",
      "2021-03-21 21:56:55,523 INFO sqlalchemy.engine.base.Engine ('2019-05-27 09:00:00.000000', 953474.0, 888487.4968748465, '2021-03-21 21:56:37.175518')\n",
      "2021-03-21 21:56:55,526 INFO sqlalchemy.engine.base.Engine INSERT INTO data (date, real_price, pred_price, timestamp) VALUES (?, ?, ?, ?)\n",
      "2021-03-21 21:56:55,530 INFO sqlalchemy.engine.base.Engine ('2019-05-28 09:00:00.000000', 960100.0, 969196.810507478, '2021-03-21 21:56:37.175518')\n",
      "2021-03-21 21:56:55,539 INFO sqlalchemy.engine.base.Engine INSERT INTO data (date, real_price, pred_price, timestamp) VALUES (?, ?, ?, ?)\n",
      "2021-03-21 21:56:55,543 INFO sqlalchemy.engine.base.Engine ('2019-05-29 09:00:00.000000', 952867.0, 976387.2850525517, '2021-03-21 21:56:37.175518')\n",
      "2021-03-21 21:56:55,550 INFO sqlalchemy.engine.base.Engine INSERT INTO data (date, real_price, pred_price, timestamp) VALUES (?, ?, ?, ?)\n",
      "2021-03-21 21:56:55,551 INFO sqlalchemy.engine.base.Engine ('2019-05-30 09:00:00.000000', 948273.0, 957989.774322108, '2021-03-21 21:56:37.175518')\n",
      "2021-03-21 21:56:55,556 INFO sqlalchemy.engine.base.Engine INSERT INTO data (date, real_price, pred_price, timestamp) VALUES (?, ?, ?, ?)\n",
      "2021-03-21 21:56:55,560 INFO sqlalchemy.engine.base.Engine ('2019-05-31 09:00:00.000000', 907386.0, 948657.2325383103, '2021-03-21 21:56:37.175518')\n",
      "2021-03-21 21:56:55,564 INFO sqlalchemy.engine.base.Engine INSERT INTO data (date, real_price, pred_price, timestamp) VALUES (?, ?, ?, ?)\n",
      "2021-03-21 21:56:55,570 INFO sqlalchemy.engine.base.Engine ('2019-06-01 09:00:00.000000', 928180.0, 922289.4291784434, '2021-03-21 21:56:37.175518')\n",
      "2021-03-21 21:56:55,575 INFO sqlalchemy.engine.base.Engine INSERT INTO data (date, real_price, pred_price, timestamp) VALUES (?, ?, ?, ?)\n",
      "2021-03-21 21:56:55,581 INFO sqlalchemy.engine.base.Engine ('2019-06-02 09:00:00.000000', 925022.0, 922480.6027346409, '2021-03-21 21:56:37.175518')\n",
      "2021-03-21 21:56:55,587 INFO sqlalchemy.engine.base.Engine INSERT INTO data (date, real_price, pred_price, timestamp) VALUES (?, ?, ?, ?)\n",
      "2021-03-21 21:56:55,588 INFO sqlalchemy.engine.base.Engine ('2019-06-03 09:00:00.000000', 946500.0, 924032.4122953678, '2021-03-21 21:56:37.175518')\n",
      "2021-03-21 21:56:55,596 INFO sqlalchemy.engine.base.Engine INSERT INTO data (date, real_price, pred_price, timestamp) VALUES (?, ?, ?, ?)\n",
      "2021-03-21 21:56:55,600 INFO sqlalchemy.engine.base.Engine ('2019-06-04 09:00:00.000000', 878998.0, 948866.5333469041, '2021-03-21 21:56:37.175518')\n",
      "2021-03-21 21:56:55,605 INFO sqlalchemy.engine.base.Engine INSERT INTO data (date, real_price, pred_price, timestamp) VALUES (?, ?, ?, ?)\n",
      "2021-03-21 21:56:55,607 INFO sqlalchemy.engine.base.Engine ('2019-06-05 09:00:00.000000', 831423.0, 896634.3258091541, '2021-03-21 21:56:37.175518')\n",
      "2021-03-21 21:56:55,612 INFO sqlalchemy.engine.base.Engine INSERT INTO data (date, real_price, pred_price, timestamp) VALUES (?, ?, ?, ?)\n",
      "2021-03-21 21:56:55,617 INFO sqlalchemy.engine.base.Engine ('2019-06-06 09:00:00.000000', 844971.0, 852392.7938262958, '2021-03-21 21:56:37.175518')\n",
      "2021-03-21 21:56:55,626 INFO sqlalchemy.engine.base.Engine INSERT INTO data (date, real_price, pred_price, timestamp) VALUES (?, ?, ?, ?)\n",
      "2021-03-21 21:56:55,629 INFO sqlalchemy.engine.base.Engine ('2019-06-07 09:00:00.000000', 846482.0, 841181.5580998627, '2021-03-21 21:56:37.175518')\n",
      "2021-03-21 21:56:55,633 INFO sqlalchemy.engine.base.Engine INSERT INTO data (date, real_price, pred_price, timestamp) VALUES (?, ?, ?, ?)\n",
      "2021-03-21 21:56:55,638 INFO sqlalchemy.engine.base.Engine ('2019-06-08 09:00:00.000000', 867670.0, 847412.0231827641, '2021-03-21 21:56:37.175518')\n",
      "2021-03-21 21:56:55,647 INFO sqlalchemy.engine.base.Engine INSERT INTO data (date, real_price, pred_price, timestamp) VALUES (?, ?, ?, ?)\n",
      "2021-03-21 21:56:55,653 INFO sqlalchemy.engine.base.Engine ('2019-06-09 09:00:00.000000', 860954.0, 869649.8529640961, '2021-03-21 21:56:37.175518')\n",
      "2021-03-21 21:56:55,657 INFO sqlalchemy.engine.base.Engine INSERT INTO data (date, real_price, pred_price, timestamp) VALUES (?, ?, ?, ?)\n",
      "2021-03-21 21:56:55,662 INFO sqlalchemy.engine.base.Engine ('2019-06-10 09:00:00.000000', 833600.0, 864001.4756852693, '2021-03-21 21:56:37.175518')\n",
      "2021-03-21 21:56:55,671 INFO sqlalchemy.engine.base.Engine INSERT INTO data (date, real_price, pred_price, timestamp) VALUES (?, ?, ?, ?)\n",
      "2021-03-21 21:56:55,676 INFO sqlalchemy.engine.base.Engine ('2019-06-11 09:00:00.000000', 870015.0, 840644.7872863482, '2021-03-21 21:56:37.175518')\n",
      "2021-03-21 21:56:55,684 INFO sqlalchemy.engine.base.Engine INSERT INTO data (date, real_price, pred_price, timestamp) VALUES (?, ?, ?, ?)\n",
      "2021-03-21 21:56:55,688 INFO sqlalchemy.engine.base.Engine ('2019-06-12 09:00:00.000000', 860725.0, 864715.7842962899, '2021-03-21 21:56:37.175518')\n",
      "2021-03-21 21:56:55,688 INFO sqlalchemy.engine.base.Engine INSERT INTO data (date, real_price, pred_price, timestamp) VALUES (?, ?, ?, ?)\n",
      "2021-03-21 21:56:55,699 INFO sqlalchemy.engine.base.Engine ('2019-06-13 09:00:00.000000', 886889.0, 862818.1166756885, '2021-03-21 21:56:37.175518')\n",
      "2021-03-21 21:56:55,705 INFO sqlalchemy.engine.base.Engine INSERT INTO data (date, real_price, pred_price, timestamp) VALUES (?, ?, ?, ?)\n",
      "2021-03-21 21:56:55,710 INFO sqlalchemy.engine.base.Engine ('2019-06-14 09:00:00.000000', 893750.0, 892712.8807102266, '2021-03-21 21:56:37.175518')\n",
      "2021-03-21 21:56:55,717 INFO sqlalchemy.engine.base.Engine INSERT INTO data (date, real_price, pred_price, timestamp) VALUES (?, ?, ?, ?)\n",
      "2021-03-21 21:56:55,722 INFO sqlalchemy.engine.base.Engine ('2019-06-15 09:00:00.000000', 944847.0, 900392.7697496011, '2021-03-21 21:56:37.175518')\n",
      "2021-03-21 21:56:55,730 INFO sqlalchemy.engine.base.Engine INSERT INTO data (date, real_price, pred_price, timestamp) VALUES (?, ?, ?, ?)\n",
      "2021-03-21 21:56:55,736 INFO sqlalchemy.engine.base.Engine ('2019-06-16 09:00:00.000000', 959400.0, 957745.5318173084, '2021-03-21 21:56:37.175518')\n",
      "2021-03-21 21:56:55,742 INFO sqlalchemy.engine.base.Engine INSERT INTO data (date, real_price, pred_price, timestamp) VALUES (?, ?, ?, ?)\n",
      "2021-03-21 21:56:55,747 INFO sqlalchemy.engine.base.Engine ('2019-06-17 09:00:00.000000', 977299.0, 972965.7845493846, '2021-03-21 21:56:37.175518')\n",
      "2021-03-21 21:56:55,752 INFO sqlalchemy.engine.base.Engine INSERT INTO data (date, real_price, pred_price, timestamp) VALUES (?, ?, ?, ?)\n"
     ]
    },
    {
     "name": "stdout",
     "output_type": "stream",
     "text": [
      "2021-03-21 21:56:55,752 INFO sqlalchemy.engine.base.Engine ('2019-06-18 09:00:00.000000', 1013696.0, 986656.3853025374, '2021-03-21 21:56:37.175518')\n",
      "2021-03-21 21:56:55,763 INFO sqlalchemy.engine.base.Engine INSERT INTO data (date, real_price, pred_price, timestamp) VALUES (?, ?, ?, ?)\n",
      "2021-03-21 21:56:55,770 INFO sqlalchemy.engine.base.Engine ('2019-06-19 09:00:00.000000', 986025.0, 1025096.5116688531, '2021-03-21 21:56:37.175518')\n",
      "2021-03-21 21:56:55,775 INFO sqlalchemy.engine.base.Engine INSERT INTO data (date, real_price, pred_price, timestamp) VALUES (?, ?, ?, ?)\n",
      "2021-03-21 21:56:55,775 INFO sqlalchemy.engine.base.Engine ('2019-06-20 09:00:00.000000', 1002024.0, 989744.0123053755, '2021-03-21 21:56:37.175518')\n",
      "2021-03-21 21:56:55,784 INFO sqlalchemy.engine.base.Engine INSERT INTO data (date, real_price, pred_price, timestamp) VALUES (?, ?, ?, ?)\n",
      "2021-03-21 21:56:55,785 INFO sqlalchemy.engine.base.Engine ('2019-06-21 09:00:00.000000', 1023420.0, 1004298.935193879, '2021-03-21 21:56:37.175518')\n",
      "2021-03-21 21:56:55,794 INFO sqlalchemy.engine.base.Engine INSERT INTO data (date, real_price, pred_price, timestamp) VALUES (?, ?, ?, ?)\n",
      "2021-03-21 21:56:55,798 INFO sqlalchemy.engine.base.Engine ('2019-06-22 09:00:00.000000', 1095000.0, 1030105.7333325555, '2021-03-21 21:56:37.175518')\n",
      "2021-03-21 21:56:55,806 INFO sqlalchemy.engine.base.Engine INSERT INTO data (date, real_price, pred_price, timestamp) VALUES (?, ?, ?, ?)\n",
      "2021-03-21 21:56:55,811 INFO sqlalchemy.engine.base.Engine ('2019-06-23 09:00:00.000000', 1145500.0, 1112119.2941810046, '2021-03-21 21:56:37.175518')\n",
      "2021-03-21 21:56:55,816 INFO sqlalchemy.engine.base.Engine INSERT INTO data (date, real_price, pred_price, timestamp) VALUES (?, ?, ?, ?)\n",
      "2021-03-21 21:56:55,820 INFO sqlalchemy.engine.base.Engine ('2019-06-24 09:00:00.000000', 1163505.0, 1171530.0108307875, '2021-03-21 21:56:37.175518')\n",
      "2021-03-21 21:56:55,825 INFO sqlalchemy.engine.base.Engine INSERT INTO data (date, real_price, pred_price, timestamp) VALUES (?, ?, ?, ?)\n",
      "2021-03-21 21:56:55,830 INFO sqlalchemy.engine.base.Engine ('2019-06-25 09:00:00.000000', 1180700.0, 1180028.531089599, '2021-03-21 21:56:37.175518')\n",
      "2021-03-21 21:56:55,834 INFO sqlalchemy.engine.base.Engine INSERT INTO data (date, real_price, pred_price, timestamp) VALUES (?, ?, ?, ?)\n",
      "2021-03-21 21:56:55,840 INFO sqlalchemy.engine.base.Engine ('2019-06-26 09:00:00.000000', 1262333.0, 1189396.8079890246, '2021-03-21 21:56:37.175518')\n",
      "2021-03-21 21:56:55,843 INFO sqlalchemy.engine.base.Engine INSERT INTO data (date, real_price, pred_price, timestamp) VALUES (?, ?, ?, ?)\n",
      "2021-03-21 21:56:55,847 INFO sqlalchemy.engine.base.Engine ('2019-06-27 09:00:00.000000', 1399265.0, 1283008.735673176, '2021-03-21 21:56:37.175518')\n",
      "2021-03-21 21:56:55,852 INFO sqlalchemy.engine.base.Engine INSERT INTO data (date, real_price, pred_price, timestamp) VALUES (?, ?, ?, ?)\n",
      "2021-03-21 21:56:55,856 INFO sqlalchemy.engine.base.Engine ('2019-06-28 09:00:00.000000', 1221271.0, 1443912.77594401, '2021-03-21 21:56:37.175518')\n",
      "2021-03-21 21:56:55,860 INFO sqlalchemy.engine.base.Engine INSERT INTO data (date, real_price, pred_price, timestamp) VALUES (?, ?, ?, ?)\n",
      "2021-03-21 21:56:55,865 INFO sqlalchemy.engine.base.Engine ('2019-06-29 09:00:00.000000', 1342710.0, 1241798.1666721648, '2021-03-21 21:56:37.175518')\n",
      "2021-03-21 21:56:55,869 INFO sqlalchemy.engine.base.Engine INSERT INTO data (date, real_price, pred_price, timestamp) VALUES (?, ?, ?, ?)\n",
      "2021-03-21 21:56:55,874 INFO sqlalchemy.engine.base.Engine ('2019-06-30 09:00:00.000000', 1290768.0, 1343316.830882309, '2021-03-21 21:56:37.175518')\n",
      "2021-03-21 21:56:55,877 INFO sqlalchemy.engine.base.Engine INSERT INTO data (date, real_price, pred_price, timestamp) VALUES (?, ?, ?, ?)\n",
      "2021-03-21 21:56:55,885 INFO sqlalchemy.engine.base.Engine ('2019-07-01 09:00:00.000000', 1171306.0, 1307606.6054505333, '2021-03-21 21:56:37.175518')\n",
      "2021-03-21 21:56:55,891 INFO sqlalchemy.engine.base.Engine INSERT INTO data (date, real_price, pred_price, timestamp) VALUES (?, ?, ?, ?)\n",
      "2021-03-21 21:56:55,894 INFO sqlalchemy.engine.base.Engine ('2019-07-02 09:00:00.000000', 1156299.0, 1212569.8090807137, '2021-03-21 21:56:37.175518')\n",
      "2021-03-21 21:56:55,894 INFO sqlalchemy.engine.base.Engine INSERT INTO data (date, real_price, pred_price, timestamp) VALUES (?, ?, ?, ?)\n",
      "2021-03-21 21:56:55,905 INFO sqlalchemy.engine.base.Engine ('2019-07-03 09:00:00.000000', 1174473.0, 1165047.3401458298, '2021-03-21 21:56:37.175518')\n",
      "2021-03-21 21:56:55,906 INFO sqlalchemy.engine.base.Engine INSERT INTO data (date, real_price, pred_price, timestamp) VALUES (?, ?, ?, ?)\n",
      "2021-03-21 21:56:55,911 INFO sqlalchemy.engine.base.Engine ('2019-07-04 09:00:00.000000', 1291931.0, 1167696.8523357222, '2021-03-21 21:56:37.175518')\n",
      "2021-03-21 21:56:55,917 INFO sqlalchemy.engine.base.Engine INSERT INTO data (date, real_price, pred_price, timestamp) VALUES (?, ?, ?, ?)\n",
      "2021-03-21 21:56:55,920 INFO sqlalchemy.engine.base.Engine ('2019-07-05 09:00:00.000000', 1204098.0, 1291216.538120806, '2021-03-21 21:56:37.175518')\n",
      "2021-03-21 21:56:55,926 INFO sqlalchemy.engine.base.Engine INSERT INTO data (date, real_price, pred_price, timestamp) VALUES (?, ?, ?, ?)\n",
      "2021-03-21 21:56:55,930 INFO sqlalchemy.engine.base.Engine ('2019-07-06 09:00:00.000000', 1197650.0, 1219398.722884434, '2021-03-21 21:56:37.175518')\n",
      "2021-03-21 21:56:55,935 INFO sqlalchemy.engine.base.Engine INSERT INTO data (date, real_price, pred_price, timestamp) VALUES (?, ?, ?, ?)\n",
      "2021-03-21 21:56:55,940 INFO sqlalchemy.engine.base.Engine ('2019-07-07 09:00:00.000000', 1222633.0, 1204734.0582368593, '2021-03-21 21:56:37.175518')\n",
      "2021-03-21 21:56:55,945 INFO sqlalchemy.engine.base.Engine INSERT INTO data (date, real_price, pred_price, timestamp) VALUES (?, ?, ?, ?)\n",
      "2021-03-21 21:56:55,949 INFO sqlalchemy.engine.base.Engine ('2019-07-08 09:00:00.000000', 1246467.0, 1226517.835066824, '2021-03-21 21:56:37.175518')\n",
      "2021-03-21 21:56:55,955 INFO sqlalchemy.engine.base.Engine INSERT INTO data (date, real_price, pred_price, timestamp) VALUES (?, ?, ?, ?)\n",
      "2021-03-21 21:56:55,960 INFO sqlalchemy.engine.base.Engine ('2019-07-09 09:00:00.000000', 1335843.0, 1249712.3006040845, '2021-03-21 21:56:37.175518')\n",
      "2021-03-21 21:56:55,964 INFO sqlalchemy.engine.base.Engine INSERT INTO data (date, real_price, pred_price, timestamp) VALUES (?, ?, ?, ?)\n",
      "2021-03-21 21:56:55,969 INFO sqlalchemy.engine.base.Engine ('2019-07-10 09:00:00.000000', 1369916.0, 1359050.4300787847, '2021-03-21 21:56:37.175518')\n",
      "2021-03-21 21:56:55,976 INFO sqlalchemy.engine.base.Engine INSERT INTO data (date, real_price, pred_price, timestamp) VALUES (?, ?, ?, ?)\n",
      "2021-03-21 21:56:55,979 INFO sqlalchemy.engine.base.Engine ('2019-07-11 09:00:00.000000', 1313605.0, 1396107.219088822, '2021-03-21 21:56:37.175518')\n",
      "2021-03-21 21:56:55,983 INFO sqlalchemy.engine.base.Engine INSERT INTO data (date, real_price, pred_price, timestamp) VALUES (?, ?, ?, ?)\n",
      "2021-03-21 21:56:55,987 INFO sqlalchemy.engine.base.Engine ('2019-07-12 09:00:00.000000', 1237053.0, 1318691.7892014713, '2021-03-21 21:56:37.175518')\n",
      "2021-03-21 21:56:55,987 INFO sqlalchemy.engine.base.Engine INSERT INTO data (date, real_price, pred_price, timestamp) VALUES (?, ?, ?, ?)\n",
      "2021-03-21 21:56:55,996 INFO sqlalchemy.engine.base.Engine ('2019-07-13 09:00:00.000000', 1278534.0, 1256361.7130481426, '2021-03-21 21:56:37.175518')\n",
      "2021-03-21 21:56:56,001 INFO sqlalchemy.engine.base.Engine INSERT INTO data (date, real_price, pred_price, timestamp) VALUES (?, ?, ?, ?)\n",
      "2021-03-21 21:56:56,008 INFO sqlalchemy.engine.base.Engine ('2019-07-14 09:00:00.000000', 1233028.0, 1266074.0774868939, '2021-03-21 21:56:37.175518')\n",
      "2021-03-21 21:56:56,011 INFO sqlalchemy.engine.base.Engine INSERT INTO data (date, real_price, pred_price, timestamp) VALUES (?, ?, ?, ?)\n",
      "2021-03-21 21:56:56,016 INFO sqlalchemy.engine.base.Engine ('2019-07-15 09:00:00.000000', 1103883.0, 1245372.8038062698, '2021-03-21 21:56:37.175518')\n",
      "2021-03-21 21:56:56,022 INFO sqlalchemy.engine.base.Engine INSERT INTO data (date, real_price, pred_price, timestamp) VALUES (?, ?, ?, ?)\n",
      "2021-03-21 21:56:56,022 INFO sqlalchemy.engine.base.Engine ('2019-07-16 09:00:00.000000', 1177393.0, 1153533.1621007558, '2021-03-21 21:56:37.175518')\n"
     ]
    },
    {
     "name": "stdout",
     "output_type": "stream",
     "text": [
      "2021-03-21 21:56:56,032 INFO sqlalchemy.engine.base.Engine INSERT INTO data (date, real_price, pred_price, timestamp) VALUES (?, ?, ?, ?)\n",
      "2021-03-21 21:56:56,036 INFO sqlalchemy.engine.base.Engine ('2019-07-17 09:00:00.000000', 1021334.0, 1155765.350498013, '2021-03-21 21:56:37.175518')\n",
      "2021-03-21 21:56:56,044 INFO sqlalchemy.engine.base.Engine INSERT INTO data (date, real_price, pred_price, timestamp) VALUES (?, ?, ?, ?)\n",
      "2021-03-21 21:56:56,047 INFO sqlalchemy.engine.base.Engine ('2019-07-18 09:00:00.000000', 1045283.0, 1069268.773841556, '2021-03-21 21:56:37.175518')\n",
      "2021-03-21 21:56:56,054 INFO sqlalchemy.engine.base.Engine INSERT INTO data (date, real_price, pred_price, timestamp) VALUES (?, ?, ?, ?)\n",
      "2021-03-21 21:56:56,058 INFO sqlalchemy.engine.base.Engine ('2019-07-19 09:00:00.000000', 1144998.0, 1046660.8479289999, '2021-03-21 21:56:37.175518')\n",
      "2021-03-21 21:56:56,063 INFO sqlalchemy.engine.base.Engine INSERT INTO data (date, real_price, pred_price, timestamp) VALUES (?, ?, ?, ?)\n",
      "2021-03-21 21:56:56,068 INFO sqlalchemy.engine.base.Engine ('2019-07-20 09:00:00.000000', 1134597.0, 1129595.5012633386, '2021-03-21 21:56:37.175518')\n",
      "2021-03-21 21:56:56,074 INFO sqlalchemy.engine.base.Engine INSERT INTO data (date, real_price, pred_price, timestamp) VALUES (?, ?, ?, ?)\n",
      "2021-03-21 21:56:56,080 INFO sqlalchemy.engine.base.Engine ('2019-07-21 09:00:00.000000', 1160989.0, 1152792.4462626085, '2021-03-21 21:56:37.175518')\n",
      "2021-03-21 21:56:56,085 INFO sqlalchemy.engine.base.Engine INSERT INTO data (date, real_price, pred_price, timestamp) VALUES (?, ?, ?, ?)\n",
      "2021-03-21 21:56:56,085 INFO sqlalchemy.engine.base.Engine ('2019-07-22 09:00:00.000000', 1142766.0, 1171979.1914415935, '2021-03-21 21:56:37.175518')\n",
      "2021-03-21 21:56:56,091 INFO sqlalchemy.engine.base.Engine INSERT INTO data (date, real_price, pred_price, timestamp) VALUES (?, ?, ?, ?)\n",
      "2021-03-21 21:56:56,096 INFO sqlalchemy.engine.base.Engine ('2019-07-23 09:00:00.000000', 1114925.0, 1146544.5900611626, '2021-03-21 21:56:37.175518')\n",
      "2021-03-21 21:56:56,103 INFO sqlalchemy.engine.base.Engine INSERT INTO data (date, real_price, pred_price, timestamp) VALUES (?, ?, ?, ?)\n",
      "2021-03-21 21:56:56,107 INFO sqlalchemy.engine.base.Engine ('2019-07-24 09:00:00.000000', 1067521.0, 1124569.6862454202, '2021-03-21 21:56:37.175518')\n",
      "2021-03-21 21:56:56,113 INFO sqlalchemy.engine.base.Engine INSERT INTO data (date, real_price, pred_price, timestamp) VALUES (?, ?, ?, ?)\n",
      "2021-03-21 21:56:56,118 INFO sqlalchemy.engine.base.Engine ('2019-07-25 09:00:00.000000', 1056426.0, 1086178.4182504548, '2021-03-21 21:56:37.175518')\n",
      "2021-03-21 21:56:56,123 INFO sqlalchemy.engine.base.Engine INSERT INTO data (date, real_price, pred_price, timestamp) VALUES (?, ?, ?, ?)\n",
      "2021-03-21 21:56:56,125 INFO sqlalchemy.engine.base.Engine ('2019-07-26 09:00:00.000000', 1074893.0, 1063214.9498816635, '2021-03-21 21:56:37.175518')\n",
      "2021-03-21 21:56:56,133 INFO sqlalchemy.engine.base.Engine INSERT INTO data (date, real_price, pred_price, timestamp) VALUES (?, ?, ?, ?)\n",
      "2021-03-21 21:56:56,137 INFO sqlalchemy.engine.base.Engine ('2019-07-27 09:00:00.000000', 1070121.0, 1069052.7394084425, '2021-03-21 21:56:37.175518')\n",
      "2021-03-21 21:56:56,143 INFO sqlalchemy.engine.base.Engine INSERT INTO data (date, real_price, pred_price, timestamp) VALUES (?, ?, ?, ?)\n",
      "2021-03-21 21:56:56,148 INFO sqlalchemy.engine.base.Engine ('2019-07-28 09:00:00.000000', 1030983.0, 1073398.250151235, '2021-03-21 21:56:37.175518')\n",
      "2021-03-21 21:56:56,154 INFO sqlalchemy.engine.base.Engine INSERT INTO data (date, real_price, pred_price, timestamp) VALUES (?, ?, ?, ?)\n",
      "2021-03-21 21:56:56,158 INFO sqlalchemy.engine.base.Engine ('2019-07-29 09:00:00.000000', 1036720.0, 1043707.9154339426, '2021-03-21 21:56:37.175518')\n",
      "2021-03-21 21:56:56,164 INFO sqlalchemy.engine.base.Engine INSERT INTO data (date, real_price, pred_price, timestamp) VALUES (?, ?, ?, ?)\n",
      "2021-03-21 21:56:56,167 INFO sqlalchemy.engine.base.Engine ('2019-07-30 09:00:00.000000', 1035395.0, 1035920.1701125673, '2021-03-21 21:56:37.175518')\n",
      "2021-03-21 21:56:56,173 INFO sqlalchemy.engine.base.Engine INSERT INTO data (date, real_price, pred_price, timestamp) VALUES (?, ?, ?, ?)\n",
      "2021-03-21 21:56:56,180 INFO sqlalchemy.engine.base.Engine ('2019-07-31 09:00:00.000000', 1041900.0, 1034674.3691629125, '2021-03-21 21:56:37.175518')\n",
      "2021-03-21 21:56:56,183 INFO sqlalchemy.engine.base.Engine INSERT INTO data (date, real_price, pred_price, timestamp) VALUES (?, ?, ?, ?)\n",
      "2021-03-21 21:56:56,190 INFO sqlalchemy.engine.base.Engine ('2019-08-01 09:00:00.000000', 1098400.0, 1043001.8523785407, '2021-03-21 21:56:37.175518')\n",
      "2021-03-21 21:56:56,195 INFO sqlalchemy.engine.base.Engine INSERT INTO data (date, real_price, pred_price, timestamp) VALUES (?, ?, ?, ?)\n",
      "2021-03-21 21:56:56,201 INFO sqlalchemy.engine.base.Engine ('2019-08-02 09:00:00.000000', 1118400.0, 1108666.4958260336, '2021-03-21 21:56:37.175518')\n",
      "2021-03-21 21:56:56,208 INFO sqlalchemy.engine.base.Engine INSERT INTO data (date, real_price, pred_price, timestamp) VALUES (?, ?, ?, ?)\n",
      "2021-03-21 21:56:56,208 INFO sqlalchemy.engine.base.Engine ('2019-08-03 09:00:00.000000', 1123000.0, 1134741.0253829863, '2021-03-21 21:56:37.175518')\n",
      "2021-03-21 21:56:56,216 INFO sqlalchemy.engine.base.Engine INSERT INTO data (date, real_price, pred_price, timestamp) VALUES (?, ?, ?, ?)\n",
      "2021-03-21 21:56:56,221 INFO sqlalchemy.engine.base.Engine ('2019-08-04 09:00:00.000000', 1153754.0, 1130885.0456029717, '2021-03-21 21:56:37.175518')\n",
      "2021-03-21 21:56:56,226 INFO sqlalchemy.engine.base.Engine INSERT INTO data (date, real_price, pred_price, timestamp) VALUES (?, ?, ?, ?)\n",
      "2021-03-21 21:56:56,231 INFO sqlalchemy.engine.base.Engine ('2019-08-05 09:00:00.000000', 1170875.0, 1161583.5164140791, '2021-03-21 21:56:37.175518')\n",
      "2021-03-21 21:56:56,237 INFO sqlalchemy.engine.base.Engine INSERT INTO data (date, real_price, pred_price, timestamp) VALUES (?, ?, ?, ?)\n",
      "2021-03-21 21:56:56,241 INFO sqlalchemy.engine.base.Engine ('2019-08-06 09:00:00.000000', 1246972.0, 1180773.288253429, '2021-03-21 21:56:37.175518')\n",
      "2021-03-21 21:56:56,248 INFO sqlalchemy.engine.base.Engine INSERT INTO data (date, real_price, pred_price, timestamp) VALUES (?, ?, ?, ?)\n",
      "2021-03-21 21:56:56,253 INFO sqlalchemy.engine.base.Engine ('2019-08-07 09:00:00.000000', 1220016.0, 1267254.336220461, '2021-03-21 21:56:37.175518')\n",
      "2021-03-21 21:56:56,259 INFO sqlalchemy.engine.base.Engine INSERT INTO data (date, real_price, pred_price, timestamp) VALUES (?, ?, ?, ?)\n",
      "2021-03-21 21:56:56,260 INFO sqlalchemy.engine.base.Engine ('2019-08-08 09:00:00.000000', 1269227.0, 1230873.2440462536, '2021-03-21 21:56:37.175518')\n",
      "2021-03-21 21:56:56,265 INFO sqlalchemy.engine.base.Engine INSERT INTO data (date, real_price, pred_price, timestamp) VALUES (?, ?, ?, ?)\n",
      "2021-03-21 21:56:56,272 INFO sqlalchemy.engine.base.Engine ('2019-08-09 09:00:00.000000', 1267904.0, 1280630.767752821, '2021-03-21 21:56:37.175518')\n",
      "2021-03-21 21:56:56,276 INFO sqlalchemy.engine.base.Engine INSERT INTO data (date, real_price, pred_price, timestamp) VALUES (?, ?, ?, ?)\n",
      "2021-03-21 21:56:56,280 INFO sqlalchemy.engine.base.Engine ('2019-08-10 09:00:00.000000', 1253887.0, 1278025.0047301946, '2021-03-21 21:56:37.175518')\n",
      "2021-03-21 21:56:56,288 INFO sqlalchemy.engine.base.Engine INSERT INTO data (date, real_price, pred_price, timestamp) VALUES (?, ?, ?, ?)\n",
      "2021-03-21 21:56:56,292 INFO sqlalchemy.engine.base.Engine ('2019-08-11 09:00:00.000000', 1192119.0, 1257167.3714604694, '2021-03-21 21:56:37.175518')\n",
      "2021-03-21 21:56:56,298 INFO sqlalchemy.engine.base.Engine INSERT INTO data (date, real_price, pred_price, timestamp) VALUES (?, ?, ?, ?)\n",
      "2021-03-21 21:56:56,302 INFO sqlalchemy.engine.base.Engine ('2019-08-12 09:00:00.000000', 1216700.0, 1210477.0193668786, '2021-03-21 21:56:37.175518')\n",
      "2021-03-21 21:56:56,307 INFO sqlalchemy.engine.base.Engine INSERT INTO data (date, real_price, pred_price, timestamp) VALUES (?, ?, ?, ?)\n",
      "2021-03-21 21:56:56,313 INFO sqlalchemy.engine.base.Engine ('2019-08-13 09:00:00.000000', 1201588.0, 1210192.8039150792, '2021-03-21 21:56:37.175518')\n",
      "2021-03-21 21:56:56,319 INFO sqlalchemy.engine.base.Engine INSERT INTO data (date, real_price, pred_price, timestamp) VALUES (?, ?, ?, ?)\n"
     ]
    },
    {
     "name": "stdout",
     "output_type": "stream",
     "text": [
      "2021-03-21 21:56:56,321 INFO sqlalchemy.engine.base.Engine ('2019-08-14 09:00:00.000000', 1158871.0, 1203839.9342075754, '2021-03-21 21:56:37.175518')\n",
      "2021-03-21 21:56:56,325 INFO sqlalchemy.engine.base.Engine INSERT INTO data (date, real_price, pred_price, timestamp) VALUES (?, ?, ?, ?)\n",
      "2021-03-21 21:56:56,325 INFO sqlalchemy.engine.base.Engine ('2019-08-15 09:00:00.000000', 1063000.0, 1175064.7989545658, '2021-03-21 21:56:37.175518')\n",
      "2021-03-21 21:56:56,334 INFO sqlalchemy.engine.base.Engine INSERT INTO data (date, real_price, pred_price, timestamp) VALUES (?, ?, ?, ?)\n",
      "2021-03-21 21:56:56,338 INFO sqlalchemy.engine.base.Engine ('2019-08-16 09:00:00.000000', 1095055.0, 1100376.5718547201, '2021-03-21 21:56:37.175518')\n",
      "2021-03-21 21:56:56,343 INFO sqlalchemy.engine.base.Engine INSERT INTO data (date, real_price, pred_price, timestamp) VALUES (?, ?, ?, ?)\n",
      "2021-03-21 21:56:56,346 INFO sqlalchemy.engine.base.Engine ('2019-08-17 09:00:00.000000', 1100020.0, 1087386.1192496652, '2021-03-21 21:56:37.175518')\n",
      "2021-03-21 21:56:56,352 INFO sqlalchemy.engine.base.Engine INSERT INTO data (date, real_price, pred_price, timestamp) VALUES (?, ?, ?, ?)\n",
      "2021-03-21 21:56:56,359 INFO sqlalchemy.engine.base.Engine ('2019-08-18 09:00:00.000000', 1088953.0, 1096003.9661643456, '2021-03-21 21:56:37.175518')\n",
      "2021-03-21 21:56:56,361 INFO sqlalchemy.engine.base.Engine INSERT INTO data (date, real_price, pred_price, timestamp) VALUES (?, ?, ?, ?)\n",
      "2021-03-21 21:56:56,369 INFO sqlalchemy.engine.base.Engine ('2019-08-19 09:00:00.000000', 1098880.0, 1096054.1321128677, '2021-03-21 21:56:37.175518')\n",
      "2021-03-21 21:56:56,372 INFO sqlalchemy.engine.base.Engine INSERT INTO data (date, real_price, pred_price, timestamp) VALUES (?, ?, ?, ?)\n",
      "2021-03-21 21:56:56,377 INFO sqlalchemy.engine.base.Engine ('2019-08-20 09:00:00.000000', 1164274.0, 1099256.425513372, '2021-03-21 21:56:37.175518')\n",
      "2021-03-21 21:56:56,386 INFO sqlalchemy.engine.base.Engine INSERT INTO data (date, real_price, pred_price, timestamp) VALUES (?, ?, ?, ?)\n",
      "2021-03-21 21:56:56,389 INFO sqlalchemy.engine.base.Engine ('2019-08-21 09:00:00.000000', 1142377.0, 1174429.589211082, '2021-03-21 21:56:37.175518')\n",
      "2021-03-21 21:56:56,396 INFO sqlalchemy.engine.base.Engine INSERT INTO data (date, real_price, pred_price, timestamp) VALUES (?, ?, ?, ?)\n",
      "2021-03-21 21:56:56,400 INFO sqlalchemy.engine.base.Engine ('2019-08-22 09:00:00.000000', 1080771.0, 1153162.1306625528, '2021-03-21 21:56:37.175518')\n",
      "2021-03-21 21:56:56,405 INFO sqlalchemy.engine.base.Engine INSERT INTO data (date, real_price, pred_price, timestamp) VALUES (?, ?, ?, ?)\n",
      "2021-03-21 21:56:56,409 INFO sqlalchemy.engine.base.Engine ('2019-08-23 09:00:00.000000', 1076343.0, 1093881.6292240163, '2021-03-21 21:56:37.175518')\n",
      "2021-03-21 21:56:56,414 INFO sqlalchemy.engine.base.Engine INSERT INTO data (date, real_price, pred_price, timestamp) VALUES (?, ?, ?, ?)\n",
      "2021-03-21 21:56:56,417 INFO sqlalchemy.engine.base.Engine ('2019-08-24 09:00:00.000000', 1097352.0, 1079409.113892994, '2021-03-21 21:56:37.175518')\n",
      "2021-03-21 21:56:56,425 INFO sqlalchemy.engine.base.Engine INSERT INTO data (date, real_price, pred_price, timestamp) VALUES (?, ?, ?, ?)\n",
      "2021-03-21 21:56:56,427 INFO sqlalchemy.engine.base.Engine ('2019-08-25 09:00:00.000000', 1069511.0, 1089857.4071577333, '2021-03-21 21:56:37.175518')\n",
      "2021-03-21 21:56:56,431 INFO sqlalchemy.engine.base.Engine INSERT INTO data (date, real_price, pred_price, timestamp) VALUES (?, ?, ?, ?)\n",
      "2021-03-21 21:56:56,438 INFO sqlalchemy.engine.base.Engine ('2019-08-26 09:00:00.000000', 1064237.0, 1078737.3448844387, '2021-03-21 21:56:37.175518')\n",
      "2021-03-21 21:56:56,443 INFO sqlalchemy.engine.base.Engine INSERT INTO data (date, real_price, pred_price, timestamp) VALUES (?, ?, ?, ?)\n",
      "2021-03-21 21:56:56,449 INFO sqlalchemy.engine.base.Engine ('2019-08-27 09:00:00.000000', 1097674.0, 1067173.140768795, '2021-03-21 21:56:37.175518')\n",
      "2021-03-21 21:56:56,455 INFO sqlalchemy.engine.base.Engine INSERT INTO data (date, real_price, pred_price, timestamp) VALUES (?, ?, ?, ?)\n",
      "2021-03-21 21:56:56,455 INFO sqlalchemy.engine.base.Engine ('2019-08-28 09:00:00.000000', 1075910.0, 1094304.076831212, '2021-03-21 21:56:37.175518')\n",
      "2021-03-21 21:56:56,462 INFO sqlalchemy.engine.base.Engine INSERT INTO data (date, real_price, pred_price, timestamp) VALUES (?, ?, ?, ?)\n",
      "2021-03-21 21:56:56,466 INFO sqlalchemy.engine.base.Engine ('2019-08-29 09:00:00.000000', 1032192.0, 1080648.2963246733, '2021-03-21 21:56:37.175518')\n",
      "2021-03-21 21:56:56,470 INFO sqlalchemy.engine.base.Engine INSERT INTO data (date, real_price, pred_price, timestamp) VALUES (?, ?, ?, ?)\n",
      "2021-03-21 21:56:56,473 INFO sqlalchemy.engine.base.Engine ('2019-08-30 09:00:00.000000', 1011000.0, 1046613.5900191733, '2021-03-21 21:56:37.175518')\n",
      "2021-03-21 21:56:56,474 INFO sqlalchemy.engine.base.Engine INSERT INTO data (date, real_price, pred_price, timestamp) VALUES (?, ?, ?, ?)\n",
      "2021-03-21 21:56:56,479 INFO sqlalchemy.engine.base.Engine ('2019-08-31 09:00:00.000000', 1018178.0, 1020542.2173779127, '2021-03-21 21:56:37.175518')\n",
      "2021-03-21 21:56:56,484 INFO sqlalchemy.engine.base.Engine INSERT INTO data (date, real_price, pred_price, timestamp) VALUES (?, ?, ?, ?)\n",
      "2021-03-21 21:56:56,491 INFO sqlalchemy.engine.base.Engine ('2019-09-01 09:00:00.000000', 1020001.0, 1016374.150849787, '2021-03-21 21:56:37.175518')\n",
      "2021-03-21 21:56:56,498 INFO sqlalchemy.engine.base.Engine INSERT INTO data (date, real_price, pred_price, timestamp) VALUES (?, ?, ?, ?)\n",
      "2021-03-21 21:56:56,502 INFO sqlalchemy.engine.base.Engine ('2019-09-02 09:00:00.000000', 1036267.0, 1020914.2019637893, '2021-03-21 21:56:37.175518')\n",
      "2021-03-21 21:56:56,507 INFO sqlalchemy.engine.base.Engine INSERT INTO data (date, real_price, pred_price, timestamp) VALUES (?, ?, ?, ?)\n",
      "2021-03-21 21:56:56,507 INFO sqlalchemy.engine.base.Engine ('2019-09-03 09:00:00.000000', 1102000.0, 1038206.4036419914, '2021-03-21 21:56:37.175518')\n",
      "2021-03-21 21:56:56,512 INFO sqlalchemy.engine.base.Engine INSERT INTO data (date, real_price, pred_price, timestamp) VALUES (?, ?, ?, ?)\n",
      "2021-03-21 21:56:56,519 INFO sqlalchemy.engine.base.Engine ('2019-09-04 09:00:00.000000', 1123874.0, 1117123.3701887294, '2021-03-21 21:56:37.175518')\n",
      "2021-03-21 21:56:56,525 INFO sqlalchemy.engine.base.Engine INSERT INTO data (date, real_price, pred_price, timestamp) VALUES (?, ?, ?, ?)\n",
      "2021-03-21 21:56:56,528 INFO sqlalchemy.engine.base.Engine ('2019-09-05 09:00:00.000000', 1124541.0, 1142791.3806001337, '2021-03-21 21:56:37.175518')\n",
      "2021-03-21 21:56:56,535 INFO sqlalchemy.engine.base.Engine INSERT INTO data (date, real_price, pred_price, timestamp) VALUES (?, ?, ?, ?)\n",
      "2021-03-21 21:56:56,540 INFO sqlalchemy.engine.base.Engine ('2019-09-06 09:00:00.000000', 1131641.0, 1132410.210367677, '2021-03-21 21:56:37.175518')\n",
      "2021-03-21 21:56:56,540 INFO sqlalchemy.engine.base.Engine INSERT INTO data (date, real_price, pred_price, timestamp) VALUES (?, ?, ?, ?)\n",
      "2021-03-21 21:56:56,547 INFO sqlalchemy.engine.base.Engine ('2019-09-07 09:00:00.000000', 1103996.0, 1134383.8938055187, '2021-03-21 21:56:37.175518')\n",
      "2021-03-21 21:56:56,553 INFO sqlalchemy.engine.base.Engine INSERT INTO data (date, real_price, pred_price, timestamp) VALUES (?, ?, ?, ?)\n",
      "2021-03-21 21:56:56,556 INFO sqlalchemy.engine.base.Engine ('2019-09-08 09:00:00.000000', 1121490.0, 1109105.0632164108, '2021-03-21 21:56:37.175518')\n",
      "2021-03-21 21:56:56,563 INFO sqlalchemy.engine.base.Engine INSERT INTO data (date, real_price, pred_price, timestamp) VALUES (?, ?, ?, ?)\n",
      "2021-03-21 21:56:56,566 INFO sqlalchemy.engine.base.Engine ('2019-09-09 09:00:00.000000', 1112171.0, 1117269.0437964194, '2021-03-21 21:56:37.175518')\n",
      "2021-03-21 21:56:56,569 INFO sqlalchemy.engine.base.Engine INSERT INTO data (date, real_price, pred_price, timestamp) VALUES (?, ?, ?, ?)\n",
      "2021-03-21 21:56:56,575 INFO sqlalchemy.engine.base.Engine ('2019-09-10 09:00:00.000000', 1106945.0, 1113352.6870245493, '2021-03-21 21:56:37.175518')\n",
      "2021-03-21 21:56:56,580 INFO sqlalchemy.engine.base.Engine INSERT INTO data (date, real_price, pred_price, timestamp) VALUES (?, ?, ?, ?)\n",
      "2021-03-21 21:56:56,585 INFO sqlalchemy.engine.base.Engine ('2019-09-11 09:00:00.000000', 1086657.0, 1109316.651823044, '2021-03-21 21:56:37.175518')\n"
     ]
    },
    {
     "name": "stdout",
     "output_type": "stream",
     "text": [
      "2021-03-21 21:56:56,589 INFO sqlalchemy.engine.base.Engine INSERT INTO data (date, real_price, pred_price, timestamp) VALUES (?, ?, ?, ?)\n",
      "2021-03-21 21:56:56,591 INFO sqlalchemy.engine.base.Engine ('2019-09-12 09:00:00.000000', 1095555.0, 1093711.6546010508, '2021-03-21 21:56:37.175518')\n",
      "2021-03-21 21:56:56,600 INFO sqlalchemy.engine.base.Engine INSERT INTO data (date, real_price, pred_price, timestamp) VALUES (?, ?, ?, ?)\n",
      "2021-03-21 21:56:56,602 INFO sqlalchemy.engine.base.Engine ('2019-09-13 09:00:00.000000', 1126914.0, 1093386.1536305873, '2021-03-21 21:56:37.175518')\n",
      "2021-03-21 21:56:56,605 INFO sqlalchemy.engine.base.Engine INSERT INTO data (date, real_price, pred_price, timestamp) VALUES (?, ?, ?, ?)\n",
      "2021-03-21 21:56:56,612 INFO sqlalchemy.engine.base.Engine ('2019-09-14 09:00:00.000000', 1119558.0, 1125879.0048884826, '2021-03-21 21:56:37.175518')\n",
      "2021-03-21 21:56:56,617 INFO sqlalchemy.engine.base.Engine INSERT INTO data (date, real_price, pred_price, timestamp) VALUES (?, ?, ?, ?)\n",
      "2021-03-21 21:56:56,620 INFO sqlalchemy.engine.base.Engine ('2019-09-15 09:00:00.000000', 1118737.0, 1125519.8049875796, '2021-03-21 21:56:37.175518')\n",
      "2021-03-21 21:56:56,623 INFO sqlalchemy.engine.base.Engine INSERT INTO data (date, real_price, pred_price, timestamp) VALUES (?, ?, ?, ?)\n",
      "2021-03-21 21:56:56,628 INFO sqlalchemy.engine.base.Engine ('2019-09-16 09:00:00.000000', 1111526.0, 1120455.6240321868, '2021-03-21 21:56:37.175518')\n",
      "2021-03-21 21:56:56,632 INFO sqlalchemy.engine.base.Engine INSERT INTO data (date, real_price, pred_price, timestamp) VALUES (?, ?, ?, ?)\n",
      "2021-03-21 21:56:56,638 INFO sqlalchemy.engine.base.Engine ('2019-09-17 09:00:00.000000', 1108663.0, 1112674.484461395, '2021-03-21 21:56:37.175518')\n",
      "2021-03-21 21:56:56,642 INFO sqlalchemy.engine.base.Engine INSERT INTO data (date, real_price, pred_price, timestamp) VALUES (?, ?, ?, ?)\n",
      "2021-03-21 21:56:56,646 INFO sqlalchemy.engine.base.Engine ('2019-09-18 09:00:00.000000', 1101600.0, 1110257.870198702, '2021-03-21 21:56:37.175518')\n",
      "2021-03-21 21:56:56,650 INFO sqlalchemy.engine.base.Engine INSERT INTO data (date, real_price, pred_price, timestamp) VALUES (?, ?, ?, ?)\n",
      "2021-03-21 21:56:56,655 INFO sqlalchemy.engine.base.Engine ('2019-09-19 09:00:00.000000', 1100344.0, 1104370.4520426507, '2021-03-21 21:56:37.175518')\n",
      "2021-03-21 21:56:56,659 INFO sqlalchemy.engine.base.Engine INSERT INTO data (date, real_price, pred_price, timestamp) VALUES (?, ?, ?, ?)\n",
      "2021-03-21 21:56:56,663 INFO sqlalchemy.engine.base.Engine ('2019-09-20 09:00:00.000000', 1108999.0, 1101312.5865201687, '2021-03-21 21:56:37.175518')\n",
      "2021-03-21 21:56:56,669 INFO sqlalchemy.engine.base.Engine INSERT INTO data (date, real_price, pred_price, timestamp) VALUES (?, ?, ?, ?)\n",
      "2021-03-21 21:56:56,674 INFO sqlalchemy.engine.base.Engine ('2019-09-21 09:00:00.000000', 1093999.0, 1106861.9751878693, '2021-03-21 21:56:37.175518')\n",
      "2021-03-21 21:56:56,674 INFO sqlalchemy.engine.base.Engine INSERT INTO data (date, real_price, pred_price, timestamp) VALUES (?, ?, ?, ?)\n",
      "2021-03-21 21:56:56,681 INFO sqlalchemy.engine.base.Engine ('2019-09-22 09:00:00.000000', 1074107.0, 1097980.5264918935, '2021-03-21 21:56:37.175518')\n",
      "2021-03-21 21:56:56,688 INFO sqlalchemy.engine.base.Engine INSERT INTO data (date, real_price, pred_price, timestamp) VALUES (?, ?, ?, ?)\n",
      "2021-03-21 21:56:56,693 INFO sqlalchemy.engine.base.Engine ('2019-09-23 09:00:00.000000', 1081500.0, 1081970.9025143222, '2021-03-21 21:56:37.175518')\n",
      "2021-03-21 21:56:56,697 INFO sqlalchemy.engine.base.Engine INSERT INTO data (date, real_price, pred_price, timestamp) VALUES (?, ?, ?, ?)\n",
      "2021-03-21 21:56:56,700 INFO sqlalchemy.engine.base.Engine ('2019-09-24 09:00:00.000000', 1044001.0, 1079452.8908586884, '2021-03-21 21:56:37.175518')\n",
      "2021-03-21 21:56:56,707 INFO sqlalchemy.engine.base.Engine INSERT INTO data (date, real_price, pred_price, timestamp) VALUES (?, ?, ?, ?)\n",
      "2021-03-21 21:56:56,709 INFO sqlalchemy.engine.base.Engine ('2019-09-25 09:00:00.000000', 917999.0, 1057004.0885347978, '2021-03-21 21:56:37.175518')\n",
      "2021-03-21 21:56:56,714 INFO sqlalchemy.engine.base.Engine INSERT INTO data (date, real_price, pred_price, timestamp) VALUES (?, ?, ?, ?)\n",
      "2021-03-21 21:56:56,720 INFO sqlalchemy.engine.base.Engine ('2019-09-26 09:00:00.000000', 910274.0, 966445.5353637098, '2021-03-21 21:56:37.175518')\n",
      "2021-03-21 21:56:56,725 INFO sqlalchemy.engine.base.Engine INSERT INTO data (date, real_price, pred_price, timestamp) VALUES (?, ?, ?, ?)\n",
      "2021-03-21 21:56:56,725 INFO sqlalchemy.engine.base.Engine ('2019-09-27 09:00:00.000000', 869605.0, 919073.9579334122, '2021-03-21 21:56:37.175518')\n",
      "2021-03-21 21:56:56,734 INFO sqlalchemy.engine.base.Engine INSERT INTO data (date, real_price, pred_price, timestamp) VALUES (?, ?, ?, ?)\n",
      "2021-03-21 21:56:56,740 INFO sqlalchemy.engine.base.Engine ('2019-09-28 09:00:00.000000', 886900.0, 883012.8871747531, '2021-03-21 21:56:37.175518')\n",
      "2021-03-21 21:56:56,745 INFO sqlalchemy.engine.base.Engine INSERT INTO data (date, real_price, pred_price, timestamp) VALUES (?, ?, ?, ?)\n",
      "2021-03-21 21:56:56,749 INFO sqlalchemy.engine.base.Engine ('2019-09-29 09:00:00.000000', 887254.0, 888250.0334045187, '2021-03-21 21:56:37.175518')\n",
      "2021-03-21 21:56:56,756 INFO sqlalchemy.engine.base.Engine INSERT INTO data (date, real_price, pred_price, timestamp) VALUES (?, ?, ?, ?)\n",
      "2021-03-21 21:56:56,759 INFO sqlalchemy.engine.base.Engine ('2019-09-30 09:00:00.000000', 869799.0, 885521.3823356236, '2021-03-21 21:56:37.175518')\n",
      "2021-03-21 21:56:56,763 INFO sqlalchemy.engine.base.Engine INSERT INTO data (date, real_price, pred_price, timestamp) VALUES (?, ?, ?, ?)\n",
      "2021-03-21 21:56:56,767 INFO sqlalchemy.engine.base.Engine ('2019-10-01 09:00:00.000000', 898291.0, 875519.0888577075, '2021-03-21 21:56:37.175518')\n",
      "2021-03-21 21:56:56,771 INFO sqlalchemy.engine.base.Engine INSERT INTO data (date, real_price, pred_price, timestamp) VALUES (?, ?, ?, ?)\n",
      "2021-03-21 21:56:56,776 INFO sqlalchemy.engine.base.Engine ('2019-10-02 09:00:00.000000', 896313.0, 897405.2439800795, '2021-03-21 21:56:37.175518')\n",
      "2021-03-21 21:56:56,781 INFO sqlalchemy.engine.base.Engine INSERT INTO data (date, real_price, pred_price, timestamp) VALUES (?, ?, ?, ?)\n",
      "2021-03-21 21:56:56,786 INFO sqlalchemy.engine.base.Engine ('2019-10-03 09:00:00.000000', 899088.0, 900267.843972544, '2021-03-21 21:56:37.175518')\n",
      "2021-03-21 21:56:56,791 INFO sqlalchemy.engine.base.Engine INSERT INTO data (date, real_price, pred_price, timestamp) VALUES (?, ?, ?, ?)\n",
      "2021-03-21 21:56:56,791 INFO sqlalchemy.engine.base.Engine ('2019-10-04 09:00:00.000000', 881977.0, 901886.3255266214, '2021-03-21 21:56:37.175518')\n",
      "2021-03-21 21:56:56,798 INFO sqlalchemy.engine.base.Engine INSERT INTO data (date, real_price, pred_price, timestamp) VALUES (?, ?, ?, ?)\n",
      "2021-03-21 21:56:56,803 INFO sqlalchemy.engine.base.Engine ('2019-10-05 09:00:00.000000', 873171.0, 884161.7355880638, '2021-03-21 21:56:37.175518')\n",
      "2021-03-21 21:56:56,807 INFO sqlalchemy.engine.base.Engine INSERT INTO data (date, real_price, pred_price, timestamp) VALUES (?, ?, ?, ?)\n",
      "2021-03-21 21:56:56,810 INFO sqlalchemy.engine.base.Engine ('2019-10-06 09:00:00.000000', 872594.0, 877389.6138474441, '2021-03-21 21:56:37.175518')\n",
      "2021-03-21 21:56:56,818 INFO sqlalchemy.engine.base.Engine INSERT INTO data (date, real_price, pred_price, timestamp) VALUES (?, ?, ?, ?)\n",
      "2021-03-21 21:56:56,819 INFO sqlalchemy.engine.base.Engine ('2019-10-07 09:00:00.000000', 841354.0, 872982.7001454183, '2021-03-21 21:56:37.175518')\n",
      "2021-03-21 21:56:56,826 INFO sqlalchemy.engine.base.Engine INSERT INTO data (date, real_price, pred_price, timestamp) VALUES (?, ?, ?, ?)\n",
      "2021-03-21 21:56:56,829 INFO sqlalchemy.engine.base.Engine ('2019-10-08 09:00:00.000000', 879399.0, 852965.6010713273, '2021-03-21 21:56:37.175518')\n",
      "2021-03-21 21:56:56,836 INFO sqlalchemy.engine.base.Engine INSERT INTO data (date, real_price, pred_price, timestamp) VALUES (?, ?, ?, ?)\n",
      "2021-03-21 21:56:56,839 INFO sqlalchemy.engine.base.Engine ('2019-10-09 09:00:00.000000', 874804.0, 870588.7983569038, '2021-03-21 21:56:37.175518')\n",
      "2021-03-21 21:56:56,844 INFO sqlalchemy.engine.base.Engine INSERT INTO data (date, real_price, pred_price, timestamp) VALUES (?, ?, ?, ?)\n"
     ]
    },
    {
     "name": "stdout",
     "output_type": "stream",
     "text": [
      "2021-03-21 21:56:56,848 INFO sqlalchemy.engine.base.Engine ('2019-10-10 09:00:00.000000', 919414.0, 877355.1759821702, '2021-03-21 21:56:37.175518')\n",
      "2021-03-21 21:56:56,852 INFO sqlalchemy.engine.base.Engine INSERT INTO data (date, real_price, pred_price, timestamp) VALUES (?, ?, ?, ?)\n",
      "2021-03-21 21:56:56,856 INFO sqlalchemy.engine.base.Engine ('2019-10-11 09:00:00.000000', 926444.0, 929125.3558280511, '2021-03-21 21:56:37.175518')\n",
      "2021-03-21 21:56:56,861 INFO sqlalchemy.engine.base.Engine INSERT INTO data (date, real_price, pred_price, timestamp) VALUES (?, ?, ?, ?)\n",
      "2021-03-21 21:56:56,866 INFO sqlalchemy.engine.base.Engine ('2019-10-12 09:00:00.000000', 898000.0, 936828.0438272042, '2021-03-21 21:56:37.175518')\n",
      "2021-03-21 21:56:56,872 INFO sqlalchemy.engine.base.Engine INSERT INTO data (date, real_price, pred_price, timestamp) VALUES (?, ?, ?, ?)\n",
      "2021-03-21 21:56:56,873 INFO sqlalchemy.engine.base.Engine ('2019-10-13 09:00:00.000000', 901833.0, 901124.3079474282, '2021-03-21 21:56:37.175518')\n",
      "2021-03-21 21:56:56,878 INFO sqlalchemy.engine.base.Engine INSERT INTO data (date, real_price, pred_price, timestamp) VALUES (?, ?, ?, ?)\n",
      "2021-03-21 21:56:56,883 INFO sqlalchemy.engine.base.Engine ('2019-10-14 09:00:00.000000', 899998.0, 900920.9556832971, '2021-03-21 21:56:37.175518')\n",
      "2021-03-21 21:56:56,891 INFO sqlalchemy.engine.base.Engine INSERT INTO data (date, real_price, pred_price, timestamp) VALUES (?, ?, ?, ?)\n",
      "2021-03-21 21:56:56,895 INFO sqlalchemy.engine.base.Engine ('2019-10-15 09:00:00.000000', 905500.0, 899789.441708683, '2021-03-21 21:56:37.175518')\n",
      "2021-03-21 21:56:56,900 INFO sqlalchemy.engine.base.Engine INSERT INTO data (date, real_price, pred_price, timestamp) VALUES (?, ?, ?, ?)\n",
      "2021-03-21 21:56:56,905 INFO sqlalchemy.engine.base.Engine ('2019-10-16 09:00:00.000000', 887464.0, 906086.5374567377, '2021-03-21 21:56:37.175518')\n",
      "2021-03-21 21:56:56,908 INFO sqlalchemy.engine.base.Engine INSERT INTO data (date, real_price, pred_price, timestamp) VALUES (?, ?, ?, ?)\n",
      "2021-03-21 21:56:56,911 INFO sqlalchemy.engine.base.Engine ('2019-10-17 09:00:00.000000', 869340.0, 892615.6639465167, '2021-03-21 21:56:37.175518')\n",
      "2021-03-21 21:56:56,913 INFO sqlalchemy.engine.base.Engine INSERT INTO data (date, real_price, pred_price, timestamp) VALUES (?, ?, ?, ?)\n",
      "2021-03-21 21:56:56,919 INFO sqlalchemy.engine.base.Engine ('2019-10-18 09:00:00.000000', 877000.0, 877009.9266167805, '2021-03-21 21:56:37.175518')\n",
      "2021-03-21 21:56:56,924 INFO sqlalchemy.engine.base.Engine INSERT INTO data (date, real_price, pred_price, timestamp) VALUES (?, ?, ?, ?)\n",
      "2021-03-21 21:56:56,926 INFO sqlalchemy.engine.base.Engine ('2019-10-19 09:00:00.000000', 862890.0, 874740.8667865627, '2021-03-21 21:56:37.175518')\n",
      "2021-03-21 21:56:56,931 INFO sqlalchemy.engine.base.Engine INSERT INTO data (date, real_price, pred_price, timestamp) VALUES (?, ?, ?, ?)\n",
      "2021-03-21 21:56:56,936 INFO sqlalchemy.engine.base.Engine ('2019-10-20 09:00:00.000000', 863000.0, 867360.1721643425, '2021-03-21 21:56:37.175518')\n",
      "2021-03-21 21:56:56,941 INFO sqlalchemy.engine.base.Engine INSERT INTO data (date, real_price, pred_price, timestamp) VALUES (?, ?, ?, ?)\n",
      "2021-03-21 21:56:56,945 INFO sqlalchemy.engine.base.Engine ('2019-10-21 09:00:00.000000', 891400.0, 864055.3228716671, '2021-03-21 21:56:37.175518')\n",
      "2021-03-21 21:56:56,950 INFO sqlalchemy.engine.base.Engine INSERT INTO data (date, real_price, pred_price, timestamp) VALUES (?, ?, ?, ?)\n",
      "2021-03-21 21:56:56,954 INFO sqlalchemy.engine.base.Engine ('2019-10-22 09:00:00.000000', 891947.0, 891596.2399381073, '2021-03-21 21:56:37.175518')\n",
      "2021-03-21 21:56:56,959 INFO sqlalchemy.engine.base.Engine INSERT INTO data (date, real_price, pred_price, timestamp) VALUES (?, ?, ?, ?)\n",
      "2021-03-21 21:56:56,963 INFO sqlalchemy.engine.base.Engine ('2019-10-23 09:00:00.000000', 870050.0, 898102.7739150716, '2021-03-21 21:56:37.175518')\n",
      "2021-03-21 21:56:56,970 INFO sqlalchemy.engine.base.Engine INSERT INTO data (date, real_price, pred_price, timestamp) VALUES (?, ?, ?, ?)\n",
      "2021-03-21 21:56:56,972 INFO sqlalchemy.engine.base.Engine ('2019-10-24 09:00:00.000000', 812505.0, 872826.1413195668, '2021-03-21 21:56:37.175518')\n",
      "2021-03-21 21:56:56,978 INFO sqlalchemy.engine.base.Engine INSERT INTO data (date, real_price, pred_price, timestamp) VALUES (?, ?, ?, ?)\n",
      "2021-03-21 21:56:56,982 INFO sqlalchemy.engine.base.Engine ('2019-10-25 09:00:00.000000', 807310.0, 832870.0999295374, '2021-03-21 21:56:37.175518')\n",
      "2021-03-21 21:56:56,987 INFO sqlalchemy.engine.base.Engine INSERT INTO data (date, real_price, pred_price, timestamp) VALUES (?, ?, ?, ?)\n",
      "2021-03-21 21:56:56,993 INFO sqlalchemy.engine.base.Engine ('2019-10-26 09:00:00.000000', 940000.0, 812026.8939590504, '2021-03-21 21:56:37.175518')\n",
      "2021-03-21 21:56:56,996 INFO sqlalchemy.engine.base.Engine INSERT INTO data (date, real_price, pred_price, timestamp) VALUES (?, ?, ?, ?)\n",
      "2021-03-21 21:56:57,004 INFO sqlalchemy.engine.base.Engine ('2019-10-27 09:00:00.000000', 1002159.0, 927254.6741293434, '2021-03-21 21:56:37.175518')\n",
      "2021-03-21 21:56:57,009 INFO sqlalchemy.engine.base.Engine INSERT INTO data (date, real_price, pred_price, timestamp) VALUES (?, ?, ?, ?)\n",
      "2021-03-21 21:56:57,014 INFO sqlalchemy.engine.base.Engine ('2019-10-28 09:00:00.000000', 1037500.0, 1040749.21771942, '2021-03-21 21:56:37.175518')\n",
      "2021-03-21 21:56:57,019 INFO sqlalchemy.engine.base.Engine INSERT INTO data (date, real_price, pred_price, timestamp) VALUES (?, ?, ?, ?)\n",
      "2021-03-21 21:56:57,023 INFO sqlalchemy.engine.base.Engine ('2019-10-29 09:00:00.000000', 1003370.0, 1064075.7653841071, '2021-03-21 21:56:37.175518')\n",
      "2021-03-21 21:56:57,029 INFO sqlalchemy.engine.base.Engine INSERT INTO data (date, real_price, pred_price, timestamp) VALUES (?, ?, ?, ?)\n",
      "2021-03-21 21:56:57,034 INFO sqlalchemy.engine.base.Engine ('2019-10-30 09:00:00.000000', 1025514.0, 1007694.0657687188, '2021-03-21 21:56:37.175518')\n",
      "2021-03-21 21:56:57,035 INFO sqlalchemy.engine.base.Engine INSERT INTO data (date, real_price, pred_price, timestamp) VALUES (?, ?, ?, ?)\n",
      "2021-03-21 21:56:57,043 INFO sqlalchemy.engine.base.Engine ('2019-10-31 09:00:00.000000', 997247.0, 1026776.8012804028, '2021-03-21 21:56:37.175518')\n",
      "2021-03-21 21:56:57,044 INFO sqlalchemy.engine.base.Engine INSERT INTO data (date, real_price, pred_price, timestamp) VALUES (?, ?, ?, ?)\n",
      "2021-03-21 21:56:57,050 INFO sqlalchemy.engine.base.Engine ('2019-11-01 09:00:00.000000', 988920.0, 1004226.8602552675, '2021-03-21 21:56:37.175518')\n",
      "2021-03-21 21:56:57,055 INFO sqlalchemy.engine.base.Engine INSERT INTO data (date, real_price, pred_price, timestamp) VALUES (?, ?, ?, ?)\n",
      "2021-03-21 21:56:57,058 INFO sqlalchemy.engine.base.Engine ('2019-11-02 09:00:00.000000', 999769.0, 993650.4808873853, '2021-03-21 21:56:37.175518')\n",
      "2021-03-21 21:56:57,064 INFO sqlalchemy.engine.base.Engine INSERT INTO data (date, real_price, pred_price, timestamp) VALUES (?, ?, ?, ?)\n",
      "2021-03-21 21:56:57,070 INFO sqlalchemy.engine.base.Engine ('2019-11-03 09:00:00.000000', 1006460.0, 997127.4341525801, '2021-03-21 21:56:37.175518')\n",
      "2021-03-21 21:56:57,070 INFO sqlalchemy.engine.base.Engine INSERT INTO data (date, real_price, pred_price, timestamp) VALUES (?, ?, ?, ?)\n",
      "2021-03-21 21:56:57,078 INFO sqlalchemy.engine.base.Engine ('2019-11-04 09:00:00.000000', 996034.0, 1007047.9660170482, '2021-03-21 21:56:37.175518')\n",
      "2021-03-21 21:56:57,082 INFO sqlalchemy.engine.base.Engine INSERT INTO data (date, real_price, pred_price, timestamp) VALUES (?, ?, ?, ?)\n",
      "2021-03-21 21:56:57,086 INFO sqlalchemy.engine.base.Engine ('2019-11-05 09:00:00.000000', 1021915.0, 997493.6678601656, '2021-03-21 21:56:37.175518')\n",
      "2021-03-21 21:56:57,091 INFO sqlalchemy.engine.base.Engine INSERT INTO data (date, real_price, pred_price, timestamp) VALUES (?, ?, ?, ?)\n",
      "2021-03-21 21:56:57,095 INFO sqlalchemy.engine.base.Engine ('2019-11-06 09:00:00.000000', 1015450.0, 1024308.1681628863, '2021-03-21 21:56:37.175518')\n",
      "2021-03-21 21:56:57,098 INFO sqlalchemy.engine.base.Engine INSERT INTO data (date, real_price, pred_price, timestamp) VALUES (?, ?, ?, ?)\n",
      "2021-03-21 21:56:57,102 INFO sqlalchemy.engine.base.Engine ('2019-11-07 09:00:00.000000', 1015778.0, 1019701.3674177446, '2021-03-21 21:56:37.175518')\n"
     ]
    },
    {
     "name": "stdout",
     "output_type": "stream",
     "text": [
      "2021-03-21 21:56:57,106 INFO sqlalchemy.engine.base.Engine INSERT INTO data (date, real_price, pred_price, timestamp) VALUES (?, ?, ?, ?)\n",
      "2021-03-21 21:56:57,111 INFO sqlalchemy.engine.base.Engine ('2019-11-08 09:00:00.000000', 1006260.0, 1017766.0653658464, '2021-03-21 21:56:37.175518')\n",
      "2021-03-21 21:56:57,117 INFO sqlalchemy.engine.base.Engine INSERT INTO data (date, real_price, pred_price, timestamp) VALUES (?, ?, ?, ?)\n",
      "2021-03-21 21:56:57,120 INFO sqlalchemy.engine.base.Engine ('2019-11-09 09:00:00.000000', 957397.0, 1007809.5438165063, '2021-03-21 21:56:37.175518')\n",
      "2021-03-21 21:56:57,126 INFO sqlalchemy.engine.base.Engine INSERT INTO data (date, real_price, pred_price, timestamp) VALUES (?, ?, ?, ?)\n",
      "2021-03-21 21:56:57,126 INFO sqlalchemy.engine.base.Engine ('2019-11-10 09:00:00.000000', 962771.0, 975779.2279202447, '2021-03-21 21:56:37.175518')\n",
      "2021-03-21 21:56:57,133 INFO sqlalchemy.engine.base.Engine INSERT INTO data (date, real_price, pred_price, timestamp) VALUES (?, ?, ?, ?)\n",
      "2021-03-21 21:56:57,138 INFO sqlalchemy.engine.base.Engine ('2019-11-11 09:00:00.000000', 986500.0, 962941.7784601718, '2021-03-21 21:56:37.175518')\n",
      "2021-03-21 21:56:57,144 INFO sqlalchemy.engine.base.Engine INSERT INTO data (date, real_price, pred_price, timestamp) VALUES (?, ?, ?, ?)\n",
      "2021-03-21 21:56:57,148 INFO sqlalchemy.engine.base.Engine ('2019-11-12 09:00:00.000000', 950719.0, 978647.2424940178, '2021-03-21 21:56:37.175518')\n",
      "2021-03-21 21:56:57,153 INFO sqlalchemy.engine.base.Engine INSERT INTO data (date, real_price, pred_price, timestamp) VALUES (?, ?, ?, ?)\n",
      "2021-03-21 21:56:57,156 INFO sqlalchemy.engine.base.Engine ('2019-11-13 09:00:00.000000', 960000.0, 960409.0658570866, '2021-03-21 21:56:37.175518')\n",
      "2021-03-21 21:56:57,160 INFO sqlalchemy.engine.base.Engine INSERT INTO data (date, real_price, pred_price, timestamp) VALUES (?, ?, ?, ?)\n",
      "2021-03-21 21:56:57,165 INFO sqlalchemy.engine.base.Engine ('2019-11-14 09:00:00.000000', 953321.0, 959343.1242392822, '2021-03-21 21:56:37.175518')\n",
      "2021-03-21 21:56:57,169 INFO sqlalchemy.engine.base.Engine INSERT INTO data (date, real_price, pred_price, timestamp) VALUES (?, ?, ?, ?)\n",
      "2021-03-21 21:56:57,175 INFO sqlalchemy.engine.base.Engine ('2019-11-15 09:00:00.000000', 936240.0, 955184.277249227, '2021-03-21 21:56:37.175518')\n",
      "2021-03-21 21:56:57,179 INFO sqlalchemy.engine.base.Engine INSERT INTO data (date, real_price, pred_price, timestamp) VALUES (?, ?, ?, ?)\n",
      "2021-03-21 21:56:57,184 INFO sqlalchemy.engine.base.Engine ('2019-11-16 09:00:00.000000', 921483.0, 943100.5498861823, '2021-03-21 21:56:37.175518')\n",
      "2021-03-21 21:56:57,188 INFO sqlalchemy.engine.base.Engine INSERT INTO data (date, real_price, pred_price, timestamp) VALUES (?, ?, ?, ?)\n",
      "2021-03-21 21:56:57,192 INFO sqlalchemy.engine.base.Engine ('2019-11-17 09:00:00.000000', 923400.0, 927789.0475960516, '2021-03-21 21:56:37.175518')\n",
      "2021-03-21 21:56:57,192 INFO sqlalchemy.engine.base.Engine INSERT INTO data (date, real_price, pred_price, timestamp) VALUES (?, ?, ?, ?)\n",
      "2021-03-21 21:56:57,202 INFO sqlalchemy.engine.base.Engine ('2019-11-18 09:00:00.000000', 925304.0, 923320.6169311483, '2021-03-21 21:56:37.175518')\n",
      "2021-03-21 21:56:57,208 INFO sqlalchemy.engine.base.Engine INSERT INTO data (date, real_price, pred_price, timestamp) VALUES (?, ?, ?, ?)\n",
      "2021-03-21 21:56:57,212 INFO sqlalchemy.engine.base.Engine ('2019-11-19 09:00:00.000000', 888914.0, 924997.9665618062, '2021-03-21 21:56:37.175518')\n",
      "2021-03-21 21:56:57,218 INFO sqlalchemy.engine.base.Engine INSERT INTO data (date, real_price, pred_price, timestamp) VALUES (?, ?, ?, ?)\n",
      "2021-03-21 21:56:57,219 INFO sqlalchemy.engine.base.Engine ('2019-11-20 09:00:00.000000', 880856.0, 901658.770723098, '2021-03-21 21:56:37.175518')\n",
      "2021-03-21 21:56:57,226 INFO sqlalchemy.engine.base.Engine INSERT INTO data (date, real_price, pred_price, timestamp) VALUES (?, ?, ?, ?)\n",
      "2021-03-21 21:56:57,228 INFO sqlalchemy.engine.base.Engine ('2019-11-21 09:00:00.000000', 876921.0, 885596.8284575036, '2021-03-21 21:56:37.175518')\n",
      "2021-03-21 21:56:57,228 INFO sqlalchemy.engine.base.Engine INSERT INTO data (date, real_price, pred_price, timestamp) VALUES (?, ?, ?, ?)\n",
      "2021-03-21 21:56:57,235 INFO sqlalchemy.engine.base.Engine ('2019-11-22 09:00:00.000000', 827661.0, 878104.1729475906, '2021-03-21 21:56:37.175518')\n",
      "2021-03-21 21:56:57,243 INFO sqlalchemy.engine.base.Engine INSERT INTO data (date, real_price, pred_price, timestamp) VALUES (?, ?, ?, ?)\n",
      "2021-03-21 21:56:57,245 INFO sqlalchemy.engine.base.Engine ('2019-11-23 09:00:00.000000', 791420.0, 846267.7134121375, '2021-03-21 21:56:37.175518')\n",
      "2021-03-21 21:56:57,253 INFO sqlalchemy.engine.base.Engine INSERT INTO data (date, real_price, pred_price, timestamp) VALUES (?, ?, ?, ?)\n",
      "2021-03-21 21:56:57,257 INFO sqlalchemy.engine.base.Engine ('2019-11-24 09:00:00.000000', 796610.0, 808011.1479189683, '2021-03-21 21:56:37.175518')\n",
      "2021-03-21 21:56:57,263 INFO sqlalchemy.engine.base.Engine INSERT INTO data (date, real_price, pred_price, timestamp) VALUES (?, ?, ?, ?)\n",
      "2021-03-21 21:56:57,267 INFO sqlalchemy.engine.base.Engine ('2019-11-25 09:00:00.000000', 752853.0, 795859.7079756258, '2021-03-21 21:56:37.175518')\n",
      "2021-03-21 21:56:57,271 INFO sqlalchemy.engine.base.Engine INSERT INTO data (date, real_price, pred_price, timestamp) VALUES (?, ?, ?, ?)\n",
      "2021-03-21 21:56:57,276 INFO sqlalchemy.engine.base.Engine ('2019-11-26 09:00:00.000000', 776240.0, 768666.4263129114, '2021-03-21 21:56:37.175518')\n",
      "2021-03-21 21:56:57,281 INFO sqlalchemy.engine.base.Engine INSERT INTO data (date, real_price, pred_price, timestamp) VALUES (?, ?, ?, ?)\n",
      "2021-03-21 21:56:57,285 INFO sqlalchemy.engine.base.Engine ('2019-11-27 09:00:00.000000', 781873.0, 771189.5393997327, '2021-03-21 21:56:37.175518')\n",
      "2021-03-21 21:56:57,293 INFO sqlalchemy.engine.base.Engine INSERT INTO data (date, real_price, pred_price, timestamp) VALUES (?, ?, ?, ?)\n",
      "2021-03-21 21:56:57,297 INFO sqlalchemy.engine.base.Engine ('2019-11-28 09:00:00.000000', 822380.0, 779444.009874429, '2021-03-21 21:56:37.175518')\n",
      "2021-03-21 21:56:57,302 INFO sqlalchemy.engine.base.Engine INSERT INTO data (date, real_price, pred_price, timestamp) VALUES (?, ?, ?, ?)\n",
      "2021-03-21 21:56:57,307 INFO sqlalchemy.engine.base.Engine ('2019-11-29 09:00:00.000000', 814000.0, 830045.4517203999, '2021-03-21 21:56:37.175518')\n",
      "2021-03-21 21:56:57,312 INFO sqlalchemy.engine.base.Engine INSERT INTO data (date, real_price, pred_price, timestamp) VALUES (?, ?, ?, ?)\n",
      "2021-03-21 21:56:57,318 INFO sqlalchemy.engine.base.Engine ('2019-11-30 09:00:00.000000', 849890.0, 820630.5998226642, '2021-03-21 21:56:37.175518')\n",
      "2021-03-21 21:56:57,323 INFO sqlalchemy.engine.base.Engine INSERT INTO data (date, real_price, pred_price, timestamp) VALUES (?, ?, ?, ?)\n",
      "2021-03-21 21:56:57,326 INFO sqlalchemy.engine.base.Engine ('2019-12-01 09:00:00.000000', 827393.0, 858624.8011698641, '2021-03-21 21:56:37.175518')\n",
      "2021-03-21 21:56:57,330 INFO sqlalchemy.engine.base.Engine INSERT INTO data (date, real_price, pred_price, timestamp) VALUES (?, ?, ?, ?)\n",
      "2021-03-21 21:56:57,333 INFO sqlalchemy.engine.base.Engine ('2019-12-02 09:00:00.000000', 811428.0, 831428.8413342241, '2021-03-21 21:56:37.175518')\n",
      "2021-03-21 21:56:57,340 INFO sqlalchemy.engine.base.Engine INSERT INTO data (date, real_price, pred_price, timestamp) VALUES (?, ?, ?, ?)\n",
      "2021-03-21 21:56:57,341 INFO sqlalchemy.engine.base.Engine ('2019-12-03 09:00:00.000000', 796925.0, 816515.2683707223, '2021-03-21 21:56:37.175518')\n",
      "2021-03-21 21:56:57,347 INFO sqlalchemy.engine.base.Engine INSERT INTO data (date, real_price, pred_price, timestamp) VALUES (?, ?, ?, ?)\n",
      "2021-03-21 21:56:57,351 INFO sqlalchemy.engine.base.Engine ('2019-12-04 09:00:00.000000', 792786.0, 802416.3925195632, '2021-03-21 21:56:37.175518')\n",
      "2021-03-21 21:56:57,358 INFO sqlalchemy.engine.base.Engine INSERT INTO data (date, real_price, pred_price, timestamp) VALUES (?, ?, ?, ?)\n",
      "2021-03-21 21:56:57,362 INFO sqlalchemy.engine.base.Engine ('2019-12-05 09:00:00.000000', 783614.0, 795402.3917810728, '2021-03-21 21:56:37.175518')\n",
      "2021-03-21 21:56:57,367 INFO sqlalchemy.engine.base.Engine INSERT INTO data (date, real_price, pred_price, timestamp) VALUES (?, ?, ?, ?)\n",
      "2021-03-21 21:56:57,373 INFO sqlalchemy.engine.base.Engine ('2019-12-06 09:00:00.000000', 803858.0, 787324.1381197027, '2021-03-21 21:56:37.175518')\n"
     ]
    },
    {
     "name": "stdout",
     "output_type": "stream",
     "text": [
      "2021-03-21 21:56:57,377 INFO sqlalchemy.engine.base.Engine INSERT INTO data (date, real_price, pred_price, timestamp) VALUES (?, ?, ?, ?)\n",
      "2021-03-21 21:56:57,378 INFO sqlalchemy.engine.base.Engine ('2019-12-07 09:00:00.000000', 818480.0, 799880.0778874373, '2021-03-21 21:56:37.175518')\n",
      "2021-03-21 21:56:57,386 INFO sqlalchemy.engine.base.Engine INSERT INTO data (date, real_price, pred_price, timestamp) VALUES (?, ?, ?, ?)\n",
      "2021-03-21 21:56:57,388 INFO sqlalchemy.engine.base.Engine ('2019-12-08 09:00:00.000000', 814301.0, 824113.1708676836, '2021-03-21 21:56:37.175518')\n",
      "2021-03-21 21:56:57,395 INFO sqlalchemy.engine.base.Engine INSERT INTO data (date, real_price, pred_price, timestamp) VALUES (?, ?, ?, ?)\n",
      "2021-03-21 21:56:57,398 INFO sqlalchemy.engine.base.Engine ('2019-12-09 09:00:00.000000', 816707.0, 817627.3403284145, '2021-03-21 21:56:37.175518')\n",
      "2021-03-21 21:56:57,404 INFO sqlalchemy.engine.base.Engine INSERT INTO data (date, real_price, pred_price, timestamp) VALUES (?, ?, ?, ?)\n",
      "2021-03-21 21:56:57,406 INFO sqlalchemy.engine.base.Engine ('2019-12-10 09:00:00.000000', 797959.0, 817499.6874698482, '2021-03-21 21:56:37.175518')\n",
      "2021-03-21 21:56:57,410 INFO sqlalchemy.engine.base.Engine INSERT INTO data (date, real_price, pred_price, timestamp) VALUES (?, ?, ?, ?)\n",
      "2021-03-21 21:56:57,411 INFO sqlalchemy.engine.base.Engine ('2019-12-11 09:00:00.000000', 785869.0, 802975.0864488776, '2021-03-21 21:56:37.175518')\n",
      "2021-03-21 21:56:57,417 INFO sqlalchemy.engine.base.Engine INSERT INTO data (date, real_price, pred_price, timestamp) VALUES (?, ?, ?, ?)\n",
      "2021-03-21 21:56:57,425 INFO sqlalchemy.engine.base.Engine ('2019-12-12 09:00:00.000000', 782164.0, 791493.4943575893, '2021-03-21 21:56:37.175518')\n",
      "2021-03-21 21:56:57,429 INFO sqlalchemy.engine.base.Engine INSERT INTO data (date, real_price, pred_price, timestamp) VALUES (?, ?, ?, ?)\n",
      "2021-03-21 21:56:57,436 INFO sqlalchemy.engine.base.Engine ('2019-12-13 09:00:00.000000', 786190.0, 783939.1385819464, '2021-03-21 21:56:37.175518')\n",
      "2021-03-21 21:56:57,440 INFO sqlalchemy.engine.base.Engine INSERT INTO data (date, real_price, pred_price, timestamp) VALUES (?, ?, ?, ?)\n",
      "2021-03-21 21:56:57,444 INFO sqlalchemy.engine.base.Engine ('2019-12-14 09:00:00.000000', 792353.0, 785541.8538614904, '2021-03-21 21:56:37.175518')\n",
      "2021-03-21 21:56:57,450 INFO sqlalchemy.engine.base.Engine INSERT INTO data (date, real_price, pred_price, timestamp) VALUES (?, ?, ?, ?)\n",
      "2021-03-21 21:56:57,455 INFO sqlalchemy.engine.base.Engine ('2019-12-15 09:00:00.000000', 773304.0, 792273.7159598585, '2021-03-21 21:56:37.175518')\n",
      "2021-03-21 21:56:57,460 INFO sqlalchemy.engine.base.Engine INSERT INTO data (date, real_price, pred_price, timestamp) VALUES (?, ?, ?, ?)\n",
      "2021-03-21 21:56:57,463 INFO sqlalchemy.engine.base.Engine ('2019-12-16 09:00:00.000000', 777016.0, 778399.4869403449, '2021-03-21 21:56:37.175518')\n",
      "2021-03-21 21:56:57,468 INFO sqlalchemy.engine.base.Engine INSERT INTO data (date, real_price, pred_price, timestamp) VALUES (?, ?, ?, ?)\n",
      "2021-03-21 21:56:57,472 INFO sqlalchemy.engine.base.Engine ('2019-12-17 09:00:00.000000', 754500.0, 776387.458323071, '2021-03-21 21:56:37.175518')\n",
      "2021-03-21 21:56:57,476 INFO sqlalchemy.engine.base.Engine INSERT INTO data (date, real_price, pred_price, timestamp) VALUES (?, ?, ?, ?)\n",
      "2021-03-21 21:56:57,476 INFO sqlalchemy.engine.base.Engine ('2019-12-18 09:00:00.000000', 724800.0, 762160.3968220721, '2021-03-21 21:56:37.175518')\n",
      "2021-03-21 21:56:57,483 INFO sqlalchemy.engine.base.Engine INSERT INTO data (date, real_price, pred_price, timestamp) VALUES (?, ?, ?, ?)\n",
      "2021-03-21 21:56:57,488 INFO sqlalchemy.engine.base.Engine ('2019-12-19 09:00:00.000000', 798000.0, 737473.146839964, '2021-03-21 21:56:37.175518')\n",
      "2021-03-21 21:56:57,493 INFO sqlalchemy.engine.base.Engine INSERT INTO data (date, real_price, pred_price, timestamp) VALUES (?, ?, ?, ?)\n",
      "2021-03-21 21:56:57,497 INFO sqlalchemy.engine.base.Engine ('2019-12-20 09:00:00.000000', 779042.0, 785814.1452484934, '2021-03-21 21:56:37.175518')\n",
      "2021-03-21 21:56:57,502 INFO sqlalchemy.engine.base.Engine INSERT INTO data (date, real_price, pred_price, timestamp) VALUES (?, ?, ?, ?)\n",
      "2021-03-21 21:56:57,506 INFO sqlalchemy.engine.base.Engine ('2019-12-21 09:00:00.000000', 786600.0, 788114.4171215983, '2021-03-21 21:56:37.175518')\n",
      "2021-03-21 21:56:57,510 INFO sqlalchemy.engine.base.Engine INSERT INTO data (date, real_price, pred_price, timestamp) VALUES (?, ?, ?, ?)\n",
      "2021-03-21 21:56:57,514 INFO sqlalchemy.engine.base.Engine ('2019-12-22 09:00:00.000000', 781592.0, 792940.5480327742, '2021-03-21 21:56:37.175518')\n",
      "2021-03-21 21:56:57,517 INFO sqlalchemy.engine.base.Engine INSERT INTO data (date, real_price, pred_price, timestamp) VALUES (?, ?, ?, ?)\n",
      "2021-03-21 21:56:57,519 INFO sqlalchemy.engine.base.Engine ('2019-12-23 09:00:00.000000', 821550.0, 784417.4003475109, '2021-03-21 21:56:37.175518')\n",
      "2021-03-21 21:56:57,527 INFO sqlalchemy.engine.base.Engine INSERT INTO data (date, real_price, pred_price, timestamp) VALUES (?, ?, ?, ?)\n",
      "2021-03-21 21:56:57,531 INFO sqlalchemy.engine.base.Engine ('2019-12-24 09:00:00.000000', 800320.0, 824272.8293414741, '2021-03-21 21:56:37.175518')\n",
      "2021-03-21 21:56:57,536 INFO sqlalchemy.engine.base.Engine INSERT INTO data (date, real_price, pred_price, timestamp) VALUES (?, ?, ?, ?)\n",
      "2021-03-21 21:56:57,537 INFO sqlalchemy.engine.base.Engine ('2019-12-25 09:00:00.000000', 793410.0, 805627.4217482774, '2021-03-21 21:56:37.175518')\n",
      "2021-03-21 21:56:57,542 INFO sqlalchemy.engine.base.Engine INSERT INTO data (date, real_price, pred_price, timestamp) VALUES (?, ?, ?, ?)\n",
      "2021-03-21 21:56:57,546 INFO sqlalchemy.engine.base.Engine ('2019-12-26 09:00:00.000000', 787145.0, 796381.0008389378, '2021-03-21 21:56:37.175518')\n",
      "2021-03-21 21:56:57,546 INFO sqlalchemy.engine.base.Engine INSERT INTO data (date, real_price, pred_price, timestamp) VALUES (?, ?, ?, ?)\n",
      "2021-03-21 21:56:57,553 INFO sqlalchemy.engine.base.Engine ('2019-12-27 09:00:00.000000', 788330.0, 789629.5234601032, '2021-03-21 21:56:37.175518')\n",
      "2021-03-21 21:56:57,560 INFO sqlalchemy.engine.base.Engine INSERT INTO data (date, real_price, pred_price, timestamp) VALUES (?, ?, ?, ?)\n",
      "2021-03-21 21:56:57,566 INFO sqlalchemy.engine.base.Engine ('2019-12-28 09:00:00.000000', 792233.0, 788906.0468949582, '2021-03-21 21:56:37.175518')\n",
      "2021-03-21 21:56:57,572 INFO sqlalchemy.engine.base.Engine INSERT INTO data (date, real_price, pred_price, timestamp) VALUES (?, ?, ?, ?)\n",
      "2021-03-21 21:56:57,576 INFO sqlalchemy.engine.base.Engine ('2019-12-29 09:00:00.000000', 799490.0, 791351.4667523551, '2021-03-21 21:56:37.175518')\n",
      "2021-03-21 21:56:57,580 INFO sqlalchemy.engine.base.Engine INSERT INTO data (date, real_price, pred_price, timestamp) VALUES (?, ?, ?, ?)\n",
      "2021-03-21 21:56:57,585 INFO sqlalchemy.engine.base.Engine ('2019-12-30 09:00:00.000000', 807988.0, 801244.5172541296, '2021-03-21 21:56:37.175518')\n",
      "2021-03-21 21:56:57,591 INFO sqlalchemy.engine.base.Engine INSERT INTO data (date, real_price, pred_price, timestamp) VALUES (?, ?, ?, ?)\n",
      "2021-03-21 21:56:57,595 INFO sqlalchemy.engine.base.Engine ('2019-12-31 09:00:00.000000', 787115.0, 811401.2896018835, '2021-03-21 21:56:37.175518')\n",
      "2021-03-21 21:56:57,600 INFO sqlalchemy.engine.base.Engine INSERT INTO data (date, real_price, pred_price, timestamp) VALUES (?, ?, ?, ?)\n",
      "2021-03-21 21:56:57,603 INFO sqlalchemy.engine.base.Engine ('2020-01-01 09:00:00.000000', 779450.0, 790674.4330110505, '2021-03-21 21:56:37.175518')\n",
      "2021-03-21 21:56:57,609 INFO sqlalchemy.engine.base.Engine INSERT INTO data (date, real_price, pred_price, timestamp) VALUES (?, ?, ?, ?)\n",
      "2021-03-21 21:56:57,613 INFO sqlalchemy.engine.base.Engine ('2020-01-02 09:00:00.000000', 780490.0, 782715.0506152434, '2021-03-21 21:56:37.175518')\n",
      "2021-03-21 21:56:57,617 INFO sqlalchemy.engine.base.Engine INSERT INTO data (date, real_price, pred_price, timestamp) VALUES (?, ?, ?, ?)\n",
      "2021-03-21 21:56:57,622 INFO sqlalchemy.engine.base.Engine ('2020-01-03 09:00:00.000000', 754800.0, 780151.6343449486, '2021-03-21 21:56:37.175518')\n",
      "2021-03-21 21:56:57,629 INFO sqlalchemy.engine.base.Engine INSERT INTO data (date, real_price, pred_price, timestamp) VALUES (?, ?, ?, ?)\n",
      "2021-03-21 21:56:57,632 INFO sqlalchemy.engine.base.Engine ('2020-01-04 09:00:00.000000', 793000.0, 764239.0640652262, '2021-03-21 21:56:37.175518')\n"
     ]
    },
    {
     "name": "stdout",
     "output_type": "stream",
     "text": [
      "2021-03-21 21:56:57,638 INFO sqlalchemy.engine.base.Engine INSERT INTO data (date, real_price, pred_price, timestamp) VALUES (?, ?, ?, ?)\n",
      "2021-03-21 21:56:57,638 INFO sqlalchemy.engine.base.Engine ('2020-01-05 09:00:00.000000', 794060.0, 785962.7467856073, '2021-03-21 21:56:37.175518')\n",
      "2021-03-21 21:56:57,645 INFO sqlalchemy.engine.base.Engine INSERT INTO data (date, real_price, pred_price, timestamp) VALUES (?, ?, ?, ?)\n",
      "2021-03-21 21:56:57,651 INFO sqlalchemy.engine.base.Engine ('2020-01-06 09:00:00.000000', 793632.0, 799423.4208228058, '2021-03-21 21:56:37.175518')\n",
      "2021-03-21 21:56:57,654 INFO sqlalchemy.engine.base.Engine INSERT INTO data (date, real_price, pred_price, timestamp) VALUES (?, ?, ?, ?)\n",
      "2021-03-21 21:56:57,660 INFO sqlalchemy.engine.base.Engine ('2020-01-07 09:00:00.000000', 841539.0, 797138.9311456633, '2021-03-21 21:56:37.175518')\n",
      "2021-03-21 21:56:57,662 INFO sqlalchemy.engine.base.Engine INSERT INTO data (date, real_price, pred_price, timestamp) VALUES (?, ?, ?, ?)\n",
      "2021-03-21 21:56:57,668 INFO sqlalchemy.engine.base.Engine ('2020-01-08 09:00:00.000000', 882500.0, 850645.8972080917, '2021-03-21 21:56:37.175518')\n",
      "2021-03-21 21:56:57,671 INFO sqlalchemy.engine.base.Engine INSERT INTO data (date, real_price, pred_price, timestamp) VALUES (?, ?, ?, ?)\n",
      "2021-03-21 21:56:57,677 INFO sqlalchemy.engine.base.Engine ('2020-01-09 09:00:00.000000', 877290.0, 900585.1163001559, '2021-03-21 21:56:37.175518')\n",
      "2021-03-21 21:56:57,682 INFO sqlalchemy.engine.base.Engine INSERT INTO data (date, real_price, pred_price, timestamp) VALUES (?, ?, ?, ?)\n",
      "2021-03-21 21:56:57,686 INFO sqlalchemy.engine.base.Engine ('2020-01-10 09:00:00.000000', 854944.0, 886554.3926283611, '2021-03-21 21:56:37.175518')\n",
      "2021-03-21 21:56:57,692 INFO sqlalchemy.engine.base.Engine INSERT INTO data (date, real_price, pred_price, timestamp) VALUES (?, ?, ?, ?)\n",
      "2021-03-21 21:56:57,695 INFO sqlalchemy.engine.base.Engine ('2020-01-11 09:00:00.000000', 895000.0, 855761.2942776136, '2021-03-21 21:56:37.175518')\n",
      "2021-03-21 21:56:57,699 INFO sqlalchemy.engine.base.Engine INSERT INTO data (date, real_price, pred_price, timestamp) VALUES (?, ?, ?, ?)\n",
      "2021-03-21 21:56:57,705 INFO sqlalchemy.engine.base.Engine ('2020-01-12 09:00:00.000000', 875339.0, 895457.0950968694, '2021-03-21 21:56:37.175518')\n",
      "2021-03-21 21:56:57,710 INFO sqlalchemy.engine.base.Engine INSERT INTO data (date, real_price, pred_price, timestamp) VALUES (?, ?, ?, ?)\n",
      "2021-03-21 21:56:57,715 INFO sqlalchemy.engine.base.Engine ('2020-01-13 09:00:00.000000', 892969.0, 879171.2920459665, '2021-03-21 21:56:37.175518')\n",
      "2021-03-21 21:56:57,719 INFO sqlalchemy.engine.base.Engine INSERT INTO data (date, real_price, pred_price, timestamp) VALUES (?, ?, ?, ?)\n",
      "2021-03-21 21:56:57,722 INFO sqlalchemy.engine.base.Engine ('2020-01-14 09:00:00.000000', 887538.0, 896624.3955015601, '2021-03-21 21:56:37.175518')\n",
      "2021-03-21 21:56:57,727 INFO sqlalchemy.engine.base.Engine INSERT INTO data (date, real_price, pred_price, timestamp) VALUES (?, ?, ?, ?)\n",
      "2021-03-21 21:56:57,731 INFO sqlalchemy.engine.base.Engine ('2020-01-15 09:00:00.000000', 965570.0, 891181.895369116, '2021-03-21 21:56:37.175518')\n",
      "2021-03-21 21:56:57,737 INFO sqlalchemy.engine.base.Engine INSERT INTO data (date, real_price, pred_price, timestamp) VALUES (?, ?, ?, ?)\n",
      "2021-03-21 21:56:57,742 INFO sqlalchemy.engine.base.Engine ('2020-01-16 09:00:00.000000', 964324.0, 976399.3152266636, '2021-03-21 21:56:37.175518')\n",
      "2021-03-21 21:56:57,746 INFO sqlalchemy.engine.base.Engine INSERT INTO data (date, real_price, pred_price, timestamp) VALUES (?, ?, ?, ?)\n",
      "2021-03-21 21:56:57,753 INFO sqlalchemy.engine.base.Engine ('2020-01-17 09:00:00.000000', 958730.0, 980665.511212516, '2021-03-21 21:56:37.175518')\n",
      "2021-03-21 21:56:57,755 INFO sqlalchemy.engine.base.Engine INSERT INTO data (date, real_price, pred_price, timestamp) VALUES (?, ?, ?, ?)\n",
      "2021-03-21 21:56:57,760 INFO sqlalchemy.engine.base.Engine ('2020-01-18 09:00:00.000000', 980172.0, 964495.9469680374, '2021-03-21 21:56:37.175518')\n",
      "2021-03-21 21:56:57,764 INFO sqlalchemy.engine.base.Engine INSERT INTO data (date, real_price, pred_price, timestamp) VALUES (?, ?, ?, ?)\n",
      "2021-03-21 21:56:57,767 INFO sqlalchemy.engine.base.Engine ('2020-01-19 09:00:00.000000', 981000.0, 983867.3989609955, '2021-03-21 21:56:37.175518')\n",
      "2021-03-21 21:56:57,774 INFO sqlalchemy.engine.base.Engine INSERT INTO data (date, real_price, pred_price, timestamp) VALUES (?, ?, ?, ?)\n",
      "2021-03-21 21:56:57,780 INFO sqlalchemy.engine.base.Engine ('2020-01-20 09:00:00.000000', 957880.0, 985568.1429662971, '2021-03-21 21:56:37.175518')\n",
      "2021-03-21 21:56:57,785 INFO sqlalchemy.engine.base.Engine INSERT INTO data (date, real_price, pred_price, timestamp) VALUES (?, ?, ?, ?)\n",
      "2021-03-21 21:56:57,790 INFO sqlalchemy.engine.base.Engine ('2020-01-21 09:00:00.000000', 950811.0, 962419.8439483789, '2021-03-21 21:56:37.175518')\n",
      "2021-03-21 21:56:57,793 INFO sqlalchemy.engine.base.Engine INSERT INTO data (date, real_price, pred_price, timestamp) VALUES (?, ?, ?, ?)\n",
      "2021-03-21 21:56:57,797 INFO sqlalchemy.engine.base.Engine ('2020-01-22 09:00:00.000000', 957629.0, 953491.7192624924, '2021-03-21 21:56:37.175518')\n",
      "2021-03-21 21:56:57,802 INFO sqlalchemy.engine.base.Engine INSERT INTO data (date, real_price, pred_price, timestamp) VALUES (?, ?, ?, ?)\n",
      "2021-03-21 21:56:57,807 INFO sqlalchemy.engine.base.Engine ('2020-01-23 09:00:00.000000', 950633.0, 955108.283632296, '2021-03-21 21:56:37.175518')\n",
      "2021-03-21 21:56:57,811 INFO sqlalchemy.engine.base.Engine INSERT INTO data (date, real_price, pred_price, timestamp) VALUES (?, ?, ?, ?)\n",
      "2021-03-21 21:56:57,815 INFO sqlalchemy.engine.base.Engine ('2020-01-24 09:00:00.000000', 918822.0, 953277.2373003486, '2021-03-21 21:56:37.175518')\n",
      "2021-03-21 21:56:57,821 INFO sqlalchemy.engine.base.Engine INSERT INTO data (date, real_price, pred_price, timestamp) VALUES (?, ?, ?, ?)\n",
      "2021-03-21 21:56:57,821 INFO sqlalchemy.engine.base.Engine ('2020-01-25 09:00:00.000000', 921808.0, 930527.8401644446, '2021-03-21 21:56:37.175518')\n",
      "2021-03-21 21:56:57,826 INFO sqlalchemy.engine.base.Engine INSERT INTO data (date, real_price, pred_price, timestamp) VALUES (?, ?, ?, ?)\n",
      "2021-03-21 21:56:57,830 INFO sqlalchemy.engine.base.Engine ('2020-01-26 09:00:00.000000', 911000.0, 921984.5143960763, '2021-03-21 21:56:37.175518')\n",
      "2021-03-21 21:56:57,836 INFO sqlalchemy.engine.base.Engine INSERT INTO data (date, real_price, pred_price, timestamp) VALUES (?, ?, ?, ?)\n",
      "2021-03-21 21:56:57,838 INFO sqlalchemy.engine.base.Engine ('2020-01-27 09:00:00.000000', 936240.0, 914121.456566862, '2021-03-21 21:56:37.175518')\n",
      "2021-03-21 21:56:57,846 INFO sqlalchemy.engine.base.Engine INSERT INTO data (date, real_price, pred_price, timestamp) VALUES (?, ?, ?, ?)\n",
      "2021-03-21 21:56:57,851 INFO sqlalchemy.engine.base.Engine ('2020-01-28 09:00:00.000000', 969060.0, 933250.304062685, '2021-03-21 21:56:37.175518')\n",
      "2021-03-21 21:56:57,855 INFO sqlalchemy.engine.base.Engine INSERT INTO data (date, real_price, pred_price, timestamp) VALUES (?, ?, ?, ?)\n",
      "2021-03-21 21:56:57,859 INFO sqlalchemy.engine.base.Engine ('2020-01-29 09:00:00.000000', 1022498.0, 979288.1192655243, '2021-03-21 21:56:37.175518')\n",
      "2021-03-21 21:56:57,863 INFO sqlalchemy.engine.base.Engine INSERT INTO data (date, real_price, pred_price, timestamp) VALUES (?, ?, ?, ?)\n",
      "2021-03-21 21:56:57,872 INFO sqlalchemy.engine.base.Engine ('2020-01-30 09:00:00.000000', 1011955.0, 1041323.542667647, '2021-03-21 21:56:37.175518')\n",
      "2021-03-21 21:56:57,877 INFO sqlalchemy.engine.base.Engine INSERT INTO data (date, real_price, pred_price, timestamp) VALUES (?, ?, ?, ?)\n",
      "2021-03-21 21:56:57,885 INFO sqlalchemy.engine.base.Engine ('2020-01-31 09:00:00.000000', 1031610.0, 1021355.2651302195, '2021-03-21 21:56:37.175518')\n",
      "2021-03-21 21:56:57,890 INFO sqlalchemy.engine.base.Engine INSERT INTO data (date, real_price, pred_price, timestamp) VALUES (?, ?, ?, ?)\n",
      "2021-03-21 21:56:57,894 INFO sqlalchemy.engine.base.Engine ('2020-02-01 09:00:00.000000', 1013273.0, 1037375.6589721717, '2021-03-21 21:56:37.175518')\n",
      "2021-03-21 21:56:57,894 INFO sqlalchemy.engine.base.Engine INSERT INTO data (date, real_price, pred_price, timestamp) VALUES (?, ?, ?, ?)\n",
      "2021-03-21 21:56:57,904 INFO sqlalchemy.engine.base.Engine ('2020-02-02 09:00:00.000000', 1015630.0, 1015803.6065005269, '2021-03-21 21:56:37.175518')\n"
     ]
    },
    {
     "name": "stdout",
     "output_type": "stream",
     "text": [
      "2021-03-21 21:56:57,908 INFO sqlalchemy.engine.base.Engine INSERT INTO data (date, real_price, pred_price, timestamp) VALUES (?, ?, ?, ?)\n",
      "2021-03-21 21:56:57,911 INFO sqlalchemy.engine.base.Engine ('2020-02-03 09:00:00.000000', 1010175.0, 1016230.0854699457, '2021-03-21 21:56:37.175518')\n",
      "2021-03-21 21:56:57,918 INFO sqlalchemy.engine.base.Engine INSERT INTO data (date, real_price, pred_price, timestamp) VALUES (?, ?, ?, ?)\n",
      "2021-03-21 21:56:57,922 INFO sqlalchemy.engine.base.Engine ('2020-02-04 09:00:00.000000', 1008820.0, 1012198.7363200901, '2021-03-21 21:56:37.175518')\n",
      "2021-03-21 21:56:57,927 INFO sqlalchemy.engine.base.Engine INSERT INTO data (date, real_price, pred_price, timestamp) VALUES (?, ?, ?, ?)\n",
      "2021-03-21 21:56:57,933 INFO sqlalchemy.engine.base.Engine ('2020-02-05 09:00:00.000000', 1003300.0, 1010175.9925046469, '2021-03-21 21:56:37.175518')\n",
      "2021-03-21 21:56:57,937 INFO sqlalchemy.engine.base.Engine INSERT INTO data (date, real_price, pred_price, timestamp) VALUES (?, ?, ?, ?)\n",
      "2021-03-21 21:56:57,940 INFO sqlalchemy.engine.base.Engine ('2020-02-06 09:00:00.000000', 1053671.0, 1005372.6200235791, '2021-03-21 21:56:37.175518')\n",
      "2021-03-21 21:56:57,945 INFO sqlalchemy.engine.base.Engine INSERT INTO data (date, real_price, pred_price, timestamp) VALUES (?, ?, ?, ?)\n",
      "2021-03-21 21:56:57,952 INFO sqlalchemy.engine.base.Engine ('2020-02-07 09:00:00.000000', 1070900.0, 1056834.8204788673, '2021-03-21 21:56:37.175518')\n",
      "2021-03-21 21:56:57,954 INFO sqlalchemy.engine.base.Engine INSERT INTO data (date, real_price, pred_price, timestamp) VALUES (?, ?, ?, ?)\n",
      "2021-03-21 21:56:57,961 INFO sqlalchemy.engine.base.Engine ('2020-02-08 09:00:00.000000', 1076199.0, 1084865.8225078858, '2021-03-21 21:56:37.175518')\n",
      "2021-03-21 21:56:57,965 INFO sqlalchemy.engine.base.Engine INSERT INTO data (date, real_price, pred_price, timestamp) VALUES (?, ?, ?, ?)\n",
      "2021-03-21 21:56:57,971 INFO sqlalchemy.engine.base.Engine ('2020-02-09 09:00:00.000000', 1086240.0, 1083667.5381900908, '2021-03-21 21:56:37.175518')\n",
      "2021-03-21 21:56:57,974 INFO sqlalchemy.engine.base.Engine INSERT INTO data (date, real_price, pred_price, timestamp) VALUES (?, ?, ?, ?)\n",
      "2021-03-21 21:56:57,978 INFO sqlalchemy.engine.base.Engine ('2020-02-10 09:00:00.000000', 1110975.0, 1089883.6801634864, '2021-03-21 21:56:37.175518')\n",
      "2021-03-21 21:56:57,978 INFO sqlalchemy.engine.base.Engine INSERT INTO data (date, real_price, pred_price, timestamp) VALUES (?, ?, ?, ?)\n",
      "2021-03-21 21:56:57,988 INFO sqlalchemy.engine.base.Engine ('2020-02-11 09:00:00.000000', 1081510.0, 1118253.9417429734, '2021-03-21 21:56:37.175518')\n",
      "2021-03-21 21:56:57,993 INFO sqlalchemy.engine.base.Engine INSERT INTO data (date, real_price, pred_price, timestamp) VALUES (?, ?, ?, ?)\n",
      "2021-03-21 21:56:57,997 INFO sqlalchemy.engine.base.Engine ('2020-02-12 09:00:00.000000', 1123524.0, 1084969.9286248763, '2021-03-21 21:56:37.175518')\n",
      "2021-03-21 21:56:58,004 INFO sqlalchemy.engine.base.Engine INSERT INTO data (date, real_price, pred_price, timestamp) VALUES (?, ?, ?, ?)\n",
      "2021-03-21 21:56:58,007 INFO sqlalchemy.engine.base.Engine ('2020-02-13 09:00:00.000000', 1136950.0, 1126012.6510045964, '2021-03-21 21:56:37.175518')\n",
      "2021-03-21 21:56:58,008 INFO sqlalchemy.engine.base.Engine INSERT INTO data (date, real_price, pred_price, timestamp) VALUES (?, ?, ?, ?)\n",
      "2021-03-21 21:56:58,014 INFO sqlalchemy.engine.base.Engine ('2020-02-14 09:00:00.000000', 1124591.0, 1147361.3491220817, '2021-03-21 21:56:37.175518')\n",
      "2021-03-21 21:56:58,021 INFO sqlalchemy.engine.base.Engine INSERT INTO data (date, real_price, pred_price, timestamp) VALUES (?, ?, ?, ?)\n",
      "2021-03-21 21:56:58,023 INFO sqlalchemy.engine.base.Engine ('2020-02-15 09:00:00.000000', 1137555.0, 1128506.7942435795, '2021-03-21 21:56:37.175518')\n",
      "2021-03-21 21:56:58,027 INFO sqlalchemy.engine.base.Engine INSERT INTO data (date, real_price, pred_price, timestamp) VALUES (?, ?, ?, ?)\n",
      "2021-03-21 21:56:58,034 INFO sqlalchemy.engine.base.Engine ('2020-02-16 09:00:00.000000', 1087798.0, 1138793.2642002872, '2021-03-21 21:56:37.175518')\n",
      "2021-03-21 21:56:58,038 INFO sqlalchemy.engine.base.Engine INSERT INTO data (date, real_price, pred_price, timestamp) VALUES (?, ?, ?, ?)\n",
      "2021-03-21 21:56:58,043 INFO sqlalchemy.engine.base.Engine ('2020-02-17 09:00:00.000000', 1091360.0, 1103116.0110843945, '2021-03-21 21:56:37.175518')\n",
      "2021-03-21 21:56:58,047 INFO sqlalchemy.engine.base.Engine INSERT INTO data (date, real_price, pred_price, timestamp) VALUES (?, ?, ?, ?)\n",
      "2021-03-21 21:56:58,051 INFO sqlalchemy.engine.base.Engine ('2020-02-18 09:00:00.000000', 1066850.0, 1092456.8059174416, '2021-03-21 21:56:37.175518')\n",
      "2021-03-21 21:56:58,057 INFO sqlalchemy.engine.base.Engine INSERT INTO data (date, real_price, pred_price, timestamp) VALUES (?, ?, ?, ?)\n",
      "2021-03-21 21:56:58,061 INFO sqlalchemy.engine.base.Engine ('2020-02-19 09:00:00.000000', 1118896.0, 1074572.461083091, '2021-03-21 21:56:37.175518')\n",
      "2021-03-21 21:56:58,067 INFO sqlalchemy.engine.base.Engine INSERT INTO data (date, real_price, pred_price, timestamp) VALUES (?, ?, ?, ?)\n",
      "2021-03-21 21:56:58,069 INFO sqlalchemy.engine.base.Engine ('2020-02-20 09:00:00.000000', 1068601.0, 1111451.9810546758, '2021-03-21 21:56:37.175518')\n",
      "2021-03-21 21:56:58,073 INFO sqlalchemy.engine.base.Engine INSERT INTO data (date, real_price, pred_price, timestamp) VALUES (?, ?, ?, ?)\n",
      "2021-03-21 21:56:58,078 INFO sqlalchemy.engine.base.Engine ('2020-02-21 09:00:00.000000', 1076399.0, 1078216.5229249673, '2021-03-21 21:56:37.175518')\n",
      "2021-03-21 21:56:58,084 INFO sqlalchemy.engine.base.Engine INSERT INTO data (date, real_price, pred_price, timestamp) VALUES (?, ?, ?, ?)\n",
      "2021-03-21 21:56:58,087 INFO sqlalchemy.engine.base.Engine ('2020-02-22 09:00:00.000000', 1082615.0, 1077829.8635724753, '2021-03-21 21:56:37.175518')\n",
      "2021-03-21 21:56:58,092 INFO sqlalchemy.engine.base.Engine INSERT INTO data (date, real_price, pred_price, timestamp) VALUES (?, ?, ?, ?)\n",
      "2021-03-21 21:56:58,097 INFO sqlalchemy.engine.base.Engine ('2020-02-23 09:00:00.000000', 1078573.0, 1085305.0663595225, '2021-03-21 21:56:37.175518')\n",
      "2021-03-21 21:56:58,102 INFO sqlalchemy.engine.base.Engine INSERT INTO data (date, real_price, pred_price, timestamp) VALUES (?, ?, ?, ?)\n",
      "2021-03-21 21:56:58,107 INFO sqlalchemy.engine.base.Engine ('2020-02-24 09:00:00.000000', 1111020.0, 1082247.3893149178, '2021-03-21 21:56:37.175518')\n",
      "2021-03-21 21:56:58,108 INFO sqlalchemy.engine.base.Engine INSERT INTO data (date, real_price, pred_price, timestamp) VALUES (?, ?, ?, ?)\n",
      "2021-03-21 21:56:58,115 INFO sqlalchemy.engine.base.Engine ('2020-02-25 09:00:00.000000', 1071701.0, 1116164.0272228827, '2021-03-21 21:56:37.175518')\n",
      "2021-03-21 21:56:58,119 INFO sqlalchemy.engine.base.Engine INSERT INTO data (date, real_price, pred_price, timestamp) VALUES (?, ?, ?, ?)\n",
      "2021-03-21 21:56:58,125 INFO sqlalchemy.engine.base.Engine ('2020-02-26 09:00:00.000000', 1027477.0, 1078665.7064938738, '2021-03-21 21:56:37.175518')\n",
      "2021-03-21 21:56:58,131 INFO sqlalchemy.engine.base.Engine INSERT INTO data (date, real_price, pred_price, timestamp) VALUES (?, ?, ?, ?)\n",
      "2021-03-21 21:56:58,134 INFO sqlalchemy.engine.base.Engine ('2020-02-27 09:00:00.000000', 970306.0, 1044377.6071227506, '2021-03-21 21:56:37.175518')\n",
      "2021-03-21 21:56:58,140 INFO sqlalchemy.engine.base.Engine INSERT INTO data (date, real_price, pred_price, timestamp) VALUES (?, ?, ?, ?)\n",
      "2021-03-21 21:56:58,144 INFO sqlalchemy.engine.base.Engine ('2020-02-28 09:00:00.000000', 965988.0, 993774.5466845258, '2021-03-21 21:56:37.175518')\n",
      "2021-03-21 21:56:58,152 INFO sqlalchemy.engine.base.Engine INSERT INTO data (date, real_price, pred_price, timestamp) VALUES (?, ?, ?, ?)\n",
      "2021-03-21 21:56:58,157 INFO sqlalchemy.engine.base.Engine ('2020-02-29 09:00:00.000000', 941169.0, 970855.9474935578, '2021-03-21 21:56:37.175518')\n",
      "2021-03-21 21:56:58,162 INFO sqlalchemy.engine.base.Engine INSERT INTO data (date, real_price, pred_price, timestamp) VALUES (?, ?, ?, ?)\n",
      "2021-03-21 21:56:58,167 INFO sqlalchemy.engine.base.Engine ('2020-03-01 09:00:00.000000', 923207.0, 950304.0461798218, '2021-03-21 21:56:37.175518')\n",
      "2021-03-21 21:56:58,172 INFO sqlalchemy.engine.base.Engine INSERT INTO data (date, real_price, pred_price, timestamp) VALUES (?, ?, ?, ?)\n"
     ]
    },
    {
     "name": "stdout",
     "output_type": "stream",
     "text": [
      "2021-03-21 21:56:58,173 INFO sqlalchemy.engine.base.Engine ('2020-03-02 09:00:00.000000', 920400.0, 932374.022906491, '2021-03-21 21:56:37.175518')\n",
      "2021-03-21 21:56:58,178 INFO sqlalchemy.engine.base.Engine INSERT INTO data (date, real_price, pred_price, timestamp) VALUES (?, ?, ?, ?)\n",
      "2021-03-21 21:56:58,182 INFO sqlalchemy.engine.base.Engine ('2020-03-03 09:00:00.000000', 968732.0, 922132.4869315143, '2021-03-21 21:56:37.175518')\n",
      "2021-03-21 21:56:58,188 INFO sqlalchemy.engine.base.Engine INSERT INTO data (date, real_price, pred_price, timestamp) VALUES (?, ?, ?, ?)\n",
      "2021-03-21 21:56:58,194 INFO sqlalchemy.engine.base.Engine ('2020-03-04 09:00:00.000000', 938769.0, 962662.1771830855, '2021-03-21 21:56:37.175518')\n",
      "2021-03-21 21:56:58,199 INFO sqlalchemy.engine.base.Engine INSERT INTO data (date, real_price, pred_price, timestamp) VALUES (?, ?, ?, ?)\n",
      "2021-03-21 21:56:58,204 INFO sqlalchemy.engine.base.Engine ('2020-03-05 09:00:00.000000', 944324.0, 945457.3212941234, '2021-03-21 21:56:37.175518')\n",
      "2021-03-21 21:56:58,208 INFO sqlalchemy.engine.base.Engine INSERT INTO data (date, real_price, pred_price, timestamp) VALUES (?, ?, ?, ?)\n",
      "2021-03-21 21:56:58,213 INFO sqlalchemy.engine.base.Engine ('2020-03-06 09:00:00.000000', 963433.0, 947679.0546845628, '2021-03-21 21:56:37.175518')\n",
      "2021-03-21 21:56:58,219 INFO sqlalchemy.engine.base.Engine INSERT INTO data (date, real_price, pred_price, timestamp) VALUES (?, ?, ?, ?)\n",
      "2021-03-21 21:56:58,219 INFO sqlalchemy.engine.base.Engine ('2020-03-07 09:00:00.000000', 966010.0, 968100.5010754899, '2021-03-21 21:56:37.175518')\n",
      "2021-03-21 21:56:58,225 INFO sqlalchemy.engine.base.Engine INSERT INTO data (date, real_price, pred_price, timestamp) VALUES (?, ?, ?, ?)\n",
      "2021-03-21 21:56:58,230 INFO sqlalchemy.engine.base.Engine ('2020-03-08 09:00:00.000000', 940979.0, 970042.7816793625, '2021-03-21 21:56:37.175518')\n",
      "2021-03-21 21:56:58,238 INFO sqlalchemy.engine.base.Engine INSERT INTO data (date, real_price, pred_price, timestamp) VALUES (?, ?, ?, ?)\n",
      "2021-03-21 21:56:58,243 INFO sqlalchemy.engine.base.Engine ('2020-03-09 09:00:00.000000', 837484.0, 944826.6507733163, '2021-03-21 21:56:37.175518')\n",
      "2021-03-21 21:56:58,246 INFO sqlalchemy.engine.base.Engine INSERT INTO data (date, real_price, pred_price, timestamp) VALUES (?, ?, ?, ?)\n",
      "2021-03-21 21:56:58,253 INFO sqlalchemy.engine.base.Engine ('2020-03-10 09:00:00.000000', 820200.0, 875118.5143521082, '2021-03-21 21:56:37.175518')\n",
      "2021-03-21 21:56:58,257 INFO sqlalchemy.engine.base.Engine INSERT INTO data (date, real_price, pred_price, timestamp) VALUES (?, ?, ?, ?)\n",
      "2021-03-21 21:56:58,261 INFO sqlalchemy.engine.base.Engine ('2020-03-11 09:00:00.000000', 830836.0, 831821.0091484663, '2021-03-21 21:56:37.175518')\n",
      "2021-03-21 21:56:58,264 INFO sqlalchemy.engine.base.Engine INSERT INTO data (date, real_price, pred_price, timestamp) VALUES (?, ?, ?, ?)\n",
      "2021-03-21 21:56:58,269 INFO sqlalchemy.engine.base.Engine ('2020-03-12 09:00:00.000000', 832286.0, 826285.9868700204, '2021-03-21 21:56:37.175518')\n",
      "2021-03-21 21:56:58,275 INFO sqlalchemy.engine.base.Engine INSERT INTO data (date, real_price, pred_price, timestamp) VALUES (?, ?, ?, ?)\n",
      "2021-03-21 21:56:58,279 INFO sqlalchemy.engine.base.Engine ('2020-03-13 09:00:00.000000', 517999.0, 836886.7517006366, '2021-03-21 21:56:37.175518')\n",
      "2021-03-21 21:56:58,281 INFO sqlalchemy.engine.base.Engine INSERT INTO data (date, real_price, pred_price, timestamp) VALUES (?, ?, ?, ?)\n",
      "2021-03-21 21:56:58,286 INFO sqlalchemy.engine.base.Engine ('2020-03-14 09:00:00.000000', 616477.0, 626870.5711549966, '2021-03-21 21:56:37.175518')\n",
      "2021-03-21 21:56:58,291 INFO sqlalchemy.engine.base.Engine INSERT INTO data (date, real_price, pred_price, timestamp) VALUES (?, ?, ?, ?)\n",
      "2021-03-21 21:56:58,296 INFO sqlalchemy.engine.base.Engine ('2020-03-15 09:00:00.000000', 565780.0, 592995.789639157, '2021-03-21 21:56:37.175518')\n",
      "2021-03-21 21:56:58,299 INFO sqlalchemy.engine.base.Engine INSERT INTO data (date, real_price, pred_price, timestamp) VALUES (?, ?, ?, ?)\n",
      "2021-03-21 21:56:58,304 INFO sqlalchemy.engine.base.Engine ('2020-03-16 09:00:00.000000', 582013.0, 569089.3210791273, '2021-03-21 21:56:37.175518')\n",
      "2021-03-21 21:56:58,310 INFO sqlalchemy.engine.base.Engine INSERT INTO data (date, real_price, pred_price, timestamp) VALUES (?, ?, ?, ?)\n",
      "2021-03-21 21:56:58,310 INFO sqlalchemy.engine.base.Engine ('2020-03-17 09:00:00.000000', 547160.0, 595354.5318341379, '2021-03-21 21:56:37.175518')\n",
      "2021-03-21 21:56:58,317 INFO sqlalchemy.engine.base.Engine INSERT INTO data (date, real_price, pred_price, timestamp) VALUES (?, ?, ?, ?)\n",
      "2021-03-21 21:56:58,321 INFO sqlalchemy.engine.base.Engine ('2020-03-18 09:00:00.000000', 579530.0, 555794.8290525317, '2021-03-21 21:56:37.175518')\n",
      "2021-03-21 21:56:58,322 INFO sqlalchemy.engine.base.Engine INSERT INTO data (date, real_price, pred_price, timestamp) VALUES (?, ?, ?, ?)\n",
      "2021-03-21 21:56:58,327 INFO sqlalchemy.engine.base.Engine ('2020-03-19 09:00:00.000000', 588404.0, 574208.3720191768, '2021-03-21 21:56:37.175518')\n",
      "2021-03-21 21:56:58,331 INFO sqlalchemy.engine.base.Engine INSERT INTO data (date, real_price, pred_price, timestamp) VALUES (?, ?, ?, ?)\n",
      "2021-03-21 21:56:58,334 INFO sqlalchemy.engine.base.Engine ('2020-03-20 09:00:00.000000', 692529.0, 593206.1633923323, '2021-03-21 21:56:37.175518')\n",
      "2021-03-21 21:56:58,343 INFO sqlalchemy.engine.base.Engine INSERT INTO data (date, real_price, pred_price, timestamp) VALUES (?, ?, ?, ?)\n",
      "2021-03-21 21:56:58,346 INFO sqlalchemy.engine.base.Engine ('2020-03-21 09:00:00.000000', 690005.0, 713327.853461205, '2021-03-21 21:56:37.175518')\n",
      "2021-03-21 21:56:58,346 INFO sqlalchemy.engine.base.Engine INSERT INTO data (date, real_price, pred_price, timestamp) VALUES (?, ?, ?, ?)\n",
      "2021-03-21 21:56:58,353 INFO sqlalchemy.engine.base.Engine ('2020-03-22 09:00:00.000000', 688958.0, 711401.8782988095, '2021-03-21 21:56:37.175518')\n",
      "2021-03-21 21:56:58,358 INFO sqlalchemy.engine.base.Engine INSERT INTO data (date, real_price, pred_price, timestamp) VALUES (?, ?, ?, ?)\n",
      "2021-03-21 21:56:58,362 INFO sqlalchemy.engine.base.Engine ('2020-03-23 09:00:00.000000', 647262.0, 696981.2122728915, '2021-03-21 21:56:37.175518')\n",
      "2021-03-21 21:56:58,369 INFO sqlalchemy.engine.base.Engine INSERT INTO data (date, real_price, pred_price, timestamp) VALUES (?, ?, ?, ?)\n",
      "2021-03-21 21:56:58,374 INFO sqlalchemy.engine.base.Engine ('2020-03-24 09:00:00.000000', 719267.0, 651065.5349430761, '2021-03-21 21:56:37.175518')\n",
      "2021-03-21 21:56:58,380 INFO sqlalchemy.engine.base.Engine INSERT INTO data (date, real_price, pred_price, timestamp) VALUES (?, ?, ?, ?)\n",
      "2021-03-21 21:56:58,382 INFO sqlalchemy.engine.base.Engine ('2020-03-25 09:00:00.000000', 752500.0, 708943.3171054852, '2021-03-21 21:56:37.175518')\n",
      "2021-03-21 21:56:58,386 INFO sqlalchemy.engine.base.Engine INSERT INTO data (date, real_price, pred_price, timestamp) VALUES (?, ?, ?, ?)\n",
      "2021-03-21 21:56:58,391 INFO sqlalchemy.engine.base.Engine ('2020-03-26 09:00:00.000000', 741720.0, 769187.788259288, '2021-03-21 21:56:37.175518')\n",
      "2021-03-21 21:56:58,396 INFO sqlalchemy.engine.base.Engine INSERT INTO data (date, real_price, pred_price, timestamp) VALUES (?, ?, ?, ?)\n",
      "2021-03-21 21:56:58,399 INFO sqlalchemy.engine.base.Engine ('2020-03-27 09:00:00.000000', 737681.0, 751218.8345051539, '2021-03-21 21:56:37.175518')\n",
      "2021-03-21 21:56:58,405 INFO sqlalchemy.engine.base.Engine INSERT INTO data (date, real_price, pred_price, timestamp) VALUES (?, ?, ?, ?)\n",
      "2021-03-21 21:56:58,410 INFO sqlalchemy.engine.base.Engine ('2020-03-28 09:00:00.000000', 690539.0, 738398.1721314425, '2021-03-21 21:56:37.175518')\n",
      "2021-03-21 21:56:58,416 INFO sqlalchemy.engine.base.Engine INSERT INTO data (date, real_price, pred_price, timestamp) VALUES (?, ?, ?, ?)\n",
      "2021-03-21 21:56:58,421 INFO sqlalchemy.engine.base.Engine ('2020-03-29 09:00:00.000000', 677000.0, 705521.1212370498, '2021-03-21 21:56:37.175518')\n",
      "2021-03-21 21:56:58,426 INFO sqlalchemy.engine.base.Engine INSERT INTO data (date, real_price, pred_price, timestamp) VALUES (?, ?, ?, ?)\n",
      "2021-03-21 21:56:58,430 INFO sqlalchemy.engine.base.Engine ('2020-03-30 09:00:00.000000', 634168.0, 684750.8007267882, '2021-03-21 21:56:37.175518')\n",
      "2021-03-21 21:56:58,434 INFO sqlalchemy.engine.base.Engine INSERT INTO data (date, real_price, pred_price, timestamp) VALUES (?, ?, ?, ?)\n"
     ]
    },
    {
     "name": "stdout",
     "output_type": "stream",
     "text": [
      "2021-03-21 21:56:58,437 INFO sqlalchemy.engine.base.Engine ('2020-03-31 09:00:00.000000', 693221.0, 650584.5496669419, '2021-03-21 21:56:37.175518')\n",
      "2021-03-21 21:56:58,442 INFO sqlalchemy.engine.base.Engine INSERT INTO data (date, real_price, pred_price, timestamp) VALUES (?, ?, ?, ?)\n",
      "2021-03-21 21:56:58,447 INFO sqlalchemy.engine.base.Engine ('2020-04-01 09:00:00.000000', 691824.0, 679245.0958935, '2021-03-21 21:56:37.175518')\n",
      "2021-03-21 21:56:58,454 INFO sqlalchemy.engine.base.Engine INSERT INTO data (date, real_price, pred_price, timestamp) VALUES (?, ?, ?, ?)\n",
      "2021-03-21 21:56:58,457 INFO sqlalchemy.engine.base.Engine ('2020-04-02 09:00:00.000000', 714987.0, 696403.3596127141, '2021-03-21 21:56:37.175518')\n",
      "2021-03-21 21:56:58,464 INFO sqlalchemy.engine.base.Engine INSERT INTO data (date, real_price, pred_price, timestamp) VALUES (?, ?, ?, ?)\n",
      "2021-03-21 21:56:58,469 INFO sqlalchemy.engine.base.Engine ('2020-04-03 09:00:00.000000', 735176.0, 723983.8312513398, '2021-03-21 21:56:37.175518')\n",
      "2021-03-21 21:56:58,473 INFO sqlalchemy.engine.base.Engine INSERT INTO data (date, real_price, pred_price, timestamp) VALUES (?, ?, ?, ?)\n",
      "2021-03-21 21:56:58,473 INFO sqlalchemy.engine.base.Engine ('2020-04-04 09:00:00.000000', 732900.0, 743837.1403945282, '2021-03-21 21:56:37.175518')\n",
      "2021-03-21 21:56:58,481 INFO sqlalchemy.engine.base.Engine INSERT INTO data (date, real_price, pred_price, timestamp) VALUES (?, ?, ?, ?)\n",
      "2021-03-21 21:56:58,487 INFO sqlalchemy.engine.base.Engine ('2020-04-05 09:00:00.000000', 746176.0, 737533.4128931665, '2021-03-21 21:56:37.175518')\n",
      "2021-03-21 21:56:58,491 INFO sqlalchemy.engine.base.Engine INSERT INTO data (date, real_price, pred_price, timestamp) VALUES (?, ?, ?, ?)\n",
      "2021-03-21 21:56:58,496 INFO sqlalchemy.engine.base.Engine ('2020-04-06 09:00:00.000000', 737468.0, 749505.6024985833, '2021-03-21 21:56:37.175518')\n",
      "2021-03-21 21:56:58,504 INFO sqlalchemy.engine.base.Engine INSERT INTO data (date, real_price, pred_price, timestamp) VALUES (?, ?, ?, ?)\n",
      "2021-03-21 21:56:58,507 INFO sqlalchemy.engine.base.Engine ('2020-04-07 09:00:00.000000', 801357.0, 738890.8750074115, '2021-03-21 21:56:37.175518')\n",
      "2021-03-21 21:56:58,511 INFO sqlalchemy.engine.base.Engine INSERT INTO data (date, real_price, pred_price, timestamp) VALUES (?, ?, ?, ?)\n",
      "2021-03-21 21:56:58,514 INFO sqlalchemy.engine.base.Engine ('2020-04-08 09:00:00.000000', 784414.0, 810060.6715080669, '2021-03-21 21:56:37.175518')\n",
      "2021-03-21 21:56:58,522 INFO sqlalchemy.engine.base.Engine INSERT INTO data (date, real_price, pred_price, timestamp) VALUES (?, ?, ?, ?)\n",
      "2021-03-21 21:56:58,528 INFO sqlalchemy.engine.base.Engine ('2020-04-09 09:00:00.000000', 803139.0, 795006.234436083, '2021-03-21 21:56:37.175518')\n",
      "2021-03-21 21:56:58,534 INFO sqlalchemy.engine.base.Engine INSERT INTO data (date, real_price, pred_price, timestamp) VALUES (?, ?, ?, ?)\n",
      "2021-03-21 21:56:58,539 INFO sqlalchemy.engine.base.Engine ('2020-04-10 09:00:00.000000', 793267.0, 810261.7360702592, '2021-03-21 21:56:37.175518')\n",
      "2021-03-21 21:56:58,544 INFO sqlalchemy.engine.base.Engine INSERT INTO data (date, real_price, pred_price, timestamp) VALUES (?, ?, ?, ?)\n",
      "2021-03-21 21:56:58,549 INFO sqlalchemy.engine.base.Engine ('2020-04-11 09:00:00.000000', 746887.0, 796666.4890339947, '2021-03-21 21:56:37.175518')\n",
      "2021-03-21 21:56:58,554 INFO sqlalchemy.engine.base.Engine INSERT INTO data (date, real_price, pred_price, timestamp) VALUES (?, ?, ?, ?)\n",
      "2021-03-21 21:56:58,555 INFO sqlalchemy.engine.base.Engine ('2020-04-12 09:00:00.000000', 749585.0, 763289.3847057106, '2021-03-21 21:56:37.175518')\n",
      "2021-03-21 21:56:58,563 INFO sqlalchemy.engine.base.Engine INSERT INTO data (date, real_price, pred_price, timestamp) VALUES (?, ?, ?, ?)\n",
      "2021-03-21 21:56:58,568 INFO sqlalchemy.engine.base.Engine ('2020-04-13 09:00:00.000000', 751793.0, 750298.6305993181, '2021-03-21 21:56:37.175518')\n",
      "2021-03-21 21:56:58,571 INFO sqlalchemy.engine.base.Engine INSERT INTO data (date, real_price, pred_price, timestamp) VALUES (?, ?, ?, ?)\n",
      "2021-03-21 21:56:58,576 INFO sqlalchemy.engine.base.Engine ('2020-04-14 09:00:00.000000', 739986.0, 750016.4295107957, '2021-03-21 21:56:37.175518')\n",
      "2021-03-21 21:56:58,578 INFO sqlalchemy.engine.base.Engine INSERT INTO data (date, real_price, pred_price, timestamp) VALUES (?, ?, ?, ?)\n",
      "2021-03-21 21:56:58,583 INFO sqlalchemy.engine.base.Engine ('2020-04-15 09:00:00.000000', 738259.0, 745278.8798467112, '2021-03-21 21:56:37.175518')\n",
      "2021-03-21 21:56:58,590 INFO sqlalchemy.engine.base.Engine INSERT INTO data (date, real_price, pred_price, timestamp) VALUES (?, ?, ?, ?)\n",
      "2021-03-21 21:56:58,594 INFO sqlalchemy.engine.base.Engine ('2020-04-16 09:00:00.000000', 713829.0, 739333.9766723624, '2021-03-21 21:56:37.175518')\n",
      "2021-03-21 21:56:58,600 INFO sqlalchemy.engine.base.Engine INSERT INTO data (date, real_price, pred_price, timestamp) VALUES (?, ?, ?, ?)\n",
      "2021-03-21 21:56:58,604 INFO sqlalchemy.engine.base.Engine ('2020-04-17 09:00:00.000000', 768443.0, 722874.9705772892, '2021-03-21 21:56:37.175518')\n",
      "2021-03-21 21:56:58,609 INFO sqlalchemy.engine.base.Engine INSERT INTO data (date, real_price, pred_price, timestamp) VALUES (?, ?, ?, ?)\n",
      "2021-03-21 21:56:58,612 INFO sqlalchemy.engine.base.Engine ('2020-04-18 09:00:00.000000', 758043.0, 761629.7447779177, '2021-03-21 21:56:37.175518')\n",
      "2021-03-21 21:56:58,616 INFO sqlalchemy.engine.base.Engine INSERT INTO data (date, real_price, pred_price, timestamp) VALUES (?, ?, ?, ?)\n",
      "2021-03-21 21:56:58,620 INFO sqlalchemy.engine.base.Engine ('2020-04-19 09:00:00.000000', 781254.0, 766363.5180348514, '2021-03-21 21:56:37.175518')\n",
      "2021-03-21 21:56:58,622 INFO sqlalchemy.engine.base.Engine INSERT INTO data (date, real_price, pred_price, timestamp) VALUES (?, ?, ?, ?)\n",
      "2021-03-21 21:56:58,627 INFO sqlalchemy.engine.base.Engine ('2020-04-20 09:00:00.000000', 768579.0, 789004.776995474, '2021-03-21 21:56:37.175518')\n",
      "2021-03-21 21:56:58,633 INFO sqlalchemy.engine.base.Engine INSERT INTO data (date, real_price, pred_price, timestamp) VALUES (?, ?, ?, ?)\n",
      "2021-03-21 21:56:58,637 INFO sqlalchemy.engine.base.Engine ('2020-04-21 09:00:00.000000', 738350.0, 771751.1194600702, '2021-03-21 21:56:37.175518')\n",
      "2021-03-21 21:56:58,642 INFO sqlalchemy.engine.base.Engine INSERT INTO data (date, real_price, pred_price, timestamp) VALUES (?, ?, ?, ?)\n",
      "2021-03-21 21:56:58,647 INFO sqlalchemy.engine.base.Engine ('2020-04-22 09:00:00.000000', 740881.0, 748449.9229849393, '2021-03-21 21:56:37.175518')\n",
      "2021-03-21 21:56:58,648 INFO sqlalchemy.engine.base.Engine INSERT INTO data (date, real_price, pred_price, timestamp) VALUES (?, ?, ?, ?)\n",
      "2021-03-21 21:56:58,655 INFO sqlalchemy.engine.base.Engine ('2020-04-23 09:00:00.000000', 770246.0, 740961.7066424494, '2021-03-21 21:56:37.175518')\n",
      "2021-03-21 21:56:58,658 INFO sqlalchemy.engine.base.Engine INSERT INTO data (date, real_price, pred_price, timestamp) VALUES (?, ?, ?, ?)\n",
      "2021-03-21 21:56:58,663 INFO sqlalchemy.engine.base.Engine ('2020-04-24 09:00:00.000000', 805725.0, 763260.2379027144, '2021-03-21 21:56:37.175518')\n",
      "2021-03-21 21:56:58,668 INFO sqlalchemy.engine.base.Engine INSERT INTO data (date, real_price, pred_price, timestamp) VALUES (?, ?, ?, ?)\n",
      "2021-03-21 21:56:58,671 INFO sqlalchemy.engine.base.Engine ('2020-04-25 09:00:00.000000', 808353.0, 816718.0426452461, '2021-03-21 21:56:37.175518')\n",
      "2021-03-21 21:56:58,677 INFO sqlalchemy.engine.base.Engine INSERT INTO data (date, real_price, pred_price, timestamp) VALUES (?, ?, ?, ?)\n",
      "2021-03-21 21:56:58,677 INFO sqlalchemy.engine.base.Engine ('2020-04-26 09:00:00.000000', 813203.0, 817165.0748501685, '2021-03-21 21:56:37.175518')\n",
      "2021-03-21 21:56:58,685 INFO sqlalchemy.engine.base.Engine INSERT INTO data (date, real_price, pred_price, timestamp) VALUES (?, ?, ?, ?)\n",
      "2021-03-21 21:56:58,688 INFO sqlalchemy.engine.base.Engine ('2020-04-27 09:00:00.000000', 828532.0, 816623.6528500733, '2021-03-21 21:56:37.175518')\n",
      "2021-03-21 21:56:58,693 INFO sqlalchemy.engine.base.Engine INSERT INTO data (date, real_price, pred_price, timestamp) VALUES (?, ?, ?, ?)\n",
      "2021-03-21 21:56:58,698 INFO sqlalchemy.engine.base.Engine ('2020-04-28 09:00:00.000000', 836500.0, 832683.4812563529, '2021-03-21 21:56:37.175518')\n",
      "2021-03-21 21:56:58,702 INFO sqlalchemy.engine.base.Engine INSERT INTO data (date, real_price, pred_price, timestamp) VALUES (?, ?, ?, ?)\n"
     ]
    },
    {
     "name": "stdout",
     "output_type": "stream",
     "text": [
      "2021-03-21 21:56:58,702 INFO sqlalchemy.engine.base.Engine ('2020-04-29 09:00:00.000000', 829395.0, 841496.6149731091, '2021-03-21 21:56:37.175518')\n",
      "2021-03-21 21:56:58,712 INFO sqlalchemy.engine.base.Engine INSERT INTO data (date, real_price, pred_price, timestamp) VALUES (?, ?, ?, ?)\n",
      "2021-03-21 21:56:58,712 INFO sqlalchemy.engine.base.Engine ('2020-04-30 09:00:00.000000', 937577.0, 830576.2821340672, '2021-03-21 21:56:37.175518')\n",
      "2021-03-21 21:56:58,724 INFO sqlalchemy.engine.base.Engine INSERT INTO data (date, real_price, pred_price, timestamp) VALUES (?, ?, ?, ?)\n",
      "2021-03-21 21:56:58,727 INFO sqlalchemy.engine.base.Engine ('2020-05-01 09:00:00.000000', 926749.0, 953492.9811681409, '2021-03-21 21:56:37.175518')\n",
      "2021-03-21 21:56:58,730 INFO sqlalchemy.engine.base.Engine INSERT INTO data (date, real_price, pred_price, timestamp) VALUES (?, ?, ?, ?)\n",
      "2021-03-21 21:56:58,736 INFO sqlalchemy.engine.base.Engine ('2020-05-02 09:00:00.000000', 946265.0, 948081.3672922637, '2021-03-21 21:56:37.175518')\n",
      "2021-03-21 21:56:58,741 INFO sqlalchemy.engine.base.Engine INSERT INTO data (date, real_price, pred_price, timestamp) VALUES (?, ?, ?, ?)\n",
      "2021-03-21 21:56:58,741 INFO sqlalchemy.engine.base.Engine ('2020-05-03 09:00:00.000000', 962121.0, 957644.6558400907, '2021-03-21 21:56:37.175518')\n",
      "2021-03-21 21:56:58,747 INFO sqlalchemy.engine.base.Engine INSERT INTO data (date, real_price, pred_price, timestamp) VALUES (?, ?, ?, ?)\n",
      "2021-03-21 21:56:58,751 INFO sqlalchemy.engine.base.Engine ('2020-05-04 09:00:00.000000', 952856.0, 969649.7187669784, '2021-03-21 21:56:37.175518')\n",
      "2021-03-21 21:56:58,756 INFO sqlalchemy.engine.base.Engine INSERT INTO data (date, real_price, pred_price, timestamp) VALUES (?, ?, ?, ?)\n",
      "2021-03-21 21:56:58,760 INFO sqlalchemy.engine.base.Engine ('2020-05-05 09:00:00.000000', 949894.0, 955657.3556951433, '2021-03-21 21:56:37.175518')\n",
      "2021-03-21 21:56:58,767 INFO sqlalchemy.engine.base.Engine INSERT INTO data (date, real_price, pred_price, timestamp) VALUES (?, ?, ?, ?)\n",
      "2021-03-21 21:56:58,773 INFO sqlalchemy.engine.base.Engine ('2020-05-06 09:00:00.000000', 962100.0, 950086.3604069783, '2021-03-21 21:56:37.175518')\n",
      "2021-03-21 21:56:58,774 INFO sqlalchemy.engine.base.Engine INSERT INTO data (date, real_price, pred_price, timestamp) VALUES (?, ?, ?, ?)\n",
      "2021-03-21 21:56:58,778 INFO sqlalchemy.engine.base.Engine ('2020-05-07 09:00:00.000000', 973954.0, 962718.1724570472, '2021-03-21 21:56:37.175518')\n",
      "2021-03-21 21:56:58,782 INFO sqlalchemy.engine.base.Engine INSERT INTO data (date, real_price, pred_price, timestamp) VALUES (?, ?, ?, ?)\n",
      "2021-03-21 21:56:58,787 INFO sqlalchemy.engine.base.Engine ('2020-05-08 09:00:00.000000', 1065810.0, 977543.5917242226, '2021-03-21 21:56:37.175518')\n",
      "2021-03-21 21:56:58,791 INFO sqlalchemy.engine.base.Engine INSERT INTO data (date, real_price, pred_price, timestamp) VALUES (?, ?, ?, ?)\n",
      "2021-03-21 21:56:58,796 INFO sqlalchemy.engine.base.Engine ('2020-05-09 09:00:00.000000', 1048000.0, 1084604.2313266234, '2021-03-21 21:56:37.175518')\n",
      "2021-03-21 21:56:58,803 INFO sqlalchemy.engine.base.Engine INSERT INTO data (date, real_price, pred_price, timestamp) VALUES (?, ?, ?, ?)\n",
      "2021-03-21 21:56:58,806 INFO sqlalchemy.engine.base.Engine ('2020-05-10 09:00:00.000000', 1017000.0, 1064382.045188136, '2021-03-21 21:56:37.175518')\n",
      "2021-03-21 21:56:58,811 INFO sqlalchemy.engine.base.Engine INSERT INTO data (date, real_price, pred_price, timestamp) VALUES (?, ?, ?, ?)\n",
      "2021-03-21 21:56:58,815 INFO sqlalchemy.engine.base.Engine ('2020-05-11 09:00:00.000000', 934350.0, 1021494.0955435561, '2021-03-21 21:56:37.175518')\n",
      "2021-03-21 21:56:58,821 INFO sqlalchemy.engine.base.Engine INSERT INTO data (date, real_price, pred_price, timestamp) VALUES (?, ?, ?, ?)\n",
      "2021-03-21 21:56:58,822 INFO sqlalchemy.engine.base.Engine ('2020-05-12 09:00:00.000000', 922489.0, 959768.4875014131, '2021-03-21 21:56:37.175518')\n",
      "2021-03-21 21:56:58,828 INFO sqlalchemy.engine.base.Engine INSERT INTO data (date, real_price, pred_price, timestamp) VALUES (?, ?, ?, ?)\n",
      "2021-03-21 21:56:58,830 INFO sqlalchemy.engine.base.Engine ('2020-05-13 09:00:00.000000', 945875.0, 931336.7437658457, '2021-03-21 21:56:37.175518')\n",
      "2021-03-21 21:56:58,835 INFO sqlalchemy.engine.base.Engine INSERT INTO data (date, real_price, pred_price, timestamp) VALUES (?, ?, ?, ?)\n",
      "2021-03-21 21:56:58,839 INFO sqlalchemy.engine.base.Engine ('2020-05-14 09:00:00.000000', 997533.0, 937506.1989132969, '2021-03-21 21:56:37.175518')\n",
      "2021-03-21 21:56:58,844 INFO sqlalchemy.engine.base.Engine INSERT INTO data (date, real_price, pred_price, timestamp) VALUES (?, ?, ?, ?)\n",
      "2021-03-21 21:56:58,846 INFO sqlalchemy.engine.base.Engine ('2020-05-15 09:00:00.000000', 1051000.0, 998958.7296024099, '2021-03-21 21:56:37.175518')\n",
      "2021-03-21 21:56:58,854 INFO sqlalchemy.engine.base.Engine INSERT INTO data (date, real_price, pred_price, timestamp) VALUES (?, ?, ?, ?)\n",
      "2021-03-21 21:56:58,859 INFO sqlalchemy.engine.base.Engine ('2020-05-16 09:00:00.000000', 996901.0, 1073697.3622603759, '2021-03-21 21:56:37.175518')\n",
      "2021-03-21 21:56:58,861 INFO sqlalchemy.engine.base.Engine INSERT INTO data (date, real_price, pred_price, timestamp) VALUES (?, ?, ?, ?)\n",
      "2021-03-21 21:56:58,868 INFO sqlalchemy.engine.base.Engine ('2020-05-17 09:00:00.000000', 1005016.0, 1002332.6353682438, '2021-03-21 21:56:37.175518')\n",
      "2021-03-21 21:56:58,872 INFO sqlalchemy.engine.base.Engine INSERT INTO data (date, real_price, pred_price, timestamp) VALUES (?, ?, ?, ?)\n",
      "2021-03-21 21:56:58,877 INFO sqlalchemy.engine.base.Engine ('2020-05-18 09:00:00.000000', 1037701.0, 1005652.6498278291, '2021-03-21 21:56:37.175518')\n",
      "2021-03-21 21:56:58,880 INFO sqlalchemy.engine.base.Engine INSERT INTO data (date, real_price, pred_price, timestamp) VALUES (?, ?, ?, ?)\n",
      "2021-03-21 21:56:58,884 INFO sqlalchemy.engine.base.Engine ('2020-05-19 09:00:00.000000', 1044362.0, 1040363.269881636, '2021-03-21 21:56:37.175518')\n",
      "2021-03-21 21:56:58,886 INFO sqlalchemy.engine.base.Engine INSERT INTO data (date, real_price, pred_price, timestamp) VALUES (?, ?, ?, ?)\n",
      "2021-03-21 21:56:58,891 INFO sqlalchemy.engine.base.Engine ('2020-05-20 09:00:00.000000', 1053101.0, 1051209.3258517615, '2021-03-21 21:56:37.175518')\n",
      "2021-03-21 21:56:58,895 INFO sqlalchemy.engine.base.Engine INSERT INTO data (date, real_price, pred_price, timestamp) VALUES (?, ?, ?, ?)\n",
      "2021-03-21 21:56:58,899 INFO sqlalchemy.engine.base.Engine ('2020-05-21 09:00:00.000000', 1025000.0, 1058021.269973964, '2021-03-21 21:56:37.175518')\n",
      "2021-03-21 21:56:58,906 INFO sqlalchemy.engine.base.Engine INSERT INTO data (date, real_price, pred_price, timestamp) VALUES (?, ?, ?, ?)\n",
      "2021-03-21 21:56:58,909 INFO sqlalchemy.engine.base.Engine ('2020-05-22 09:00:00.000000', 977238.0, 1027666.1450317827, '2021-03-21 21:56:37.175518')\n",
      "2021-03-21 21:56:58,914 INFO sqlalchemy.engine.base.Engine INSERT INTO data (date, real_price, pred_price, timestamp) VALUES (?, ?, ?, ?)\n",
      "2021-03-21 21:56:58,921 INFO sqlalchemy.engine.base.Engine ('2020-05-23 09:00:00.000000', 988518.0, 995794.4821981335, '2021-03-21 21:56:37.175518')\n",
      "2021-03-21 21:56:58,923 INFO sqlalchemy.engine.base.Engine INSERT INTO data (date, real_price, pred_price, timestamp) VALUES (?, ?, ?, ?)\n",
      "2021-03-21 21:56:58,926 INFO sqlalchemy.engine.base.Engine ('2020-05-24 09:00:00.000000', 988442.0, 986144.2095640413, '2021-03-21 21:56:37.175518')\n",
      "2021-03-21 21:56:58,930 INFO sqlalchemy.engine.base.Engine INSERT INTO data (date, real_price, pred_price, timestamp) VALUES (?, ?, ?, ?)\n",
      "2021-03-21 21:56:58,936 INFO sqlalchemy.engine.base.Engine ('2020-05-25 09:00:00.000000', 940810.0, 987678.5121681341, '2021-03-21 21:56:37.175518')\n",
      "2021-03-21 21:56:58,943 INFO sqlalchemy.engine.base.Engine INSERT INTO data (date, real_price, pred_price, timestamp) VALUES (?, ?, ?, ?)\n",
      "2021-03-21 21:56:58,944 INFO sqlalchemy.engine.base.Engine ('2020-05-26 09:00:00.000000', 960276.0, 957647.5619981248, '2021-03-21 21:56:37.175518')\n",
      "2021-03-21 21:56:58,948 INFO sqlalchemy.engine.base.Engine INSERT INTO data (date, real_price, pred_price, timestamp) VALUES (?, ?, ?, ?)\n",
      "2021-03-21 21:56:58,953 INFO sqlalchemy.engine.base.Engine ('2020-05-27 09:00:00.000000', 951651.0, 955043.8857222153, '2021-03-21 21:56:37.175518')\n"
     ]
    },
    {
     "name": "stdout",
     "output_type": "stream",
     "text": [
      "2021-03-21 21:56:58,959 INFO sqlalchemy.engine.base.Engine INSERT INTO data (date, real_price, pred_price, timestamp) VALUES (?, ?, ?, ?)\n",
      "2021-03-21 21:56:58,962 INFO sqlalchemy.engine.base.Engine ('2020-05-28 09:00:00.000000', 992287.0, 952106.241271485, '2021-03-21 21:56:37.175518')\n",
      "2021-03-21 21:56:58,968 INFO sqlalchemy.engine.base.Engine INSERT INTO data (date, real_price, pred_price, timestamp) VALUES (?, ?, ?, ?)\n",
      "2021-03-21 21:56:58,973 INFO sqlalchemy.engine.base.Engine ('2020-05-29 09:00:00.000000', 1031382.0, 993582.7583296967, '2021-03-21 21:56:37.175518')\n",
      "2021-03-21 21:56:58,978 INFO sqlalchemy.engine.base.Engine INSERT INTO data (date, real_price, pred_price, timestamp) VALUES (?, ?, ?, ?)\n",
      "2021-03-21 21:56:58,984 INFO sqlalchemy.engine.base.Engine ('2020-05-30 09:00:00.000000', 1016000.0, 1047302.252824501, '2021-03-21 21:56:37.175518')\n",
      "2021-03-21 21:56:58,989 INFO sqlalchemy.engine.base.Engine INSERT INTO data (date, real_price, pred_price, timestamp) VALUES (?, ?, ?, ?)\n",
      "2021-03-21 21:56:58,990 INFO sqlalchemy.engine.base.Engine ('2020-05-31 09:00:00.000000', 1044454.0, 1023007.5012843967, '2021-03-21 21:56:37.175518')\n",
      "2021-03-21 21:56:58,998 INFO sqlalchemy.engine.base.Engine INSERT INTO data (date, real_price, pred_price, timestamp) VALUES (?, ?, ?, ?)\n",
      "2021-03-21 21:56:59,001 INFO sqlalchemy.engine.base.Engine ('2020-06-01 09:00:00.000000', 1017708.0, 1049865.831299188, '2021-03-21 21:56:37.175518')\n",
      "2021-03-21 21:56:59,009 INFO sqlalchemy.engine.base.Engine INSERT INTO data (date, real_price, pred_price, timestamp) VALUES (?, ?, ?, ?)\n",
      "2021-03-21 21:56:59,013 INFO sqlalchemy.engine.base.Engine ('2020-06-02 09:00:00.000000', 1096695.0, 1021697.2529444885, '2021-03-21 21:56:37.175518')\n",
      "2021-03-21 21:56:59,019 INFO sqlalchemy.engine.base.Engine INSERT INTO data (date, real_price, pred_price, timestamp) VALUES (?, ?, ?, ?)\n",
      "2021-03-21 21:56:59,022 INFO sqlalchemy.engine.base.Engine ('2020-06-03 09:00:00.000000', 1036500.0, 1103263.611071276, '2021-03-21 21:56:37.175518')\n",
      "2021-03-21 21:56:59,028 INFO sqlalchemy.engine.base.Engine INSERT INTO data (date, real_price, pred_price, timestamp) VALUES (?, ?, ?, ?)\n",
      "2021-03-21 21:56:59,032 INFO sqlalchemy.engine.base.Engine ('2020-06-04 09:00:00.000000', 1054000.0, 1047190.4493746998, '2021-03-21 21:56:37.175518')\n",
      "2021-03-21 21:56:59,036 INFO sqlalchemy.engine.base.Engine INSERT INTO data (date, real_price, pred_price, timestamp) VALUES (?, ?, ?, ?)\n",
      "2021-03-21 21:56:59,042 INFO sqlalchemy.engine.base.Engine ('2020-06-05 09:00:00.000000', 1068556.0, 1058189.790638556, '2021-03-21 21:56:37.175518')\n",
      "2021-03-21 21:56:59,047 INFO sqlalchemy.engine.base.Engine INSERT INTO data (date, real_price, pred_price, timestamp) VALUES (?, ?, ?, ?)\n",
      "2021-03-21 21:56:59,050 INFO sqlalchemy.engine.base.Engine ('2020-06-06 09:00:00.000000', 1055001.0, 1075813.644351431, '2021-03-21 21:56:37.175518')\n",
      "2021-03-21 21:56:59,053 INFO sqlalchemy.engine.base.Engine INSERT INTO data (date, real_price, pred_price, timestamp) VALUES (?, ?, ?, ?)\n",
      "2021-03-21 21:56:59,057 INFO sqlalchemy.engine.base.Engine ('2020-06-07 09:00:00.000000', 1060890.0, 1060409.8970681005, '2021-03-21 21:56:37.175518')\n",
      "2021-03-21 21:56:59,063 INFO sqlalchemy.engine.base.Engine INSERT INTO data (date, real_price, pred_price, timestamp) VALUES (?, ?, ?, ?)\n",
      "2021-03-21 21:56:59,067 INFO sqlalchemy.engine.base.Engine ('2020-06-08 09:00:00.000000', 1068671.0, 1061215.38809238, '2021-03-21 21:56:37.175518')\n",
      "2021-03-21 21:56:59,073 INFO sqlalchemy.engine.base.Engine INSERT INTO data (date, real_price, pred_price, timestamp) VALUES (?, ?, ?, ?)\n",
      "2021-03-21 21:56:59,077 INFO sqlalchemy.engine.base.Engine ('2020-06-09 09:00:00.000000', 1061999.0, 1070741.6318963794, '2021-03-21 21:56:37.175518')\n",
      "2021-03-21 21:56:59,080 INFO sqlalchemy.engine.base.Engine INSERT INTO data (date, real_price, pred_price, timestamp) VALUES (?, ?, ?, ?)\n",
      "2021-03-21 21:56:59,084 INFO sqlalchemy.engine.base.Engine ('2020-06-10 09:00:00.000000', 1055300.0, 1063482.2017441937, '2021-03-21 21:56:37.175518')\n",
      "2021-03-21 21:56:59,090 INFO sqlalchemy.engine.base.Engine INSERT INTO data (date, real_price, pred_price, timestamp) VALUES (?, ?, ?, ?)\n",
      "2021-03-21 21:56:59,094 INFO sqlalchemy.engine.base.Engine ('2020-06-11 09:00:00.000000', 1058435.0, 1056838.5264062409, '2021-03-21 21:56:37.175518')\n",
      "2021-03-21 21:56:59,100 INFO sqlalchemy.engine.base.Engine INSERT INTO data (date, real_price, pred_price, timestamp) VALUES (?, ?, ?, ?)\n",
      "2021-03-21 21:56:59,104 INFO sqlalchemy.engine.base.Engine ('2020-06-12 09:00:00.000000', 991979.0, 1057654.7401564594, '2021-03-21 21:56:37.175518')\n",
      "2021-03-21 21:56:59,110 INFO sqlalchemy.engine.base.Engine INSERT INTO data (date, real_price, pred_price, timestamp) VALUES (?, ?, ?, ?)\n",
      "2021-03-21 21:56:59,111 INFO sqlalchemy.engine.base.Engine ('2020-06-13 09:00:00.000000', 1019130.0, 1015398.3010348278, '2021-03-21 21:56:37.175518')\n",
      "2021-03-21 21:56:59,119 INFO sqlalchemy.engine.base.Engine INSERT INTO data (date, real_price, pred_price, timestamp) VALUES (?, ?, ?, ?)\n",
      "2021-03-21 21:56:59,123 INFO sqlalchemy.engine.base.Engine ('2020-06-14 09:00:00.000000', 1018635.0, 1012139.8176009788, '2021-03-21 21:56:37.175518')\n",
      "2021-03-21 21:56:59,131 INFO sqlalchemy.engine.base.Engine INSERT INTO data (date, real_price, pred_price, timestamp) VALUES (?, ?, ?, ?)\n",
      "2021-03-21 21:56:59,134 INFO sqlalchemy.engine.base.Engine ('2020-06-15 09:00:00.000000', 1002600.0, 1015938.5759940491, '2021-03-21 21:56:37.175518')\n",
      "2021-03-21 21:56:59,138 INFO sqlalchemy.engine.base.Engine INSERT INTO data (date, real_price, pred_price, timestamp) VALUES (?, ?, ?, ?)\n",
      "2021-03-21 21:56:59,143 INFO sqlalchemy.engine.base.Engine ('2020-06-16 09:00:00.000000', 1014726.0, 1008909.3220470403, '2021-03-21 21:56:37.175518')\n",
      "2021-03-21 21:56:59,148 INFO sqlalchemy.engine.base.Engine INSERT INTO data (date, real_price, pred_price, timestamp) VALUES (?, ?, ?, ?)\n",
      "2021-03-21 21:56:59,151 INFO sqlalchemy.engine.base.Engine ('2020-06-17 09:00:00.000000', 1023100.0, 1013757.3758930259, '2021-03-21 21:56:37.175518')\n",
      "2021-03-21 21:56:59,158 INFO sqlalchemy.engine.base.Engine INSERT INTO data (date, real_price, pred_price, timestamp) VALUES (?, ?, ?, ?)\n",
      "2021-03-21 21:56:59,162 INFO sqlalchemy.engine.base.Engine ('2020-06-18 09:00:00.000000', 1012444.0, 1023070.7301686389, '2021-03-21 21:56:37.175518')\n",
      "2021-03-21 21:56:59,168 INFO sqlalchemy.engine.base.Engine INSERT INTO data (date, real_price, pred_price, timestamp) VALUES (?, ?, ?, ?)\n",
      "2021-03-21 21:56:59,171 INFO sqlalchemy.engine.base.Engine ('2020-06-19 09:00:00.000000', 1004324.0, 1014240.9456035241, '2021-03-21 21:56:37.175518')\n",
      "2021-03-21 21:56:59,177 INFO sqlalchemy.engine.base.Engine INSERT INTO data (date, real_price, pred_price, timestamp) VALUES (?, ?, ?, ?)\n",
      "2021-03-21 21:56:59,182 INFO sqlalchemy.engine.base.Engine ('2020-06-20 09:00:00.000000', 996198.0, 1006132.0075427995, '2021-03-21 21:56:37.175518')\n",
      "2021-03-21 21:56:59,186 INFO sqlalchemy.engine.base.Engine INSERT INTO data (date, real_price, pred_price, timestamp) VALUES (?, ?, ?, ?)\n",
      "2021-03-21 21:56:59,190 INFO sqlalchemy.engine.base.Engine ('2020-06-21 09:00:00.000000', 1001500.0, 999547.6905849631, '2021-03-21 21:56:37.175518')\n",
      "2021-03-21 21:56:59,195 INFO sqlalchemy.engine.base.Engine INSERT INTO data (date, real_price, pred_price, timestamp) VALUES (?, ?, ?, ?)\n",
      "2021-03-21 21:56:59,201 INFO sqlalchemy.engine.base.Engine ('2020-06-22 09:00:00.000000', 993100.0, 1000230.8330891327, '2021-03-21 21:56:37.175518')\n",
      "2021-03-21 21:56:59,203 INFO sqlalchemy.engine.base.Engine INSERT INTO data (date, real_price, pred_price, timestamp) VALUES (?, ?, ?, ?)\n",
      "2021-03-21 21:56:59,203 INFO sqlalchemy.engine.base.Engine ('2020-06-23 09:00:00.000000', 1035188.0, 995627.2551837959, '2021-03-21 21:56:37.175518')\n",
      "2021-03-21 21:56:59,211 INFO sqlalchemy.engine.base.Engine INSERT INTO data (date, real_price, pred_price, timestamp) VALUES (?, ?, ?, ?)\n",
      "2021-03-21 21:56:59,214 INFO sqlalchemy.engine.base.Engine ('2020-06-24 09:00:00.000000', 1024910.0, 1037861.6835743594, '2021-03-21 21:56:37.175518')\n",
      "2021-03-21 21:56:59,218 INFO sqlalchemy.engine.base.Engine INSERT INTO data (date, real_price, pred_price, timestamp) VALUES (?, ?, ?, ?)\n"
     ]
    },
    {
     "name": "stdout",
     "output_type": "stream",
     "text": [
      "2021-03-21 21:56:59,223 INFO sqlalchemy.engine.base.Engine ('2020-06-25 09:00:00.000000', 996110.0, 1032095.8655238041, '2021-03-21 21:56:37.175518')\n",
      "2021-03-21 21:56:59,228 INFO sqlalchemy.engine.base.Engine INSERT INTO data (date, real_price, pred_price, timestamp) VALUES (?, ?, ?, ?)\n",
      "2021-03-21 21:56:59,232 INFO sqlalchemy.engine.base.Engine ('2020-06-26 09:00:00.000000', 991379.0, 1001978.3515283731, '2021-03-21 21:56:37.175518')\n",
      "2021-03-21 21:56:59,238 INFO sqlalchemy.engine.base.Engine INSERT INTO data (date, real_price, pred_price, timestamp) VALUES (?, ?, ?, ?)\n",
      "2021-03-21 21:56:59,243 INFO sqlalchemy.engine.base.Engine ('2020-06-27 09:00:00.000000', 983990.0, 993256.5754906776, '2021-03-21 21:56:37.175518')\n",
      "2021-03-21 21:56:59,247 INFO sqlalchemy.engine.base.Engine INSERT INTO data (date, real_price, pred_price, timestamp) VALUES (?, ?, ?, ?)\n",
      "2021-03-21 21:56:59,253 INFO sqlalchemy.engine.base.Engine ('2020-06-28 09:00:00.000000', 969100.0, 986598.1851921687, '2021-03-21 21:56:37.175518')\n",
      "2021-03-21 21:56:59,258 INFO sqlalchemy.engine.base.Engine INSERT INTO data (date, real_price, pred_price, timestamp) VALUES (?, ?, ?, ?)\n",
      "2021-03-21 21:56:59,263 INFO sqlalchemy.engine.base.Engine ('2020-06-29 09:00:00.000000', 979187.0, 975479.6739740556, '2021-03-21 21:56:37.175518')\n",
      "2021-03-21 21:56:59,266 INFO sqlalchemy.engine.base.Engine INSERT INTO data (date, real_price, pred_price, timestamp) VALUES (?, ?, ?, ?)\n",
      "2021-03-21 21:56:59,272 INFO sqlalchemy.engine.base.Engine ('2020-06-30 09:00:00.000000', 990000.0, 976249.3529950622, '2021-03-21 21:56:37.175518')\n",
      "2021-03-21 21:56:59,277 INFO sqlalchemy.engine.base.Engine INSERT INTO data (date, real_price, pred_price, timestamp) VALUES (?, ?, ?, ?)\n",
      "2021-03-21 21:56:59,278 INFO sqlalchemy.engine.base.Engine ('2020-07-01 09:00:00.000000', 987501.0, 988908.3458294345, '2021-03-21 21:56:37.175518')\n",
      "2021-03-21 21:56:59,285 INFO sqlalchemy.engine.base.Engine INSERT INTO data (date, real_price, pred_price, timestamp) VALUES (?, ?, ?, ?)\n",
      "2021-03-21 21:56:59,289 INFO sqlalchemy.engine.base.Engine ('2020-07-02 09:00:00.000000', 992614.0, 989893.9229826193, '2021-03-21 21:56:37.175518')\n",
      "2021-03-21 21:56:59,295 INFO sqlalchemy.engine.base.Engine INSERT INTO data (date, real_price, pred_price, timestamp) VALUES (?, ?, ?, ?)\n",
      "2021-03-21 21:56:59,297 INFO sqlalchemy.engine.base.Engine ('2020-07-03 09:00:00.000000', 979088.0, 993868.1004643142, '2021-03-21 21:56:37.175518')\n",
      "2021-03-21 21:56:59,301 INFO sqlalchemy.engine.base.Engine INSERT INTO data (date, real_price, pred_price, timestamp) VALUES (?, ?, ?, ?)\n",
      "2021-03-21 21:56:59,306 INFO sqlalchemy.engine.base.Engine ('2020-07-04 09:00:00.000000', 976000.0, 981820.5556876174, '2021-03-21 21:56:37.175518')\n",
      "2021-03-21 21:56:59,312 INFO sqlalchemy.engine.base.Engine INSERT INTO data (date, real_price, pred_price, timestamp) VALUES (?, ?, ?, ?)\n",
      "2021-03-21 21:56:59,316 INFO sqlalchemy.engine.base.Engine ('2020-07-05 09:00:00.000000', 983699.0, 977789.7515496807, '2021-03-21 21:56:37.175518')\n",
      "2021-03-21 21:56:59,319 INFO sqlalchemy.engine.base.Engine INSERT INTO data (date, real_price, pred_price, timestamp) VALUES (?, ?, ?, ?)\n",
      "2021-03-21 21:56:59,324 INFO sqlalchemy.engine.base.Engine ('2020-07-06 09:00:00.000000', 977116.0, 981291.4514985749, '2021-03-21 21:56:37.175518')\n",
      "2021-03-21 21:56:59,329 INFO sqlalchemy.engine.base.Engine INSERT INTO data (date, real_price, pred_price, timestamp) VALUES (?, ?, ?, ?)\n",
      "2021-03-21 21:56:59,334 INFO sqlalchemy.engine.base.Engine ('2020-07-07 09:00:00.000000', 1003420.0, 979046.1795622976, '2021-03-21 21:56:37.175518')\n",
      "2021-03-21 21:56:59,341 INFO sqlalchemy.engine.base.Engine INSERT INTO data (date, real_price, pred_price, timestamp) VALUES (?, ?, ?, ?)\n",
      "2021-03-21 21:56:59,347 INFO sqlalchemy.engine.base.Engine ('2020-07-08 09:00:00.000000', 996682.0, 1006252.0683757557, '2021-03-21 21:56:37.175518')\n",
      "2021-03-21 21:56:59,349 INFO sqlalchemy.engine.base.Engine INSERT INTO data (date, real_price, pred_price, timestamp) VALUES (?, ?, ?, ?)\n",
      "2021-03-21 21:56:59,355 INFO sqlalchemy.engine.base.Engine ('2020-07-09 09:00:00.000000', 1012852.0, 1001054.8835498011, '2021-03-21 21:56:37.175518')\n",
      "2021-03-21 21:56:59,360 INFO sqlalchemy.engine.base.Engine INSERT INTO data (date, real_price, pred_price, timestamp) VALUES (?, ?, ?, ?)\n",
      "2021-03-21 21:56:59,364 INFO sqlalchemy.engine.base.Engine ('2020-07-10 09:00:00.000000', 991400.0, 1017214.2596897738, '2021-03-21 21:56:37.175518')\n",
      "2021-03-21 21:56:59,369 INFO sqlalchemy.engine.base.Engine INSERT INTO data (date, real_price, pred_price, timestamp) VALUES (?, ?, ?, ?)\n",
      "2021-03-21 21:56:59,373 INFO sqlalchemy.engine.base.Engine ('2020-07-11 09:00:00.000000', 994063.0, 994162.4560073394, '2021-03-21 21:56:37.175518')\n",
      "2021-03-21 21:56:59,379 INFO sqlalchemy.engine.base.Engine INSERT INTO data (date, real_price, pred_price, timestamp) VALUES (?, ?, ?, ?)\n",
      "2021-03-21 21:56:59,380 INFO sqlalchemy.engine.base.Engine ('2020-07-12 09:00:00.000000', 988877.0, 994324.8373946905, '2021-03-21 21:56:37.175518')\n",
      "2021-03-21 21:56:59,388 INFO sqlalchemy.engine.base.Engine INSERT INTO data (date, real_price, pred_price, timestamp) VALUES (?, ?, ?, ?)\n",
      "2021-03-21 21:56:59,390 INFO sqlalchemy.engine.base.Engine ('2020-07-13 09:00:00.000000', 994403.0, 990528.1702664985, '2021-03-21 21:56:37.175518')\n",
      "2021-03-21 21:56:59,393 INFO sqlalchemy.engine.base.Engine INSERT INTO data (date, real_price, pred_price, timestamp) VALUES (?, ?, ?, ?)\n",
      "2021-03-21 21:56:59,399 INFO sqlalchemy.engine.base.Engine ('2020-07-14 09:00:00.000000', 991999.0, 994257.0381312084, '2021-03-21 21:56:37.175518')\n",
      "2021-03-21 21:56:59,405 INFO sqlalchemy.engine.base.Engine INSERT INTO data (date, real_price, pred_price, timestamp) VALUES (?, ?, ?, ?)\n",
      "2021-03-21 21:56:59,410 INFO sqlalchemy.engine.base.Engine ('2020-07-15 09:00:00.000000', 992629.0, 992550.1403796347, '2021-03-21 21:56:37.175518')\n",
      "2021-03-21 21:56:59,413 INFO sqlalchemy.engine.base.Engine INSERT INTO data (date, real_price, pred_price, timestamp) VALUES (?, ?, ?, ?)\n",
      "2021-03-21 21:56:59,413 INFO sqlalchemy.engine.base.Engine ('2020-07-16 09:00:00.000000', 984953.0, 992839.7359117843, '2021-03-21 21:56:37.175518')\n",
      "2021-03-21 21:56:59,421 INFO sqlalchemy.engine.base.Engine INSERT INTO data (date, real_price, pred_price, timestamp) VALUES (?, ?, ?, ?)\n",
      "2021-03-21 21:56:59,422 INFO sqlalchemy.engine.base.Engine ('2020-07-17 09:00:00.000000', 981001.0, 987252.6273076838, '2021-03-21 21:56:37.175518')\n",
      "2021-03-21 21:56:59,429 INFO sqlalchemy.engine.base.Engine INSERT INTO data (date, real_price, pred_price, timestamp) VALUES (?, ?, ?, ?)\n",
      "2021-03-21 21:56:59,433 INFO sqlalchemy.engine.base.Engine ('2020-07-18 09:00:00.000000', 981400.0, 982942.9452053142, '2021-03-21 21:56:37.175518')\n",
      "2021-03-21 21:56:59,435 INFO sqlalchemy.engine.base.Engine INSERT INTO data (date, real_price, pred_price, timestamp) VALUES (?, ?, ?, ?)\n",
      "2021-03-21 21:56:59,441 INFO sqlalchemy.engine.base.Engine ('2020-07-19 09:00:00.000000', 983008.0, 981325.9999288257, '2021-03-21 21:56:37.175518')\n",
      "2021-03-21 21:56:59,445 INFO sqlalchemy.engine.base.Engine INSERT INTO data (date, real_price, pred_price, timestamp) VALUES (?, ?, ?, ?)\n",
      "2021-03-21 21:56:59,446 INFO sqlalchemy.engine.base.Engine ('2020-07-20 09:00:00.000000', 987318.0, 982823.3172998971, '2021-03-21 21:56:37.175518')\n",
      "2021-03-21 21:56:59,454 INFO sqlalchemy.engine.base.Engine INSERT INTO data (date, real_price, pred_price, timestamp) VALUES (?, ?, ?, ?)\n",
      "2021-03-21 21:56:59,459 INFO sqlalchemy.engine.base.Engine ('2020-07-21 09:00:00.000000', 983258.0, 988001.9863196848, '2021-03-21 21:56:37.175518')\n",
      "2021-03-21 21:56:59,465 INFO sqlalchemy.engine.base.Engine INSERT INTO data (date, real_price, pred_price, timestamp) VALUES (?, ?, ?, ?)\n",
      "2021-03-21 21:56:59,470 INFO sqlalchemy.engine.base.Engine ('2020-07-22 09:00:00.000000', 1003851.0, 983768.8142329806, '2021-03-21 21:56:37.175518')\n",
      "2021-03-21 21:56:59,473 INFO sqlalchemy.engine.base.Engine INSERT INTO data (date, real_price, pred_price, timestamp) VALUES (?, ?, ?, ?)\n",
      "2021-03-21 21:56:59,473 INFO sqlalchemy.engine.base.Engine ('2020-07-23 09:00:00.000000', 1021745.0, 1006455.842241825, '2021-03-21 21:56:37.175518')\n"
     ]
    },
    {
     "name": "stdout",
     "output_type": "stream",
     "text": [
      "2021-03-21 21:56:59,483 INFO sqlalchemy.engine.base.Engine INSERT INTO data (date, real_price, pred_price, timestamp) VALUES (?, ?, ?, ?)\n",
      "2021-03-21 21:56:59,486 INFO sqlalchemy.engine.base.Engine ('2020-07-24 09:00:00.000000', 1026771.0, 1029362.3130152503, '2021-03-21 21:56:37.175518')\n",
      "2021-03-21 21:56:59,489 INFO sqlalchemy.engine.base.Engine INSERT INTO data (date, real_price, pred_price, timestamp) VALUES (?, ?, ?, ?)\n",
      "2021-03-21 21:56:59,495 INFO sqlalchemy.engine.base.Engine ('2020-07-25 09:00:00.000000', 1014790.0, 1032406.2752261608, '2021-03-21 21:56:37.175518')\n",
      "2021-03-21 21:56:59,500 INFO sqlalchemy.engine.base.Engine INSERT INTO data (date, real_price, pred_price, timestamp) VALUES (?, ?, ?, ?)\n",
      "2021-03-21 21:56:59,505 INFO sqlalchemy.engine.base.Engine ('2020-07-26 09:00:00.000000', 1030800.0, 1015390.5988430526, '2021-03-21 21:56:37.175518')\n",
      "2021-03-21 21:56:59,509 INFO sqlalchemy.engine.base.Engine INSERT INTO data (date, real_price, pred_price, timestamp) VALUES (?, ?, ?, ?)\n",
      "2021-03-21 21:56:59,512 INFO sqlalchemy.engine.base.Engine ('2020-07-27 09:00:00.000000', 1052800.0, 1031358.1018291642, '2021-03-21 21:56:37.175518')\n",
      "2021-03-21 21:56:59,513 INFO sqlalchemy.engine.base.Engine INSERT INTO data (date, real_price, pred_price, timestamp) VALUES (?, ?, ?, ?)\n",
      "2021-03-21 21:56:59,519 INFO sqlalchemy.engine.base.Engine ('2020-07-28 09:00:00.000000', 1161792.0, 1058762.8747368436, '2021-03-21 21:56:37.175518')\n",
      "2021-03-21 21:56:59,523 INFO sqlalchemy.engine.base.Engine INSERT INTO data (date, real_price, pred_price, timestamp) VALUES (?, ?, ?, ?)\n",
      "2021-03-21 21:56:59,526 INFO sqlalchemy.engine.base.Engine ('2020-07-29 09:00:00.000000', 1148483.0, 1185953.6648439323, '2021-03-21 21:56:37.175518')\n",
      "2021-03-21 21:56:59,533 INFO sqlalchemy.engine.base.Engine INSERT INTO data (date, real_price, pred_price, timestamp) VALUES (?, ?, ?, ?)\n",
      "2021-03-21 21:56:59,538 INFO sqlalchemy.engine.base.Engine ('2020-07-30 09:00:00.000000', 1167267.0, 1169346.8132815985, '2021-03-21 21:56:37.175518')\n",
      "2021-03-21 21:56:59,545 INFO sqlalchemy.engine.base.Engine INSERT INTO data (date, real_price, pred_price, timestamp) VALUES (?, ?, ?, ?)\n",
      "2021-03-21 21:56:59,549 INFO sqlalchemy.engine.base.Engine ('2020-07-31 09:00:00.000000', 1162795.0, 1177445.8602809808, '2021-03-21 21:56:37.175518')\n",
      "2021-03-21 21:56:59,554 INFO sqlalchemy.engine.base.Engine INSERT INTO data (date, real_price, pred_price, timestamp) VALUES (?, ?, ?, ?)\n",
      "2021-03-21 21:56:59,560 INFO sqlalchemy.engine.base.Engine ('2020-08-01 09:00:00.000000', 1201369.0, 1167252.2607431368, '2021-03-21 21:56:37.175518')\n",
      "2021-03-21 21:56:59,565 INFO sqlalchemy.engine.base.Engine INSERT INTO data (date, real_price, pred_price, timestamp) VALUES (?, ?, ?, ?)\n",
      "2021-03-21 21:56:59,570 INFO sqlalchemy.engine.base.Engine ('2020-08-02 09:00:00.000000', 1253271.0, 1208131.4697273406, '2021-03-21 21:56:37.175518')\n",
      "2021-03-21 21:56:59,572 INFO sqlalchemy.engine.base.Engine INSERT INTO data (date, real_price, pred_price, timestamp) VALUES (?, ?, ?, ?)\n",
      "2021-03-21 21:56:59,576 INFO sqlalchemy.engine.base.Engine ('2020-08-03 09:00:00.000000', 1174208.0, 1271307.3933200974, '2021-03-21 21:56:37.175518')\n",
      "2021-03-21 21:56:59,580 INFO sqlalchemy.engine.base.Engine INSERT INTO data (date, real_price, pred_price, timestamp) VALUES (?, ?, ?, ?)\n",
      "2021-03-21 21:56:59,584 INFO sqlalchemy.engine.base.Engine ('2020-08-04 09:00:00.000000', 1192124.0, 1184696.957331179, '2021-03-21 21:56:37.175518')\n",
      "2021-03-21 21:56:59,590 INFO sqlalchemy.engine.base.Engine INSERT INTO data (date, real_price, pred_price, timestamp) VALUES (?, ?, ?, ?)\n",
      "2021-03-21 21:56:59,594 INFO sqlalchemy.engine.base.Engine ('2020-08-05 09:00:00.000000', 1184018.0, 1191037.1227800676, '2021-03-21 21:56:37.175518')\n",
      "2021-03-21 21:56:59,601 INFO sqlalchemy.engine.base.Engine INSERT INTO data (date, real_price, pred_price, timestamp) VALUES (?, ?, ?, ?)\n",
      "2021-03-21 21:56:59,604 INFO sqlalchemy.engine.base.Engine ('2020-08-06 09:00:00.000000', 1241698.0, 1186481.7844693596, '2021-03-21 21:56:37.175518')\n",
      "2021-03-21 21:56:59,612 INFO sqlalchemy.engine.base.Engine INSERT INTO data (date, real_price, pred_price, timestamp) VALUES (?, ?, ?, ?)\n",
      "2021-03-21 21:56:59,616 INFO sqlalchemy.engine.base.Engine ('2020-08-07 09:00:00.000000', 1244183.0, 1241619.854272581, '2021-03-21 21:56:37.175518')\n",
      "2021-03-21 21:56:59,621 INFO sqlalchemy.engine.base.Engine INSERT INTO data (date, real_price, pred_price, timestamp) VALUES (?, ?, ?, ?)\n",
      "2021-03-21 21:56:59,627 INFO sqlalchemy.engine.base.Engine ('2020-08-08 09:00:00.000000', 1232000.0, 1256809.8722753716, '2021-03-21 21:56:37.175518')\n",
      "2021-03-21 21:56:59,628 INFO sqlalchemy.engine.base.Engine INSERT INTO data (date, real_price, pred_price, timestamp) VALUES (?, ?, ?, ?)\n",
      "2021-03-21 21:56:59,633 INFO sqlalchemy.engine.base.Engine ('2020-08-09 09:00:00.000000', 1247789.0, 1235751.9180556934, '2021-03-21 21:56:37.175518')\n",
      "2021-03-21 21:56:59,641 INFO sqlalchemy.engine.base.Engine INSERT INTO data (date, real_price, pred_price, timestamp) VALUES (?, ?, ?, ?)\n",
      "2021-03-21 21:56:59,642 INFO sqlalchemy.engine.base.Engine ('2020-08-10 09:00:00.000000', 1238888.0, 1249188.3371481358, '2021-03-21 21:56:37.175518')\n",
      "2021-03-21 21:56:59,647 INFO sqlalchemy.engine.base.Engine INSERT INTO data (date, real_price, pred_price, timestamp) VALUES (?, ?, ?, ?)\n",
      "2021-03-21 21:56:59,649 INFO sqlalchemy.engine.base.Engine ('2020-08-11 09:00:00.000000', 1261304.0, 1240350.729331372, '2021-03-21 21:56:37.175518')\n",
      "2021-03-21 21:56:59,657 INFO sqlalchemy.engine.base.Engine INSERT INTO data (date, real_price, pred_price, timestamp) VALUES (?, ?, ?, ?)\n",
      "2021-03-21 21:56:59,661 INFO sqlalchemy.engine.base.Engine ('2020-08-12 09:00:00.000000', 1216250.0, 1263890.496761269, '2021-03-21 21:56:37.175518')\n",
      "2021-03-21 21:56:59,668 INFO sqlalchemy.engine.base.Engine INSERT INTO data (date, real_price, pred_price, timestamp) VALUES (?, ?, ?, ?)\n",
      "2021-03-21 21:56:59,669 INFO sqlalchemy.engine.base.Engine ('2020-08-13 09:00:00.000000', 1237245.0, 1227065.4714523233, '2021-03-21 21:56:37.175518')\n",
      "2021-03-21 21:56:59,676 INFO sqlalchemy.engine.base.Engine INSERT INTO data (date, real_price, pred_price, timestamp) VALUES (?, ?, ?, ?)\n",
      "2021-03-21 21:56:59,677 INFO sqlalchemy.engine.base.Engine ('2020-08-14 09:00:00.000000', 1260621.0, 1233028.813990293, '2021-03-21 21:56:37.175518')\n",
      "2021-03-21 21:56:59,685 INFO sqlalchemy.engine.base.Engine INSERT INTO data (date, real_price, pred_price, timestamp) VALUES (?, ?, ?, ?)\n",
      "2021-03-21 21:56:59,688 INFO sqlalchemy.engine.base.Engine ('2020-08-15 09:00:00.000000', 1256372.0, 1261339.100322841, '2021-03-21 21:56:37.175518')\n",
      "2021-03-21 21:56:59,695 INFO sqlalchemy.engine.base.Engine INSERT INTO data (date, real_price, pred_price, timestamp) VALUES (?, ?, ?, ?)\n",
      "2021-03-21 21:56:59,697 INFO sqlalchemy.engine.base.Engine ('2020-08-16 09:00:00.000000', 1264963.0, 1261576.2470635592, '2021-03-21 21:56:37.175518')\n",
      "2021-03-21 21:56:59,703 INFO sqlalchemy.engine.base.Engine INSERT INTO data (date, real_price, pred_price, timestamp) VALUES (?, ?, ?, ?)\n",
      "2021-03-21 21:56:59,703 INFO sqlalchemy.engine.base.Engine ('2020-08-17 09:00:00.000000', 1269993.0, 1267389.3296454581, '2021-03-21 21:56:37.175518')\n",
      "2021-03-21 21:56:59,708 INFO sqlalchemy.engine.base.Engine INSERT INTO data (date, real_price, pred_price, timestamp) VALUES (?, ?, ?, ?)\n",
      "2021-03-21 21:56:59,714 INFO sqlalchemy.engine.base.Engine ('2020-08-18 09:00:00.000000', 1305300.0, 1272754.1643904564, '2021-03-21 21:56:37.175518')\n",
      "2021-03-21 21:56:59,720 INFO sqlalchemy.engine.base.Engine INSERT INTO data (date, real_price, pred_price, timestamp) VALUES (?, ?, ?, ?)\n",
      "2021-03-21 21:56:59,724 INFO sqlalchemy.engine.base.Engine ('2020-08-19 09:00:00.000000', 1261745.0, 1313096.5821242165, '2021-03-21 21:56:37.175518')\n",
      "2021-03-21 21:56:59,726 INFO sqlalchemy.engine.base.Engine INSERT INTO data (date, real_price, pred_price, timestamp) VALUES (?, ?, ?, ?)\n",
      "2021-03-21 21:56:59,733 INFO sqlalchemy.engine.base.Engine ('2020-08-20 09:00:00.000000', 1249355.0, 1267976.6991679794, '2021-03-21 21:56:37.175518')\n",
      "2021-03-21 21:56:59,737 INFO sqlalchemy.engine.base.Engine INSERT INTO data (date, real_price, pred_price, timestamp) VALUES (?, ?, ?, ?)\n"
     ]
    },
    {
     "name": "stdout",
     "output_type": "stream",
     "text": [
      "2021-03-21 21:56:59,742 INFO sqlalchemy.engine.base.Engine ('2020-08-21 09:00:00.000000', 1254646.0, 1254633.8230908604, '2021-03-21 21:56:37.175518')\n",
      "2021-03-21 21:56:59,742 INFO sqlalchemy.engine.base.Engine INSERT INTO data (date, real_price, pred_price, timestamp) VALUES (?, ?, ?, ?)\n",
      "2021-03-21 21:56:59,748 INFO sqlalchemy.engine.base.Engine ('2020-08-22 09:00:00.000000', 1222031.0, 1253617.402684069, '2021-03-21 21:56:37.175518')\n",
      "2021-03-21 21:56:59,755 INFO sqlalchemy.engine.base.Engine INSERT INTO data (date, real_price, pred_price, timestamp) VALUES (?, ?, ?, ?)\n",
      "2021-03-21 21:56:59,758 INFO sqlalchemy.engine.base.Engine ('2020-08-23 09:00:00.000000', 1237485.0, 1233865.5363309507, '2021-03-21 21:56:37.175518')\n",
      "2021-03-21 21:56:59,764 INFO sqlalchemy.engine.base.Engine INSERT INTO data (date, real_price, pred_price, timestamp) VALUES (?, ?, ?, ?)\n",
      "2021-03-21 21:56:59,768 INFO sqlalchemy.engine.base.Engine ('2020-08-24 09:00:00.000000', 1235514.0, 1233688.7007483654, '2021-03-21 21:56:37.175518')\n",
      "2021-03-21 21:56:59,774 INFO sqlalchemy.engine.base.Engine INSERT INTO data (date, real_price, pred_price, timestamp) VALUES (?, ?, ?, ?)\n",
      "2021-03-21 21:56:59,777 INFO sqlalchemy.engine.base.Engine ('2020-08-25 09:00:00.000000', 1246899.0, 1234697.053487111, '2021-03-21 21:56:37.175518')\n",
      "2021-03-21 21:56:59,778 INFO sqlalchemy.engine.base.Engine INSERT INTO data (date, real_price, pred_price, timestamp) VALUES (?, ?, ?, ?)\n",
      "2021-03-21 21:56:59,785 INFO sqlalchemy.engine.base.Engine ('2020-08-26 09:00:00.000000', 1208500.0, 1248388.437514811, '2021-03-21 21:56:37.175518')\n",
      "2021-03-21 21:56:59,790 INFO sqlalchemy.engine.base.Engine INSERT INTO data (date, real_price, pred_price, timestamp) VALUES (?, ?, ?, ?)\n",
      "2021-03-21 21:56:59,792 INFO sqlalchemy.engine.base.Engine ('2020-08-27 09:00:00.000000', 1216528.0, 1218245.6026549565, '2021-03-21 21:56:37.175518')\n",
      "2021-03-21 21:56:59,797 INFO sqlalchemy.engine.base.Engine INSERT INTO data (date, real_price, pred_price, timestamp) VALUES (?, ?, ?, ?)\n",
      "2021-03-21 21:56:59,803 INFO sqlalchemy.engine.base.Engine ('2020-08-28 09:00:00.000000', 1209914.0, 1215232.280302963, '2021-03-21 21:56:37.175518')\n",
      "2021-03-21 21:56:59,805 INFO sqlalchemy.engine.base.Engine INSERT INTO data (date, real_price, pred_price, timestamp) VALUES (?, ?, ?, ?)\n",
      "2021-03-21 21:56:59,811 INFO sqlalchemy.engine.base.Engine ('2020-08-29 09:00:00.000000', 1215522.0, 1210890.6433086034, '2021-03-21 21:56:37.175518')\n",
      "2021-03-21 21:56:59,818 INFO sqlalchemy.engine.base.Engine INSERT INTO data (date, real_price, pred_price, timestamp) VALUES (?, ?, ?, ?)\n",
      "2021-03-21 21:56:59,820 INFO sqlalchemy.engine.base.Engine ('2020-08-30 09:00:00.000000', 1213222.0, 1216405.2878538729, '2021-03-21 21:56:37.175518')\n",
      "2021-03-21 21:56:59,828 INFO sqlalchemy.engine.base.Engine INSERT INTO data (date, real_price, pred_price, timestamp) VALUES (?, ?, ?, ?)\n",
      "2021-03-21 21:56:59,831 INFO sqlalchemy.engine.base.Engine ('2020-08-31 09:00:00.000000', 1237375.0, 1214240.7488432121, '2021-03-21 21:56:37.175518')\n",
      "2021-03-21 21:56:59,837 INFO sqlalchemy.engine.base.Engine INSERT INTO data (date, real_price, pred_price, timestamp) VALUES (?, ?, ?, ?)\n",
      "2021-03-21 21:56:59,842 INFO sqlalchemy.engine.base.Engine ('2020-09-01 09:00:00.000000', 1238000.0, 1240469.4435420493, '2021-03-21 21:56:37.175518')\n",
      "2021-03-21 21:56:59,847 INFO sqlalchemy.engine.base.Engine INSERT INTO data (date, real_price, pred_price, timestamp) VALUES (?, ?, ?, ?)\n",
      "2021-03-21 21:56:59,849 INFO sqlalchemy.engine.base.Engine ('2020-09-02 09:00:00.000000', 1264036.0, 1243246.5008320832, '2021-03-21 21:56:37.175518')\n",
      "2021-03-21 21:56:59,856 INFO sqlalchemy.engine.base.Engine INSERT INTO data (date, real_price, pred_price, timestamp) VALUES (?, ?, ?, ?)\n",
      "2021-03-21 21:56:59,860 INFO sqlalchemy.engine.base.Engine ('2020-09-03 09:00:00.000000', 1213836.0, 1271119.1227508683, '2021-03-21 21:56:37.175518')\n",
      "2021-03-21 21:56:59,865 INFO sqlalchemy.engine.base.Engine INSERT INTO data (date, real_price, pred_price, timestamp) VALUES (?, ?, ?, ?)\n",
      "2021-03-21 21:56:59,870 INFO sqlalchemy.engine.base.Engine ('2020-09-04 09:00:00.000000', 1081385.0, 1222613.7773629266, '2021-03-21 21:56:37.175518')\n",
      "2021-03-21 21:56:59,875 INFO sqlalchemy.engine.base.Engine INSERT INTO data (date, real_price, pred_price, timestamp) VALUES (?, ?, ?, ?)\n",
      "2021-03-21 21:56:59,875 INFO sqlalchemy.engine.base.Engine ('2020-09-05 09:00:00.000000', 1116228.0, 1131167.4354912178, '2021-03-21 21:56:37.175518')\n",
      "2021-03-21 21:56:59,880 INFO sqlalchemy.engine.base.Engine INSERT INTO data (date, real_price, pred_price, timestamp) VALUES (?, ?, ?, ?)\n",
      "2021-03-21 21:56:59,880 INFO sqlalchemy.engine.base.Engine ('2020-09-06 09:00:00.000000', 1081637.0, 1108395.3405298926, '2021-03-21 21:56:37.175518')\n",
      "2021-03-21 21:56:59,892 INFO sqlalchemy.engine.base.Engine INSERT INTO data (date, real_price, pred_price, timestamp) VALUES (?, ?, ?, ?)\n",
      "2021-03-21 21:56:59,896 INFO sqlalchemy.engine.base.Engine ('2020-09-07 09:00:00.000000', 1093172.0, 1089416.947642029, '2021-03-21 21:56:37.175518')\n",
      "2021-03-21 21:56:59,902 INFO sqlalchemy.engine.base.Engine INSERT INTO data (date, real_price, pred_price, timestamp) VALUES (?, ?, ?, ?)\n",
      "2021-03-21 21:56:59,902 INFO sqlalchemy.engine.base.Engine ('2020-09-08 09:00:00.000000', 1104509.0, 1097345.90516247, '2021-03-21 21:56:37.175518')\n",
      "2021-03-21 21:56:59,909 INFO sqlalchemy.engine.base.Engine INSERT INTO data (date, real_price, pred_price, timestamp) VALUES (?, ?, ?, ?)\n",
      "2021-03-21 21:56:59,911 INFO sqlalchemy.engine.base.Engine ('2020-09-09 09:00:00.000000', 1074006.0, 1107757.0071767252, '2021-03-21 21:56:37.175518')\n",
      "2021-03-21 21:56:59,916 INFO sqlalchemy.engine.base.Engine INSERT INTO data (date, real_price, pred_price, timestamp) VALUES (?, ?, ?, ?)\n",
      "2021-03-21 21:56:59,921 INFO sqlalchemy.engine.base.Engine ('2020-09-10 09:00:00.000000', 1087081.0, 1082532.337585605, '2021-03-21 21:56:37.175518')\n",
      "2021-03-21 21:56:59,926 INFO sqlalchemy.engine.base.Engine INSERT INTO data (date, real_price, pred_price, timestamp) VALUES (?, ?, ?, ?)\n",
      "2021-03-21 21:56:59,931 INFO sqlalchemy.engine.base.Engine ('2020-09-11 09:00:00.000000', 1099282.0, 1084585.7669837405, '2021-03-21 21:56:37.175518')\n",
      "2021-03-21 21:56:59,936 INFO sqlalchemy.engine.base.Engine INSERT INTO data (date, real_price, pred_price, timestamp) VALUES (?, ?, ?, ?)\n",
      "2021-03-21 21:56:59,940 INFO sqlalchemy.engine.base.Engine ('2020-09-12 09:00:00.000000', 1103947.0, 1098004.0225978629, '2021-03-21 21:56:37.175518')\n",
      "2021-03-21 21:56:59,940 INFO sqlalchemy.engine.base.Engine INSERT INTO data (date, real_price, pred_price, timestamp) VALUES (?, ?, ?, ?)\n",
      "2021-03-21 21:56:59,948 INFO sqlalchemy.engine.base.Engine ('2020-09-13 09:00:00.000000', 1110235.0, 1107618.5868330263, '2021-03-21 21:56:37.175518')\n",
      "2021-03-21 21:56:59,951 INFO sqlalchemy.engine.base.Engine INSERT INTO data (date, real_price, pred_price, timestamp) VALUES (?, ?, ?, ?)\n",
      "2021-03-21 21:56:59,957 INFO sqlalchemy.engine.base.Engine ('2020-09-14 09:00:00.000000', 1098495.0, 1112870.261075069, '2021-03-21 21:56:37.175518')\n",
      "2021-03-21 21:56:59,962 INFO sqlalchemy.engine.base.Engine INSERT INTO data (date, real_price, pred_price, timestamp) VALUES (?, ?, ?, ?)\n",
      "2021-03-21 21:56:59,965 INFO sqlalchemy.engine.base.Engine ('2020-09-15 09:00:00.000000', 1129458.0, 1099307.1473000175, '2021-03-21 21:56:37.175518')\n",
      "2021-03-21 21:56:59,971 INFO sqlalchemy.engine.base.Engine INSERT INTO data (date, real_price, pred_price, timestamp) VALUES (?, ?, ?, ?)\n",
      "2021-03-21 21:56:59,974 INFO sqlalchemy.engine.base.Engine ('2020-09-16 09:00:00.000000', 1138456.0, 1131402.906794571, '2021-03-21 21:56:37.175518')\n",
      "2021-03-21 21:56:59,979 INFO sqlalchemy.engine.base.Engine INSERT INTO data (date, real_price, pred_price, timestamp) VALUES (?, ?, ?, ?)\n",
      "2021-03-21 21:56:59,983 INFO sqlalchemy.engine.base.Engine ('2020-09-17 09:00:00.000000', 1152172.0, 1146344.2228314208, '2021-03-21 21:56:37.175518')\n",
      "2021-03-21 21:56:59,988 INFO sqlalchemy.engine.base.Engine INSERT INTO data (date, real_price, pred_price, timestamp) VALUES (?, ?, ?, ?)\n",
      "2021-03-21 21:56:59,991 INFO sqlalchemy.engine.base.Engine ('2020-09-18 09:00:00.000000', 1146789.0, 1158846.2259316863, '2021-03-21 21:56:37.175518')\n"
     ]
    },
    {
     "name": "stdout",
     "output_type": "stream",
     "text": [
      "2021-03-21 21:56:59,997 INFO sqlalchemy.engine.base.Engine INSERT INTO data (date, real_price, pred_price, timestamp) VALUES (?, ?, ?, ?)\n",
      "2021-03-21 21:57:00,002 INFO sqlalchemy.engine.base.Engine ('2020-09-19 09:00:00.000000', 1144683.0, 1148706.2488293638, '2021-03-21 21:56:37.175518')\n",
      "2021-03-21 21:57:00,008 INFO sqlalchemy.engine.base.Engine INSERT INTO data (date, real_price, pred_price, timestamp) VALUES (?, ?, ?, ?)\n",
      "2021-03-21 21:57:00,014 INFO sqlalchemy.engine.base.Engine ('2020-09-20 09:00:00.000000', 1159267.0, 1145086.145289898, '2021-03-21 21:56:37.175518')\n",
      "2021-03-21 21:57:00,018 INFO sqlalchemy.engine.base.Engine INSERT INTO data (date, real_price, pred_price, timestamp) VALUES (?, ?, ?, ?)\n",
      "2021-03-21 21:57:00,023 INFO sqlalchemy.engine.base.Engine ('2020-09-21 09:00:00.000000', 1142239.0, 1160875.4914469891, '2021-03-21 21:56:37.175518')\n",
      "2021-03-21 21:57:00,029 INFO sqlalchemy.engine.base.Engine INSERT INTO data (date, real_price, pred_price, timestamp) VALUES (?, ?, ?, ?)\n",
      "2021-03-21 21:57:00,033 INFO sqlalchemy.engine.base.Engine ('2020-09-22 09:00:00.000000', 1091082.0, 1145744.9534743954, '2021-03-21 21:56:37.175518')\n",
      "2021-03-21 21:57:00,040 INFO sqlalchemy.engine.base.Engine INSERT INTO data (date, real_price, pred_price, timestamp) VALUES (?, ?, ?, ?)\n",
      "2021-03-21 21:57:00,044 INFO sqlalchemy.engine.base.Engine ('2020-09-23 09:00:00.000000', 1106570.0, 1109764.2019847156, '2021-03-21 21:56:37.175518')\n",
      "2021-03-21 21:57:00,047 INFO sqlalchemy.engine.base.Engine INSERT INTO data (date, real_price, pred_price, timestamp) VALUES (?, ?, ?, ?)\n",
      "2021-03-21 21:57:00,052 INFO sqlalchemy.engine.base.Engine ('2020-09-24 09:00:00.000000', 1078788.0, 1102737.8772470325, '2021-03-21 21:56:37.175518')\n",
      "2021-03-21 21:57:00,056 INFO sqlalchemy.engine.base.Engine INSERT INTO data (date, real_price, pred_price, timestamp) VALUES (?, ?, ?, ?)\n",
      "2021-03-21 21:57:00,061 INFO sqlalchemy.engine.base.Engine ('2020-09-25 09:00:00.000000', 1132018.0, 1086745.0177529126, '2021-03-21 21:56:37.175518')\n",
      "2021-03-21 21:57:00,066 INFO sqlalchemy.engine.base.Engine INSERT INTO data (date, real_price, pred_price, timestamp) VALUES (?, ?, ?, ?)\n",
      "2021-03-21 21:57:00,071 INFO sqlalchemy.engine.base.Engine ('2020-09-26 09:00:00.000000', 1129490.0, 1126306.8818913123, '2021-03-21 21:56:37.175518')\n",
      "2021-03-21 21:57:00,075 INFO sqlalchemy.engine.base.Engine INSERT INTO data (date, real_price, pred_price, timestamp) VALUES (?, ?, ?, ?)\n",
      "2021-03-21 21:57:00,075 INFO sqlalchemy.engine.base.Engine ('2020-09-27 09:00:00.000000', 1134774.0, 1139513.5107494772, '2021-03-21 21:56:37.175518')\n",
      "2021-03-21 21:57:00,081 INFO sqlalchemy.engine.base.Engine INSERT INTO data (date, real_price, pred_price, timestamp) VALUES (?, ?, ?, ?)\n",
      "2021-03-21 21:57:00,087 INFO sqlalchemy.engine.base.Engine ('2020-09-28 09:00:00.000000', 1138923.0, 1140245.8223343322, '2021-03-21 21:56:37.175518')\n",
      "2021-03-21 21:57:00,093 INFO sqlalchemy.engine.base.Engine INSERT INTO data (date, real_price, pred_price, timestamp) VALUES (?, ?, ?, ?)\n",
      "2021-03-21 21:57:00,098 INFO sqlalchemy.engine.base.Engine ('2020-09-29 09:00:00.000000', 1128478.0, 1141278.2067192115, '2021-03-21 21:56:37.175518')\n",
      "2021-03-21 21:57:00,108 INFO sqlalchemy.engine.base.Engine INSERT INTO data (date, real_price, pred_price, timestamp) VALUES (?, ?, ?, ?)\n",
      "2021-03-21 21:57:00,109 INFO sqlalchemy.engine.base.Engine ('2020-09-30 09:00:00.000000', 1146293.0, 1130496.9661418532, '2021-03-21 21:56:37.175518')\n",
      "2021-03-21 21:57:00,117 INFO sqlalchemy.engine.base.Engine INSERT INTO data (date, real_price, pred_price, timestamp) VALUES (?, ?, ?, ?)\n",
      "2021-03-21 21:57:00,120 INFO sqlalchemy.engine.base.Engine ('2020-10-01 09:00:00.000000', 1137292.0, 1146349.8238011494, '2021-03-21 21:56:37.175518')\n",
      "2021-03-21 21:57:00,127 INFO sqlalchemy.engine.base.Engine INSERT INTO data (date, real_price, pred_price, timestamp) VALUES (?, ?, ?, ?)\n",
      "2021-03-21 21:57:00,132 INFO sqlalchemy.engine.base.Engine ('2020-10-02 09:00:00.000000', 1121999.0, 1139415.3333477092, '2021-03-21 21:56:37.175518')\n",
      "2021-03-21 21:57:00,138 INFO sqlalchemy.engine.base.Engine INSERT INTO data (date, real_price, pred_price, timestamp) VALUES (?, ?, ?, ?)\n",
      "2021-03-21 21:57:00,139 INFO sqlalchemy.engine.base.Engine ('2020-10-03 09:00:00.000000', 1114512.0, 1126927.173990553, '2021-03-21 21:56:37.175518')\n",
      "2021-03-21 21:57:00,145 INFO sqlalchemy.engine.base.Engine INSERT INTO data (date, real_price, pred_price, timestamp) VALUES (?, ?, ?, ?)\n",
      "2021-03-21 21:57:00,150 INFO sqlalchemy.engine.base.Engine ('2020-10-04 09:00:00.000000', 1112500.0, 1117664.5521436296, '2021-03-21 21:56:37.175518')\n",
      "2021-03-21 21:57:00,156 INFO sqlalchemy.engine.base.Engine INSERT INTO data (date, real_price, pred_price, timestamp) VALUES (?, ?, ?, ?)\n",
      "2021-03-21 21:57:00,158 INFO sqlalchemy.engine.base.Engine ('2020-10-05 09:00:00.000000', 1127500.0, 1113580.0765333183, '2021-03-21 21:56:37.175518')\n",
      "2021-03-21 21:57:00,164 INFO sqlalchemy.engine.base.Engine INSERT INTO data (date, real_price, pred_price, timestamp) VALUES (?, ?, ?, ?)\n",
      "2021-03-21 21:57:00,169 INFO sqlalchemy.engine.base.Engine ('2020-10-06 09:00:00.000000', 1141000.0, 1124851.0385238305, '2021-03-21 21:56:37.175518')\n",
      "2021-03-21 21:57:00,174 INFO sqlalchemy.engine.base.Engine INSERT INTO data (date, real_price, pred_price, timestamp) VALUES (?, ?, ?, ?)\n",
      "2021-03-21 21:57:00,179 INFO sqlalchemy.engine.base.Engine ('2020-10-07 09:00:00.000000', 1121836.0, 1146097.8464540911, '2021-03-21 21:56:37.175518')\n",
      "2021-03-21 21:57:00,184 INFO sqlalchemy.engine.base.Engine INSERT INTO data (date, real_price, pred_price, timestamp) VALUES (?, ?, ?, ?)\n",
      "2021-03-21 21:57:00,189 INFO sqlalchemy.engine.base.Engine ('2020-10-08 09:00:00.000000', 1131100.0, 1123946.6395714735, '2021-03-21 21:56:37.175518')\n",
      "2021-03-21 21:57:00,193 INFO sqlalchemy.engine.base.Engine INSERT INTO data (date, real_price, pred_price, timestamp) VALUES (?, ?, ?, ?)\n",
      "2021-03-21 21:57:00,197 INFO sqlalchemy.engine.base.Engine ('2020-10-09 09:00:00.000000', 1157278.0, 1130830.282032466, '2021-03-21 21:56:37.175518')\n",
      "2021-03-21 21:57:00,200 INFO sqlalchemy.engine.base.Engine INSERT INTO data (date, real_price, pred_price, timestamp) VALUES (?, ?, ?, ?)\n",
      "2021-03-21 21:57:00,205 INFO sqlalchemy.engine.base.Engine ('2020-10-10 09:00:00.000000', 1168815.0, 1160809.9906998237, '2021-03-21 21:56:37.175518')\n",
      "2021-03-21 21:57:00,210 INFO sqlalchemy.engine.base.Engine INSERT INTO data (date, real_price, pred_price, timestamp) VALUES (?, ?, ?, ?)\n",
      "2021-03-21 21:57:00,215 INFO sqlalchemy.engine.base.Engine ('2020-10-11 09:00:00.000000', 1192637.0, 1177011.8749539324, '2021-03-21 21:56:37.175518')\n",
      "2021-03-21 21:57:00,221 INFO sqlalchemy.engine.base.Engine INSERT INTO data (date, real_price, pred_price, timestamp) VALUES (?, ?, ?, ?)\n",
      "2021-03-21 21:57:00,225 INFO sqlalchemy.engine.base.Engine ('2020-10-12 09:00:00.000000', 1200341.0, 1201169.581860833, '2021-03-21 21:56:37.175518')\n",
      "2021-03-21 21:57:00,229 INFO sqlalchemy.engine.base.Engine INSERT INTO data (date, real_price, pred_price, timestamp) VALUES (?, ?, ?, ?)\n",
      "2021-03-21 21:57:00,234 INFO sqlalchemy.engine.base.Engine ('2020-10-13 09:00:00.000000', 1215517.0, 1206757.9925734787, '2021-03-21 21:56:37.175518')\n",
      "2021-03-21 21:57:00,238 INFO sqlalchemy.engine.base.Engine INSERT INTO data (date, real_price, pred_price, timestamp) VALUES (?, ?, ?, ?)\n",
      "2021-03-21 21:57:00,240 INFO sqlalchemy.engine.base.Engine ('2020-10-14 09:00:00.000000', 1204407.0, 1221303.8317018189, '2021-03-21 21:56:37.175518')\n",
      "2021-03-21 21:57:00,249 INFO sqlalchemy.engine.base.Engine INSERT INTO data (date, real_price, pred_price, timestamp) VALUES (?, ?, ?, ?)\n",
      "2021-03-21 21:57:00,253 INFO sqlalchemy.engine.base.Engine ('2020-10-15 09:00:00.000000', 1200316.0, 1205805.576472762, '2021-03-21 21:56:37.175518')\n",
      "2021-03-21 21:57:00,258 INFO sqlalchemy.engine.base.Engine INSERT INTO data (date, real_price, pred_price, timestamp) VALUES (?, ?, ?, ?)\n",
      "2021-03-21 21:57:00,262 INFO sqlalchemy.engine.base.Engine ('2020-10-16 09:00:00.000000', 1212122.0, 1201195.4039044508, '2021-03-21 21:56:37.175518')\n",
      "2021-03-21 21:57:00,265 INFO sqlalchemy.engine.base.Engine INSERT INTO data (date, real_price, pred_price, timestamp) VALUES (?, ?, ?, ?)\n"
     ]
    },
    {
     "name": "stdout",
     "output_type": "stream",
     "text": [
      "2021-03-21 21:57:00,271 INFO sqlalchemy.engine.base.Engine ('2020-10-17 09:00:00.000000', 1194529.0, 1211761.2442807835, '2021-03-21 21:56:37.175518')\n",
      "2021-03-21 21:57:00,278 INFO sqlalchemy.engine.base.Engine INSERT INTO data (date, real_price, pred_price, timestamp) VALUES (?, ?, ?, ?)\n",
      "2021-03-21 21:57:00,283 INFO sqlalchemy.engine.base.Engine ('2020-10-18 09:00:00.000000', 1197535.0, 1199199.4655961439, '2021-03-21 21:56:37.175518')\n",
      "2021-03-21 21:57:00,288 INFO sqlalchemy.engine.base.Engine INSERT INTO data (date, real_price, pred_price, timestamp) VALUES (?, ?, ?, ?)\n",
      "2021-03-21 21:57:00,293 INFO sqlalchemy.engine.base.Engine ('2020-10-19 09:00:00.000000', 1213571.0, 1197439.9125162999, '2021-03-21 21:56:37.175518')\n",
      "2021-03-21 21:57:00,297 INFO sqlalchemy.engine.base.Engine INSERT INTO data (date, real_price, pred_price, timestamp) VALUES (?, ?, ?, ?)\n",
      "2021-03-21 21:57:00,301 INFO sqlalchemy.engine.base.Engine ('2020-10-20 09:00:00.000000', 1237405.0, 1213314.3107006499, '2021-03-21 21:56:37.175518')\n",
      "2021-03-21 21:57:00,304 INFO sqlalchemy.engine.base.Engine INSERT INTO data (date, real_price, pred_price, timestamp) VALUES (?, ?, ?, ?)\n",
      "2021-03-21 21:57:00,309 INFO sqlalchemy.engine.base.Engine ('2020-10-21 09:00:00.000000', 1256584.0, 1244307.1763811542, '2021-03-21 21:56:37.175518')\n",
      "2021-03-21 21:57:00,314 INFO sqlalchemy.engine.base.Engine INSERT INTO data (date, real_price, pred_price, timestamp) VALUES (?, ?, ?, ?)\n",
      "2021-03-21 21:57:00,318 INFO sqlalchemy.engine.base.Engine ('2020-10-22 09:00:00.000000', 1340000.0, 1266112.4996240563, '2021-03-21 21:56:37.175518')\n",
      "2021-03-21 21:57:00,324 INFO sqlalchemy.engine.base.Engine INSERT INTO data (date, real_price, pred_price, timestamp) VALUES (?, ?, ?, ?)\n",
      "2021-03-21 21:57:00,329 INFO sqlalchemy.engine.base.Engine ('2020-10-23 09:00:00.000000', 1357938.0, 1361589.7146505644, '2021-03-21 21:56:37.175518')\n",
      "2021-03-21 21:57:00,333 INFO sqlalchemy.engine.base.Engine INSERT INTO data (date, real_price, pred_price, timestamp) VALUES (?, ?, ?, ?)\n",
      "2021-03-21 21:57:00,337 INFO sqlalchemy.engine.base.Engine ('2020-10-24 09:00:00.000000', 1354278.0, 1379356.1567533736, '2021-03-21 21:56:37.175518')\n",
      "2021-03-21 21:57:00,342 INFO sqlalchemy.engine.base.Engine INSERT INTO data (date, real_price, pred_price, timestamp) VALUES (?, ?, ?, ?)\n",
      "2021-03-21 21:57:00,344 INFO sqlalchemy.engine.base.Engine ('2020-10-25 09:00:00.000000', 1371544.0, 1362139.0902941772, '2021-03-21 21:56:37.175518')\n",
      "2021-03-21 21:57:00,347 INFO sqlalchemy.engine.base.Engine INSERT INTO data (date, real_price, pred_price, timestamp) VALUES (?, ?, ?, ?)\n",
      "2021-03-21 21:57:00,354 INFO sqlalchemy.engine.base.Engine ('2020-10-26 09:00:00.000000', 1364513.0, 1375360.9102058324, '2021-03-21 21:56:37.175518')\n",
      "2021-03-21 21:57:00,359 INFO sqlalchemy.engine.base.Engine INSERT INTO data (date, real_price, pred_price, timestamp) VALUES (?, ?, ?, ?)\n",
      "2021-03-21 21:57:00,363 INFO sqlalchemy.engine.base.Engine ('2020-10-27 09:00:00.000000', 1369830.0, 1366803.2563006957, '2021-03-21 21:56:37.175518')\n",
      "2021-03-21 21:57:00,368 INFO sqlalchemy.engine.base.Engine INSERT INTO data (date, real_price, pred_price, timestamp) VALUES (?, ?, ?, ?)\n",
      "2021-03-21 21:57:00,372 INFO sqlalchemy.engine.base.Engine ('2020-10-28 09:00:00.000000', 1425690.0, 1371614.0427063417, '2021-03-21 21:56:37.175518')\n",
      "2021-03-21 21:57:00,376 INFO sqlalchemy.engine.base.Engine INSERT INTO data (date, real_price, pred_price, timestamp) VALUES (?, ?, ?, ?)\n",
      "2021-03-21 21:57:00,380 INFO sqlalchemy.engine.base.Engine ('2020-10-29 09:00:00.000000', 1387544.0, 1435426.4287484197, '2021-03-21 21:56:37.175518')\n",
      "2021-03-21 21:57:00,385 INFO sqlalchemy.engine.base.Engine INSERT INTO data (date, real_price, pred_price, timestamp) VALUES (?, ?, ?, ?)\n",
      "2021-03-21 21:57:00,391 INFO sqlalchemy.engine.base.Engine ('2020-10-30 09:00:00.000000', 1406387.0, 1394909.152840567, '2021-03-21 21:56:37.175518')\n",
      "2021-03-21 21:57:00,396 INFO sqlalchemy.engine.base.Engine INSERT INTO data (date, real_price, pred_price, timestamp) VALUES (?, ?, ?, ?)\n",
      "2021-03-21 21:57:00,400 INFO sqlalchemy.engine.base.Engine ('2020-10-31 09:00:00.000000', 1419400.0, 1410606.5510196276, '2021-03-21 21:56:37.175518')\n",
      "2021-03-21 21:57:00,404 INFO sqlalchemy.engine.base.Engine INSERT INTO data (date, real_price, pred_price, timestamp) VALUES (?, ?, ?, ?)\n",
      "2021-03-21 21:57:00,404 INFO sqlalchemy.engine.base.Engine ('2020-11-01 09:00:00.000000', 1444181.0, 1426354.092649878, '2021-03-21 21:56:37.175518')\n",
      "2021-03-21 21:57:00,415 INFO sqlalchemy.engine.base.Engine INSERT INTO data (date, real_price, pred_price, timestamp) VALUES (?, ?, ?, ?)\n",
      "2021-03-21 21:57:00,420 INFO sqlalchemy.engine.base.Engine ('2020-11-02 09:00:00.000000', 1441000.0, 1451375.2842744233, '2021-03-21 21:56:37.175518')\n",
      "2021-03-21 21:57:00,425 INFO sqlalchemy.engine.base.Engine INSERT INTO data (date, real_price, pred_price, timestamp) VALUES (?, ?, ?, ?)\n",
      "2021-03-21 21:57:00,430 INFO sqlalchemy.engine.base.Engine ('2020-11-03 09:00:00.000000', 1420893.0, 1445485.3567527735, '2021-03-21 21:56:37.175518')\n",
      "2021-03-21 21:57:00,434 INFO sqlalchemy.engine.base.Engine INSERT INTO data (date, real_price, pred_price, timestamp) VALUES (?, ?, ?, ?)\n",
      "2021-03-21 21:57:00,437 INFO sqlalchemy.engine.base.Engine ('2020-11-04 09:00:00.000000', 1464000.0, 1422911.6613105556, '2021-03-21 21:56:37.175518')\n",
      "2021-03-21 21:57:00,443 INFO sqlalchemy.engine.base.Engine INSERT INTO data (date, real_price, pred_price, timestamp) VALUES (?, ?, ?, ?)\n",
      "2021-03-21 21:57:00,446 INFO sqlalchemy.engine.base.Engine ('2020-11-05 09:00:00.000000', 1477239.0, 1464065.2593349812, '2021-03-21 21:56:37.175518')\n",
      "2021-03-21 21:57:00,453 INFO sqlalchemy.engine.base.Engine INSERT INTO data (date, real_price, pred_price, timestamp) VALUES (?, ?, ?, ?)\n",
      "2021-03-21 21:57:00,458 INFO sqlalchemy.engine.base.Engine ('2020-11-06 09:00:00.000000', 1618413.0, 1486957.7263014342, '2021-03-21 21:56:37.175518')\n",
      "2021-03-21 21:57:00,462 INFO sqlalchemy.engine.base.Engine INSERT INTO data (date, real_price, pred_price, timestamp) VALUES (?, ?, ?, ?)\n",
      "2021-03-21 21:57:00,463 INFO sqlalchemy.engine.base.Engine ('2020-11-07 09:00:00.000000', 1611191.0, 1648952.4975276985, '2021-03-21 21:56:37.175518')\n",
      "2021-03-21 21:57:00,473 INFO sqlalchemy.engine.base.Engine INSERT INTO data (date, real_price, pred_price, timestamp) VALUES (?, ?, ?, ?)\n",
      "2021-03-21 21:57:00,478 INFO sqlalchemy.engine.base.Engine ('2020-11-08 09:00:00.000000', 1533355.0, 1639466.8833830543, '2021-03-21 21:56:37.175518')\n",
      "2021-03-21 21:57:00,483 INFO sqlalchemy.engine.base.Engine INSERT INTO data (date, real_price, pred_price, timestamp) VALUES (?, ?, ?, ?)\n",
      "2021-03-21 21:57:00,486 INFO sqlalchemy.engine.base.Engine ('2020-11-09 09:00:00.000000', 1598834.0, 1541848.2551321187, '2021-03-21 21:56:37.175518')\n",
      "2021-03-21 21:57:00,493 INFO sqlalchemy.engine.base.Engine INSERT INTO data (date, real_price, pred_price, timestamp) VALUES (?, ?, ?, ?)\n",
      "2021-03-21 21:57:00,493 INFO sqlalchemy.engine.base.Engine ('2020-11-10 09:00:00.000000', 1611570.0, 1594626.6401786492, '2021-03-21 21:56:37.175518')\n",
      "2021-03-21 21:57:00,501 INFO sqlalchemy.engine.base.Engine INSERT INTO data (date, real_price, pred_price, timestamp) VALUES (?, ?, ?, ?)\n",
      "2021-03-21 21:57:00,504 INFO sqlalchemy.engine.base.Engine ('2020-11-11 09:00:00.000000', 1610899.0, 1610544.2291465767, '2021-03-21 21:56:37.175518')\n",
      "2021-03-21 21:57:00,508 INFO sqlalchemy.engine.base.Engine INSERT INTO data (date, real_price, pred_price, timestamp) VALUES (?, ?, ?, ?)\n",
      "2021-03-21 21:57:00,513 INFO sqlalchemy.engine.base.Engine ('2020-11-12 09:00:00.000000', 1654168.0, 1617812.7117149285, '2021-03-21 21:56:37.175518')\n",
      "2021-03-21 21:57:00,516 INFO sqlalchemy.engine.base.Engine INSERT INTO data (date, real_price, pred_price, timestamp) VALUES (?, ?, ?, ?)\n",
      "2021-03-21 21:57:00,521 INFO sqlalchemy.engine.base.Engine ('2020-11-13 09:00:00.000000', 1712114.0, 1663231.5004529266, '2021-03-21 21:56:37.175518')\n",
      "2021-03-21 21:57:00,526 INFO sqlalchemy.engine.base.Engine INSERT INTO data (date, real_price, pred_price, timestamp) VALUES (?, ?, ?, ?)\n",
      "2021-03-21 21:57:00,530 INFO sqlalchemy.engine.base.Engine ('2020-11-14 09:00:00.000000', 1709518.0, 1732441.1303808775, '2021-03-21 21:56:37.175518')\n"
     ]
    },
    {
     "name": "stdout",
     "output_type": "stream",
     "text": [
      "2021-03-21 21:57:00,537 INFO sqlalchemy.engine.base.Engine INSERT INTO data (date, real_price, pred_price, timestamp) VALUES (?, ?, ?, ?)\n",
      "2021-03-21 21:57:00,542 INFO sqlalchemy.engine.base.Engine ('2020-11-15 09:00:00.000000', 1685924.0, 1722463.8575095837, '2021-03-21 21:56:37.175518')\n",
      "2021-03-21 21:57:00,546 INFO sqlalchemy.engine.base.Engine INSERT INTO data (date, real_price, pred_price, timestamp) VALUES (?, ?, ?, ?)\n",
      "2021-03-21 21:57:00,550 INFO sqlalchemy.engine.base.Engine ('2020-11-16 09:00:00.000000', 1672849.0, 1687533.2044422117, '2021-03-21 21:56:37.175518')\n",
      "2021-03-21 21:57:00,554 INFO sqlalchemy.engine.base.Engine INSERT INTO data (date, real_price, pred_price, timestamp) VALUES (?, ?, ?, ?)\n",
      "2021-03-21 21:57:00,558 INFO sqlalchemy.engine.base.Engine ('2020-11-17 09:00:00.000000', 1747522.0, 1675063.4112917588, '2021-03-21 21:56:37.175518')\n",
      "2021-03-21 21:57:00,564 INFO sqlalchemy.engine.base.Engine INSERT INTO data (date, real_price, pred_price, timestamp) VALUES (?, ?, ?, ?)\n",
      "2021-03-21 21:57:00,568 INFO sqlalchemy.engine.base.Engine ('2020-11-18 09:00:00.000000', 1841189.0, 1741327.486278836, '2021-03-21 21:56:37.175518')\n",
      "2021-03-21 21:57:00,575 INFO sqlalchemy.engine.base.Engine INSERT INTO data (date, real_price, pred_price, timestamp) VALUES (?, ?, ?, ?)\n",
      "2021-03-21 21:57:00,579 INFO sqlalchemy.engine.base.Engine ('2020-11-19 09:00:00.000000', 1848331.0, 1871378.6860772884, '2021-03-21 21:56:37.175518')\n",
      "2021-03-21 21:57:00,584 INFO sqlalchemy.engine.base.Engine INSERT INTO data (date, real_price, pred_price, timestamp) VALUES (?, ?, ?, ?)\n",
      "2021-03-21 21:57:00,588 INFO sqlalchemy.engine.base.Engine ('2020-11-20 09:00:00.000000', 1849940.0, 1872126.4533113881, '2021-03-21 21:56:37.175518')\n",
      "2021-03-21 21:57:00,592 INFO sqlalchemy.engine.base.Engine INSERT INTO data (date, real_price, pred_price, timestamp) VALUES (?, ?, ?, ?)\n",
      "2021-03-21 21:57:00,595 INFO sqlalchemy.engine.base.Engine ('2020-11-21 09:00:00.000000', 1939124.0, 1857169.2841159138, '2021-03-21 21:56:37.175518')\n",
      "2021-03-21 21:57:00,603 INFO sqlalchemy.engine.base.Engine INSERT INTO data (date, real_price, pred_price, timestamp) VALUES (?, ?, ?, ?)\n",
      "2021-03-21 21:57:00,604 INFO sqlalchemy.engine.base.Engine ('2020-11-22 09:00:00.000000', 1945098.0, 1957377.992508778, '2021-03-21 21:56:37.175518')\n",
      "2021-03-21 21:57:00,608 INFO sqlalchemy.engine.base.Engine INSERT INTO data (date, real_price, pred_price, timestamp) VALUES (?, ?, ?, ?)\n",
      "2021-03-21 21:57:00,612 INFO sqlalchemy.engine.base.Engine ('2020-11-23 09:00:00.000000', 1911568.0, 1965533.1471566488, '2021-03-21 21:56:37.175518')\n",
      "2021-03-21 21:57:00,617 INFO sqlalchemy.engine.base.Engine INSERT INTO data (date, real_price, pred_price, timestamp) VALUES (?, ?, ?, ?)\n",
      "2021-03-21 21:57:00,623 INFO sqlalchemy.engine.base.Engine ('2020-11-24 09:00:00.000000', 1914000.0, 1916260.2170587678, '2021-03-21 21:56:37.175518')\n",
      "2021-03-21 21:57:00,628 INFO sqlalchemy.engine.base.Engine INSERT INTO data (date, real_price, pred_price, timestamp) VALUES (?, ?, ?, ?)\n",
      "2021-03-21 21:57:00,632 INFO sqlalchemy.engine.base.Engine ('2020-11-25 09:00:00.000000', 1960390.0, 1913271.6392971263, '2021-03-21 21:56:37.175518')\n",
      "2021-03-21 21:57:00,638 INFO sqlalchemy.engine.base.Engine INSERT INTO data (date, real_price, pred_price, timestamp) VALUES (?, ?, ?, ?)\n",
      "2021-03-21 21:57:00,641 INFO sqlalchemy.engine.base.Engine ('2020-11-26 09:00:00.000000', 1952078.0, 1955342.3421335698, '2021-03-21 21:56:37.175518')\n",
      "2021-03-21 21:57:00,641 INFO sqlalchemy.engine.base.Engine INSERT INTO data (date, real_price, pred_price, timestamp) VALUES (?, ?, ?, ?)\n",
      "2021-03-21 21:57:00,647 INFO sqlalchemy.engine.base.Engine ('2020-11-27 09:00:00.000000', 1788077.0, 1960362.9645363283, '2021-03-21 21:56:37.175518')\n",
      "2021-03-21 21:57:00,653 INFO sqlalchemy.engine.base.Engine INSERT INTO data (date, real_price, pred_price, timestamp) VALUES (?, ?, ?, ?)\n",
      "2021-03-21 21:57:00,656 INFO sqlalchemy.engine.base.Engine ('2020-11-28 09:00:00.000000', 1784100.0, 1840245.8218070967, '2021-03-21 21:56:37.175518')\n",
      "2021-03-21 21:57:00,659 INFO sqlalchemy.engine.base.Engine INSERT INTO data (date, real_price, pred_price, timestamp) VALUES (?, ?, ?, ?)\n",
      "2021-03-21 21:57:00,663 INFO sqlalchemy.engine.base.Engine ('2020-11-29 09:00:00.000000', 1846869.0, 1791958.8702325458, '2021-03-21 21:56:37.175518')\n",
      "2021-03-21 21:57:00,672 INFO sqlalchemy.engine.base.Engine INSERT INTO data (date, real_price, pred_price, timestamp) VALUES (?, ?, ?, ?)\n",
      "2021-03-21 21:57:00,676 INFO sqlalchemy.engine.base.Engine ('2020-11-30 09:00:00.000000', 1893175.0, 1823570.7640940426, '2021-03-21 21:56:37.175518')\n",
      "2021-03-21 21:57:00,682 INFO sqlalchemy.engine.base.Engine INSERT INTO data (date, real_price, pred_price, timestamp) VALUES (?, ?, ?, ?)\n",
      "2021-03-21 21:57:00,685 INFO sqlalchemy.engine.base.Engine ('2020-12-01 09:00:00.000000', 2045665.0, 1903476.5550554143, '2021-03-21 21:56:37.175518')\n",
      "2021-03-21 21:57:00,690 INFO sqlalchemy.engine.base.Engine INSERT INTO data (date, real_price, pred_price, timestamp) VALUES (?, ?, ?, ?)\n",
      "2021-03-21 21:57:00,690 INFO sqlalchemy.engine.base.Engine ('2020-12-02 09:00:00.000000', 1960119.0, 2088827.9621913612, '2021-03-21 21:56:37.175518')\n",
      "2021-03-21 21:57:00,698 INFO sqlalchemy.engine.base.Engine INSERT INTO data (date, real_price, pred_price, timestamp) VALUES (?, ?, ?, ?)\n",
      "2021-03-21 21:57:00,702 INFO sqlalchemy.engine.base.Engine ('2020-12-03 09:00:00.000000', 2005987.0, 1977748.6449297932, '2021-03-21 21:56:37.175518')\n",
      "2021-03-21 21:57:00,709 INFO sqlalchemy.engine.base.Engine INSERT INTO data (date, real_price, pred_price, timestamp) VALUES (?, ?, ?, ?)\n",
      "2021-03-21 21:57:00,712 INFO sqlalchemy.engine.base.Engine ('2020-12-04 09:00:00.000000', 2018000.0, 2017218.3798948985, '2021-03-21 21:56:37.175518')\n",
      "2021-03-21 21:57:00,715 INFO sqlalchemy.engine.base.Engine INSERT INTO data (date, real_price, pred_price, timestamp) VALUES (?, ?, ?, ?)\n",
      "2021-03-21 21:57:00,721 INFO sqlalchemy.engine.base.Engine ('2020-12-05 09:00:00.000000', 1947001.0, 2033162.7198057955, '2021-03-21 21:56:37.175518')\n",
      "2021-03-21 21:57:00,727 INFO sqlalchemy.engine.base.Engine INSERT INTO data (date, real_price, pred_price, timestamp) VALUES (?, ?, ?, ?)\n",
      "2021-03-21 21:57:00,731 INFO sqlalchemy.engine.base.Engine ('2020-12-06 09:00:00.000000', 1995555.0, 1967026.5634897004, '2021-03-21 21:56:37.175518')\n",
      "2021-03-21 21:57:00,736 INFO sqlalchemy.engine.base.Engine INSERT INTO data (date, real_price, pred_price, timestamp) VALUES (?, ?, ?, ?)\n",
      "2021-03-21 21:57:00,742 INFO sqlalchemy.engine.base.Engine ('2020-12-07 09:00:00.000000', 2016630.0, 1986903.1027513146, '2021-03-21 21:56:37.175518')\n",
      "2021-03-21 21:57:00,746 INFO sqlalchemy.engine.base.Engine INSERT INTO data (date, real_price, pred_price, timestamp) VALUES (?, ?, ?, ?)\n",
      "2021-03-21 21:57:00,749 INFO sqlalchemy.engine.base.Engine ('2020-12-08 09:00:00.000000', 1997150.0, 2015750.12653533, '2021-03-21 21:56:37.175518')\n",
      "2021-03-21 21:57:00,756 INFO sqlalchemy.engine.base.Engine INSERT INTO data (date, real_price, pred_price, timestamp) VALUES (?, ?, ?, ?)\n",
      "2021-03-21 21:57:00,760 INFO sqlalchemy.engine.base.Engine ('2020-12-09 09:00:00.000000', 1911000.0, 2002724.1288606136, '2021-03-21 21:56:37.175518')\n",
      "2021-03-21 21:57:00,763 INFO sqlalchemy.engine.base.Engine INSERT INTO data (date, real_price, pred_price, timestamp) VALUES (?, ?, ?, ?)\n",
      "2021-03-21 21:57:00,769 INFO sqlalchemy.engine.base.Engine ('2020-12-10 09:00:00.000000', 1936500.0, 1935529.3714974495, '2021-03-21 21:56:37.175518')\n",
      "2021-03-21 21:57:00,773 INFO sqlalchemy.engine.base.Engine INSERT INTO data (date, real_price, pred_price, timestamp) VALUES (?, ?, ?, ?)\n",
      "2021-03-21 21:57:00,779 INFO sqlalchemy.engine.base.Engine ('2020-12-11 09:00:00.000000', 1899694.0, 1930302.4088351838, '2021-03-21 21:56:37.175518')\n",
      "2021-03-21 21:57:00,783 INFO sqlalchemy.engine.base.Engine INSERT INTO data (date, real_price, pred_price, timestamp) VALUES (?, ?, ?, ?)\n",
      "2021-03-21 21:57:00,788 INFO sqlalchemy.engine.base.Engine ('2020-12-12 09:00:00.000000', 1875759.0, 1909260.9636007329, '2021-03-21 21:56:37.175518')\n",
      "2021-03-21 21:57:00,791 INFO sqlalchemy.engine.base.Engine INSERT INTO data (date, real_price, pred_price, timestamp) VALUES (?, ?, ?, ?)\n"
     ]
    },
    {
     "name": "stdout",
     "output_type": "stream",
     "text": [
      "2021-03-21 21:57:00,793 INFO sqlalchemy.engine.base.Engine ('2020-12-13 09:00:00.000000', 1957880.0, 1887893.4912923689, '2021-03-21 21:56:37.175518')\n",
      "2021-03-21 21:57:00,802 INFO sqlalchemy.engine.base.Engine INSERT INTO data (date, real_price, pred_price, timestamp) VALUES (?, ?, ?, ?)\n",
      "2021-03-21 21:57:00,805 INFO sqlalchemy.engine.base.Engine ('2020-12-14 09:00:00.000000', 1988187.0, 1948916.1887881735, '2021-03-21 21:56:37.175518')\n",
      "2021-03-21 21:57:00,810 INFO sqlalchemy.engine.base.Engine INSERT INTO data (date, real_price, pred_price, timestamp) VALUES (?, ?, ?, ?)\n",
      "2021-03-21 21:57:00,815 INFO sqlalchemy.engine.base.Engine ('2020-12-15 09:00:00.000000', 2000099.0, 2007114.303866872, '2021-03-21 21:56:37.175518')\n",
      "2021-03-21 21:57:00,821 INFO sqlalchemy.engine.base.Engine INSERT INTO data (date, real_price, pred_price, timestamp) VALUES (?, ?, ?, ?)\n",
      "2021-03-21 21:57:00,826 INFO sqlalchemy.engine.base.Engine ('2020-12-16 09:00:00.000000', 2011544.0, 2013666.8378523162, '2021-03-21 21:56:37.175518')\n",
      "2021-03-21 21:57:00,828 INFO sqlalchemy.engine.base.Engine INSERT INTO data (date, real_price, pred_price, timestamp) VALUES (?, ?, ?, ?)\n",
      "2021-03-21 21:57:00,832 INFO sqlalchemy.engine.base.Engine ('2020-12-17 09:00:00.000000', 2204169.0, 2017181.3315441818, '2021-03-21 21:56:37.175518')\n",
      "2021-03-21 21:57:00,840 INFO sqlalchemy.engine.base.Engine INSERT INTO data (date, real_price, pred_price, timestamp) VALUES (?, ?, ?, ?)\n",
      "2021-03-21 21:57:00,842 INFO sqlalchemy.engine.base.Engine ('2020-12-18 09:00:00.000000', 2345936.0, 2239959.2018104796, '2021-03-21 21:56:37.175518')\n",
      "2021-03-21 21:57:00,847 INFO sqlalchemy.engine.base.Engine INSERT INTO data (date, real_price, pred_price, timestamp) VALUES (?, ?, ?, ?)\n",
      "2021-03-21 21:57:00,852 INFO sqlalchemy.engine.base.Engine ('2020-12-19 09:00:00.000000', 2384389.0, 2415379.17847269, '2021-03-21 21:56:37.175518')\n",
      "2021-03-21 21:57:00,858 INFO sqlalchemy.engine.base.Engine INSERT INTO data (date, real_price, pred_price, timestamp) VALUES (?, ?, ?, ?)\n",
      "2021-03-21 21:57:00,861 INFO sqlalchemy.engine.base.Engine ('2020-12-20 09:00:00.000000', 2463470.0, 2429004.6893172227, '2021-03-21 21:56:37.175518')\n",
      "2021-03-21 21:57:00,865 INFO sqlalchemy.engine.base.Engine INSERT INTO data (date, real_price, pred_price, timestamp) VALUES (?, ?, ?, ?)\n",
      "2021-03-21 21:57:00,871 INFO sqlalchemy.engine.base.Engine ('2020-12-21 09:00:00.000000', 2431406.0, 2492246.269798434, '2021-03-21 21:56:37.175518')\n",
      "2021-03-21 21:57:00,871 INFO sqlalchemy.engine.base.Engine INSERT INTO data (date, real_price, pred_price, timestamp) VALUES (?, ?, ?, ?)\n",
      "2021-03-21 21:57:00,877 INFO sqlalchemy.engine.base.Engine ('2020-12-22 09:00:00.000000', 2352054.0, 2441737.1842150018, '2021-03-21 21:56:37.175518')\n",
      "2021-03-21 21:57:00,882 INFO sqlalchemy.engine.base.Engine INSERT INTO data (date, real_price, pred_price, timestamp) VALUES (?, ?, ?, ?)\n",
      "2021-03-21 21:57:00,886 INFO sqlalchemy.engine.base.Engine ('2020-12-23 09:00:00.000000', 2463605.0, 2367143.365956813, '2021-03-21 21:56:37.175518')\n",
      "2021-03-21 21:57:00,893 INFO sqlalchemy.engine.base.Engine INSERT INTO data (date, real_price, pred_price, timestamp) VALUES (?, ?, ?, ?)\n",
      "2021-03-21 21:57:00,899 INFO sqlalchemy.engine.base.Engine ('2020-12-24 09:00:00.000000', 2402890.0, 2448742.7919686637, '2021-03-21 21:56:37.175518')\n",
      "2021-03-21 21:57:00,902 INFO sqlalchemy.engine.base.Engine INSERT INTO data (date, real_price, pred_price, timestamp) VALUES (?, ?, ?, ?)\n",
      "2021-03-21 21:57:00,908 INFO sqlalchemy.engine.base.Engine ('2020-12-25 09:00:00.000000', 2455575.0, 2412317.1022646637, '2021-03-21 21:56:37.175518')\n",
      "2021-03-21 21:57:00,913 INFO sqlalchemy.engine.base.Engine INSERT INTO data (date, real_price, pred_price, timestamp) VALUES (?, ?, ?, ?)\n",
      "2021-03-21 21:57:00,915 INFO sqlalchemy.engine.base.Engine ('2020-12-26 09:00:00.000000', 2549805.0, 2462675.904351633, '2021-03-21 21:56:37.175518')\n",
      "2021-03-21 21:57:00,923 INFO sqlalchemy.engine.base.Engine INSERT INTO data (date, real_price, pred_price, timestamp) VALUES (?, ?, ?, ?)\n",
      "2021-03-21 21:57:00,929 INFO sqlalchemy.engine.base.Engine ('2020-12-27 09:00:00.000000', 2744909.0, 2577345.509713283, '2021-03-21 21:56:37.175518')\n",
      "2021-03-21 21:57:00,935 INFO sqlalchemy.engine.base.Engine INSERT INTO data (date, real_price, pred_price, timestamp) VALUES (?, ?, ?, ?)\n",
      "2021-03-21 21:57:00,938 INFO sqlalchemy.engine.base.Engine ('2020-12-28 09:00:00.000000', 2720240.0, 2803354.24219413, '2021-03-21 21:56:37.175518')\n",
      "2021-03-21 21:57:00,943 INFO sqlalchemy.engine.base.Engine INSERT INTO data (date, real_price, pred_price, timestamp) VALUES (?, ?, ?, ?)\n",
      "2021-03-21 21:57:00,948 INFO sqlalchemy.engine.base.Engine ('2020-12-29 09:00:00.000000', 2805138.0, 2757459.3885883708, '2021-03-21 21:56:37.175518')\n",
      "2021-03-21 21:57:00,953 INFO sqlalchemy.engine.base.Engine INSERT INTO data (date, real_price, pred_price, timestamp) VALUES (?, ?, ?, ?)\n",
      "2021-03-21 21:57:00,957 INFO sqlalchemy.engine.base.Engine ('2020-12-30 09:00:00.000000', 2827970.0, 2831015.5961879794, '2021-03-21 21:56:37.175518')\n",
      "2021-03-21 21:57:00,962 INFO sqlalchemy.engine.base.Engine INSERT INTO data (date, real_price, pred_price, timestamp) VALUES (?, ?, ?, ?)\n",
      "2021-03-21 21:57:00,965 INFO sqlalchemy.engine.base.Engine ('2020-12-31 09:00:00.000000', 2957123.0, 2849506.1904787607, '2021-03-21 21:56:37.175518')\n",
      "2021-03-21 21:57:00,970 INFO sqlalchemy.engine.base.Engine INSERT INTO data (date, real_price, pred_price, timestamp) VALUES (?, ?, ?, ?)\n",
      "2021-03-21 21:57:00,974 INFO sqlalchemy.engine.base.Engine ('2021-01-01 09:00:00.000000', 2968795.0, 2992856.0999924242, '2021-03-21 21:56:37.175518')\n",
      "2021-03-21 21:57:00,977 INFO sqlalchemy.engine.base.Engine INSERT INTO data (date, real_price, pred_price, timestamp) VALUES (?, ?, ?, ?)\n",
      "2021-03-21 21:57:00,985 INFO sqlalchemy.engine.base.Engine ('2021-01-02 09:00:00.000000', 3010042.0, 2997383.654442763, '2021-03-21 21:56:37.175518')\n",
      "2021-03-21 21:57:00,992 INFO sqlalchemy.engine.base.Engine INSERT INTO data (date, real_price, pred_price, timestamp) VALUES (?, ?, ?, ?)\n",
      "2021-03-21 21:57:00,995 INFO sqlalchemy.engine.base.Engine ('2021-01-03 09:00:00.000000', 3318029.0, 3028986.1231267345, '2021-03-21 21:56:37.175518')\n",
      "2021-03-21 21:57:01,000 INFO sqlalchemy.engine.base.Engine INSERT INTO data (date, real_price, pred_price, timestamp) VALUES (?, ?, ?, ?)\n",
      "2021-03-21 21:57:01,006 INFO sqlalchemy.engine.base.Engine ('2021-01-04 09:00:00.000000', 3410000.0, 3384801.483727395, '2021-03-21 21:56:37.175518')\n",
      "2021-03-21 21:57:01,011 INFO sqlalchemy.engine.base.Engine INSERT INTO data (date, real_price, pred_price, timestamp) VALUES (?, ?, ?, ?)\n",
      "2021-03-21 21:57:01,015 INFO sqlalchemy.engine.base.Engine ('2021-01-05 09:00:00.000000', 3292693.0, 3495590.5687895906, '2021-03-21 21:56:37.175518')\n",
      "2021-03-21 21:57:01,021 INFO sqlalchemy.engine.base.Engine INSERT INTO data (date, real_price, pred_price, timestamp) VALUES (?, ?, ?, ?)\n",
      "2021-03-21 21:57:01,024 INFO sqlalchemy.engine.base.Engine ('2021-01-06 09:00:00.000000', 3470021.0, 3312353.416178763, '2021-03-21 21:56:37.175518')\n",
      "2021-03-21 21:57:01,030 INFO sqlalchemy.engine.base.Engine INSERT INTO data (date, real_price, pred_price, timestamp) VALUES (?, ?, ?, ?)\n",
      "2021-03-21 21:57:01,034 INFO sqlalchemy.engine.base.Engine ('2021-01-07 09:00:00.000000', 3794337.0, 3486915.361717993, '2021-03-21 21:56:37.175518')\n",
      "2021-03-21 21:57:01,038 INFO sqlalchemy.engine.base.Engine INSERT INTO data (date, real_price, pred_price, timestamp) VALUES (?, ?, ?, ?)\n",
      "2021-03-21 21:57:01,047 INFO sqlalchemy.engine.base.Engine ('2021-01-08 09:00:00.000000', 4101108.0, 3879279.9202996097, '2021-03-21 21:56:37.175518')\n",
      "2021-03-21 21:57:01,064 INFO sqlalchemy.engine.base.Engine INSERT INTO data (date, real_price, pred_price, timestamp) VALUES (?, ?, ?, ?)\n",
      "2021-03-21 21:57:01,066 INFO sqlalchemy.engine.base.Engine ('2021-01-09 09:00:00.000000', 4225266.0, 4239761.560606353, '2021-03-21 21:56:37.175518')\n",
      "2021-03-21 21:57:01,073 INFO sqlalchemy.engine.base.Engine INSERT INTO data (date, real_price, pred_price, timestamp) VALUES (?, ?, ?, ?)\n",
      "2021-03-21 21:57:01,076 INFO sqlalchemy.engine.base.Engine ('2021-01-10 09:00:00.000000', 4186509.0, 4322314.608785877, '2021-03-21 21:56:37.175518')\n"
     ]
    },
    {
     "name": "stdout",
     "output_type": "stream",
     "text": [
      "2021-03-21 21:57:01,077 INFO sqlalchemy.engine.base.Engine INSERT INTO data (date, real_price, pred_price, timestamp) VALUES (?, ?, ?, ?)\n",
      "2021-03-21 21:57:01,084 INFO sqlalchemy.engine.base.Engine ('2021-01-11 09:00:00.000000', 3979170.0, 4216172.257128529, '2021-03-21 21:56:37.175518')\n",
      "2021-03-21 21:57:01,090 INFO sqlalchemy.engine.base.Engine INSERT INTO data (date, real_price, pred_price, timestamp) VALUES (?, ?, ?, ?)\n",
      "2021-03-21 21:57:01,093 INFO sqlalchemy.engine.base.Engine ('2021-01-12 09:00:00.000000', 3691706.0, 3998312.5439441004, '2021-03-21 21:56:37.175518')\n",
      "2021-03-21 21:57:01,096 INFO sqlalchemy.engine.base.Engine INSERT INTO data (date, real_price, pred_price, timestamp) VALUES (?, ?, ?, ?)\n",
      "2021-03-21 21:57:01,104 INFO sqlalchemy.engine.base.Engine ('2021-01-13 09:00:00.000000', 3528567.0, 3806681.7105469503, '2021-03-21 21:56:37.175518')\n",
      "2021-03-21 21:57:01,108 INFO sqlalchemy.engine.base.Engine INSERT INTO data (date, real_price, pred_price, timestamp) VALUES (?, ?, ?, ?)\n",
      "2021-03-21 21:57:01,112 INFO sqlalchemy.engine.base.Engine ('2021-01-14 09:00:00.000000', 3882383.0, 3605762.7222591722, '2021-03-21 21:56:37.175518')\n",
      "2021-03-21 21:57:01,116 INFO sqlalchemy.engine.base.Engine INSERT INTO data (date, real_price, pred_price, timestamp) VALUES (?, ?, ?, ?)\n",
      "2021-03-21 21:57:01,121 INFO sqlalchemy.engine.base.Engine ('2021-01-15 09:00:00.000000', 4063030.0, 3784172.2682860782, '2021-03-21 21:56:37.175518')\n",
      "2021-03-21 21:57:01,129 INFO sqlalchemy.engine.base.Engine INSERT INTO data (date, real_price, pred_price, timestamp) VALUES (?, ?, ?, ?)\n",
      "2021-03-21 21:57:01,133 INFO sqlalchemy.engine.base.Engine ('2021-01-16 09:00:00.000000', 3820075.0, 4118268.9285343303, '2021-03-21 21:56:37.175518')\n",
      "2021-03-21 21:57:01,140 INFO sqlalchemy.engine.base.Engine INSERT INTO data (date, real_price, pred_price, timestamp) VALUES (?, ?, ?, ?)\n",
      "2021-03-21 21:57:01,143 INFO sqlalchemy.engine.base.Engine ('2021-01-17 09:00:00.000000', 3742517.0, 3853003.4182152264, '2021-03-21 21:56:37.175518')\n",
      "2021-03-21 21:57:01,148 INFO sqlalchemy.engine.base.Engine INSERT INTO data (date, real_price, pred_price, timestamp) VALUES (?, ?, ?, ?)\n",
      "2021-03-21 21:57:01,153 INFO sqlalchemy.engine.base.Engine ('2021-01-18 09:00:00.000000', 3717046.0, 3750140.083462893, '2021-03-21 21:56:37.175518')\n",
      "2021-03-21 21:57:01,158 INFO sqlalchemy.engine.base.Engine INSERT INTO data (date, real_price, pred_price, timestamp) VALUES (?, ?, ?, ?)\n",
      "2021-03-21 21:57:01,162 INFO sqlalchemy.engine.base.Engine ('2021-01-19 09:00:00.000000', 3800000.0, 3728206.178688318, '2021-03-21 21:56:37.175518')\n",
      "2021-03-21 21:57:01,168 INFO sqlalchemy.engine.base.Engine INSERT INTO data (date, real_price, pred_price, timestamp) VALUES (?, ?, ?, ?)\n",
      "2021-03-21 21:57:01,173 INFO sqlalchemy.engine.base.Engine ('2021-01-20 09:00:00.000000', 3736678.0, 3788638.5046410095, '2021-03-21 21:56:37.175518')\n",
      "2021-03-21 21:57:01,177 INFO sqlalchemy.engine.base.Engine INSERT INTO data (date, real_price, pred_price, timestamp) VALUES (?, ?, ?, ?)\n",
      "2021-03-21 21:57:01,182 INFO sqlalchemy.engine.base.Engine ('2021-01-21 09:00:00.000000', 3683531.0, 3750665.8730987017, '2021-03-21 21:56:37.175518')\n",
      "2021-03-21 21:57:01,189 INFO sqlalchemy.engine.base.Engine INSERT INTO data (date, real_price, pred_price, timestamp) VALUES (?, ?, ?, ?)\n",
      "2021-03-21 21:57:01,193 INFO sqlalchemy.engine.base.Engine ('2021-01-22 09:00:00.000000', 3184848.0, 3702239.794459557, '2021-03-21 21:56:37.175518')\n",
      "2021-03-21 21:57:01,197 INFO sqlalchemy.engine.base.Engine INSERT INTO data (date, real_price, pred_price, timestamp) VALUES (?, ?, ?, ?)\n",
      "2021-03-21 21:57:01,200 INFO sqlalchemy.engine.base.Engine ('2021-01-23 09:00:00.000000', 3423811.0, 3364715.758092725, '2021-03-21 21:56:37.175518')\n",
      "2021-03-21 21:57:01,208 INFO sqlalchemy.engine.base.Engine INSERT INTO data (date, real_price, pred_price, timestamp) VALUES (?, ?, ?, ?)\n",
      "2021-03-21 21:57:01,213 INFO sqlalchemy.engine.base.Engine ('2021-01-24 09:00:00.000000', 3332124.0, 3358643.907920154, '2021-03-21 21:56:37.175518')\n",
      "2021-03-21 21:57:01,221 INFO sqlalchemy.engine.base.Engine INSERT INTO data (date, real_price, pred_price, timestamp) VALUES (?, ?, ?, ?)\n",
      "2021-03-21 21:57:01,225 INFO sqlalchemy.engine.base.Engine ('2021-01-25 09:00:00.000000', 3350424.0, 3335632.0211721654, '2021-03-21 21:56:37.175518')\n",
      "2021-03-21 21:57:01,229 INFO sqlalchemy.engine.base.Engine INSERT INTO data (date, real_price, pred_price, timestamp) VALUES (?, ?, ?, ?)\n",
      "2021-03-21 21:57:01,232 INFO sqlalchemy.engine.base.Engine ('2021-01-26 09:00:00.000000', 3353886.0, 3371593.4088686034, '2021-03-21 21:56:37.175518')\n",
      "2021-03-21 21:57:01,237 INFO sqlalchemy.engine.base.Engine INSERT INTO data (date, real_price, pred_price, timestamp) VALUES (?, ?, ?, ?)\n",
      "2021-03-21 21:57:01,239 INFO sqlalchemy.engine.base.Engine ('2021-01-27 09:00:00.000000', 3363982.0, 3365973.4792509554, '2021-03-21 21:56:37.175518')\n",
      "2021-03-21 21:57:01,247 INFO sqlalchemy.engine.base.Engine INSERT INTO data (date, real_price, pred_price, timestamp) VALUES (?, ?, ?, ?)\n",
      "2021-03-21 21:57:01,251 INFO sqlalchemy.engine.base.Engine ('2021-01-28 09:00:00.000000', 3167193.0, 3368090.974493953, '2021-03-21 21:56:37.175518')\n",
      "2021-03-21 21:57:01,258 INFO sqlalchemy.engine.base.Engine INSERT INTO data (date, real_price, pred_price, timestamp) VALUES (?, ?, ?, ?)\n",
      "2021-03-21 21:57:01,262 INFO sqlalchemy.engine.base.Engine ('2021-01-29 09:00:00.000000', 3480542.0, 3232276.009461075, '2021-03-21 21:56:37.175518')\n",
      "2021-03-21 21:57:01,269 INFO sqlalchemy.engine.base.Engine INSERT INTO data (date, real_price, pred_price, timestamp) VALUES (?, ?, ?, ?)\n",
      "2021-03-21 21:57:01,273 INFO sqlalchemy.engine.base.Engine ('2021-01-30 09:00:00.000000', 3576069.0, 3437450.5153527874, '2021-03-21 21:56:37.175518')\n",
      "2021-03-21 21:57:01,278 INFO sqlalchemy.engine.base.Engine INSERT INTO data (date, real_price, pred_price, timestamp) VALUES (?, ?, ?, ?)\n",
      "2021-03-21 21:57:01,279 INFO sqlalchemy.engine.base.Engine ('2021-01-31 09:00:00.000000', 3579626.0, 3638871.621421916, '2021-03-21 21:56:37.175518')\n",
      "2021-03-21 21:57:01,285 INFO sqlalchemy.engine.base.Engine INSERT INTO data (date, real_price, pred_price, timestamp) VALUES (?, ?, ?, ?)\n",
      "2021-03-21 21:57:01,289 INFO sqlalchemy.engine.base.Engine ('2021-02-01 09:00:00.000000', 3456656.0, 3621957.259782887, '2021-03-21 21:56:37.175518')\n",
      "2021-03-21 21:57:01,295 INFO sqlalchemy.engine.base.Engine INSERT INTO data (date, real_price, pred_price, timestamp) VALUES (?, ?, ?, ?)\n",
      "2021-03-21 21:57:01,300 INFO sqlalchemy.engine.base.Engine ('2021-02-02 09:00:00.000000', 3485976.0, 3460223.548430357, '2021-03-21 21:56:37.175518')\n",
      "2021-03-21 21:57:01,307 INFO sqlalchemy.engine.base.Engine INSERT INTO data (date, real_price, pred_price, timestamp) VALUES (?, ?, ?, ?)\n",
      "2021-03-21 21:57:01,311 INFO sqlalchemy.engine.base.Engine ('2021-02-03 09:00:00.000000', 3712619.0, 3479294.4654906536, '2021-03-21 21:56:37.175518')\n",
      "2021-03-21 21:57:01,316 INFO sqlalchemy.engine.base.Engine INSERT INTO data (date, real_price, pred_price, timestamp) VALUES (?, ?, ?, ?)\n",
      "2021-03-21 21:57:01,320 INFO sqlalchemy.engine.base.Engine ('2021-02-04 09:00:00.000000', 3932798.0, 3708291.100125456, '2021-03-21 21:56:37.175518')\n",
      "2021-03-21 21:57:01,327 INFO sqlalchemy.engine.base.Engine INSERT INTO data (date, real_price, pred_price, timestamp) VALUES (?, ?, ?, ?)\n",
      "2021-03-21 21:57:01,331 INFO sqlalchemy.engine.base.Engine ('2021-02-05 09:00:00.000000', 3901624.0, 4021027.1262402683, '2021-03-21 21:56:37.175518')\n",
      "2021-03-21 21:57:01,336 INFO sqlalchemy.engine.base.Engine INSERT INTO data (date, real_price, pred_price, timestamp) VALUES (?, ?, ?, ?)\n",
      "2021-03-21 21:57:01,342 INFO sqlalchemy.engine.base.Engine ('2021-02-06 09:00:00.000000', 4035812.0, 3948352.6042109346, '2021-03-21 21:56:37.175518')\n",
      "2021-03-21 21:57:01,348 INFO sqlalchemy.engine.base.Engine INSERT INTO data (date, real_price, pred_price, timestamp) VALUES (?, ?, ?, ?)\n",
      "2021-03-21 21:57:01,355 INFO sqlalchemy.engine.base.Engine ('2021-02-07 09:00:00.000000', 4131757.0, 4069476.886796653, '2021-03-21 21:56:37.175518')\n",
      "2021-03-21 21:57:01,360 INFO sqlalchemy.engine.base.Engine INSERT INTO data (date, real_price, pred_price, timestamp) VALUES (?, ?, ?, ?)\n"
     ]
    },
    {
     "name": "stdout",
     "output_type": "stream",
     "text": [
      "2021-03-21 21:57:01,364 INFO sqlalchemy.engine.base.Engine ('2021-02-08 09:00:00.000000', 4097000.0, 4177956.166605463, '2021-03-21 21:56:37.175518')\n",
      "2021-03-21 21:57:01,368 INFO sqlalchemy.engine.base.Engine INSERT INTO data (date, real_price, pred_price, timestamp) VALUES (?, ?, ?, ?)\n",
      "2021-03-21 21:57:01,372 INFO sqlalchemy.engine.base.Engine ('2021-02-09 09:00:00.000000', 4875000.0, 4116828.2053877483, '2021-03-21 21:56:37.175518')\n",
      "2021-03-21 21:57:01,377 INFO sqlalchemy.engine.base.Engine INSERT INTO data (date, real_price, pred_price, timestamp) VALUES (?, ?, ?, ?)\n",
      "2021-03-21 21:57:01,380 INFO sqlalchemy.engine.base.Engine ('2021-02-10 09:00:00.000000', 4874233.0, 5004493.9860975975, '2021-03-21 21:56:37.175518')\n",
      "2021-03-21 21:57:01,385 INFO sqlalchemy.engine.base.Engine INSERT INTO data (date, real_price, pred_price, timestamp) VALUES (?, ?, ?, ?)\n",
      "2021-03-21 21:57:01,389 INFO sqlalchemy.engine.base.Engine ('2021-02-11 09:00:00.000000', 4704412.0, 5041200.351926795, '2021-03-21 21:56:37.175518')\n",
      "2021-03-21 21:57:01,393 INFO sqlalchemy.engine.base.Engine INSERT INTO data (date, real_price, pred_price, timestamp) VALUES (?, ?, ?, ?)\n",
      "2021-03-21 21:57:01,400 INFO sqlalchemy.engine.base.Engine ('2021-02-12 09:00:00.000000', 5014707.0, 4750439.027760752, '2021-03-21 21:56:37.175518')\n",
      "2021-03-21 21:57:01,407 INFO sqlalchemy.engine.base.Engine INSERT INTO data (date, real_price, pred_price, timestamp) VALUES (?, ?, ?, ?)\n",
      "2021-03-21 21:57:01,411 INFO sqlalchemy.engine.base.Engine ('2021-02-13 09:00:00.000000', 4973709.0, 5045453.6394527685, '2021-03-21 21:56:37.175518')\n",
      "2021-03-21 21:57:01,416 INFO sqlalchemy.engine.base.Engine INSERT INTO data (date, real_price, pred_price, timestamp) VALUES (?, ?, ?, ?)\n",
      "2021-03-21 21:57:01,421 INFO sqlalchemy.engine.base.Engine ('2021-02-14 09:00:00.000000', 4957394.0, 5018171.610558464, '2021-03-21 21:56:37.175518')\n",
      "2021-03-21 21:57:01,425 INFO sqlalchemy.engine.base.Engine INSERT INTO data (date, real_price, pred_price, timestamp) VALUES (?, ?, ?, ?)\n",
      "2021-03-21 21:57:01,430 INFO sqlalchemy.engine.base.Engine ('2021-02-15 09:00:00.000000', 5111984.0, 4980423.254515079, '2021-03-21 21:56:37.175518')\n",
      "2021-03-21 21:57:01,437 INFO sqlalchemy.engine.base.Engine INSERT INTO data (date, real_price, pred_price, timestamp) VALUES (?, ?, ?, ?)\n",
      "2021-03-21 21:57:01,441 INFO sqlalchemy.engine.base.Engine ('2021-02-16 09:00:00.000000', 5055269.0, 5139071.510147063, '2021-03-21 21:56:37.175518')\n",
      "2021-03-21 21:57:01,446 INFO sqlalchemy.engine.base.Engine INSERT INTO data (date, real_price, pred_price, timestamp) VALUES (?, ?, ?, ?)\n",
      "2021-03-21 21:57:01,450 INFO sqlalchemy.engine.base.Engine ('2021-02-17 09:00:00.000000', 5205481.0, 5079366.573045657, '2021-03-21 21:56:37.175518')\n",
      "2021-03-21 21:57:01,455 INFO sqlalchemy.engine.base.Engine INSERT INTO data (date, real_price, pred_price, timestamp) VALUES (?, ?, ?, ?)\n",
      "2021-03-21 21:57:01,460 INFO sqlalchemy.engine.base.Engine ('2021-02-18 09:00:00.000000', 5526975.0, 5237032.286642253, '2021-03-21 21:56:37.175518')\n",
      "2021-03-21 21:57:01,465 INFO sqlalchemy.engine.base.Engine INSERT INTO data (date, real_price, pred_price, timestamp) VALUES (?, ?, ?, ?)\n",
      "2021-03-21 21:57:01,470 INFO sqlalchemy.engine.base.Engine ('2021-02-19 09:00:00.000000', 5456000.0, 5616821.446150049, '2021-03-21 21:56:37.175518')\n",
      "2021-03-21 21:57:01,474 INFO sqlalchemy.engine.base.Engine INSERT INTO data (date, real_price, pred_price, timestamp) VALUES (?, ?, ?, ?)\n",
      "2021-03-21 21:57:01,477 INFO sqlalchemy.engine.base.Engine ('2021-02-20 09:00:00.000000', 5910646.0, 5516205.845008618, '2021-03-21 21:56:37.175518')\n",
      "2021-03-21 21:57:01,482 INFO sqlalchemy.engine.base.Engine INSERT INTO data (date, real_price, pred_price, timestamp) VALUES (?, ?, ?, ?)\n",
      "2021-03-21 21:57:01,485 INFO sqlalchemy.engine.base.Engine ('2021-02-21 09:00:00.000000', 5910115.0, 6008868.484209012, '2021-03-21 21:56:37.175518')\n",
      "2021-03-21 21:57:01,491 INFO sqlalchemy.engine.base.Engine INSERT INTO data (date, real_price, pred_price, timestamp) VALUES (?, ?, ?, ?)\n",
      "2021-03-21 21:57:01,495 INFO sqlalchemy.engine.base.Engine ('2021-02-22 09:00:00.000000', 6080178.0, 6002590.609390165, '2021-03-21 21:56:37.175518')\n",
      "2021-03-21 21:57:01,503 INFO sqlalchemy.engine.base.Engine INSERT INTO data (date, real_price, pred_price, timestamp) VALUES (?, ?, ?, ?)\n",
      "2021-03-21 21:57:01,506 INFO sqlalchemy.engine.base.Engine ('2021-02-23 09:00:00.000000', 5687069.0, 6150308.4763524, '2021-03-21 21:56:37.175518')\n",
      "2021-03-21 21:57:01,509 INFO sqlalchemy.engine.base.Engine INSERT INTO data (date, real_price, pred_price, timestamp) VALUES (?, ?, ?, ?)\n",
      "2021-03-21 21:57:01,513 INFO sqlalchemy.engine.base.Engine ('2021-02-24 09:00:00.000000', 5176658.0, 5732336.665809272, '2021-03-21 21:56:37.175518')\n",
      "2021-03-21 21:57:01,518 INFO sqlalchemy.engine.base.Engine INSERT INTO data (date, real_price, pred_price, timestamp) VALUES (?, ?, ?, ?)\n",
      "2021-03-21 21:57:01,524 INFO sqlalchemy.engine.base.Engine ('2021-02-25 09:00:00.000000', 5281086.0, 5381301.563396148, '2021-03-21 21:56:37.175518')\n",
      "2021-03-21 21:57:01,529 INFO sqlalchemy.engine.base.Engine INSERT INTO data (date, real_price, pred_price, timestamp) VALUES (?, ?, ?, ?)\n",
      "2021-03-21 21:57:01,532 INFO sqlalchemy.engine.base.Engine ('2021-02-26 09:00:00.000000', 5024775.0, 5260486.533924252, '2021-03-21 21:56:37.175518')\n",
      "2021-03-21 21:57:01,540 INFO sqlalchemy.engine.base.Engine INSERT INTO data (date, real_price, pred_price, timestamp) VALUES (?, ?, ?, ?)\n",
      "2021-03-21 21:57:01,542 INFO sqlalchemy.engine.base.Engine ('2021-02-27 09:00:00.000000', 4940000.0, 5107443.406387518, '2021-03-21 21:56:37.175518')\n",
      "2021-03-21 21:57:01,547 INFO sqlalchemy.engine.base.Engine INSERT INTO data (date, real_price, pred_price, timestamp) VALUES (?, ?, ?, ?)\n",
      "2021-03-21 21:57:01,548 INFO sqlalchemy.engine.base.Engine ('2021-02-28 09:00:00.000000', 4932453.0, 4995963.77657152, '2021-03-21 21:56:37.175518')\n",
      "2021-03-21 21:57:01,556 INFO sqlalchemy.engine.base.Engine INSERT INTO data (date, real_price, pred_price, timestamp) VALUES (?, ?, ?, ?)\n",
      "2021-03-21 21:57:01,561 INFO sqlalchemy.engine.base.Engine ('2021-03-01 09:00:00.000000', 4819026.0, 4935308.989964887, '2021-03-21 21:56:37.175518')\n",
      "2021-03-21 21:57:01,562 INFO sqlalchemy.engine.base.Engine INSERT INTO data (date, real_price, pred_price, timestamp) VALUES (?, ?, ?, ?)\n",
      "2021-03-21 21:57:01,567 INFO sqlalchemy.engine.base.Engine ('2021-03-02 09:00:00.000000', 5310495.0, 4864909.325066158, '2021-03-21 21:56:37.175518')\n",
      "2021-03-21 21:57:01,574 INFO sqlalchemy.engine.base.Engine INSERT INTO data (date, real_price, pred_price, timestamp) VALUES (?, ?, ?, ?)\n",
      "2021-03-21 21:57:01,579 INFO sqlalchemy.engine.base.Engine ('2021-03-03 09:00:00.000000', 5178380.0, 5308088.421061252, '2021-03-21 21:56:37.175518')\n",
      "2021-03-21 21:57:01,580 INFO sqlalchemy.engine.base.Engine INSERT INTO data (date, real_price, pred_price, timestamp) VALUES (?, ?, ?, ?)\n",
      "2021-03-21 21:57:01,586 INFO sqlalchemy.engine.base.Engine ('2021-03-04 09:00:00.000000', 5401948.0, 5260097.623977189, '2021-03-21 21:56:37.175518')\n",
      "2021-03-21 21:57:01,591 INFO sqlalchemy.engine.base.Engine INSERT INTO data (date, real_price, pred_price, timestamp) VALUES (?, ?, ?, ?)\n",
      "2021-03-21 21:57:01,595 INFO sqlalchemy.engine.base.Engine ('2021-03-05 09:00:00.000000', 5223621.0, 5469993.203237055, '2021-03-21 21:56:37.175518')\n",
      "2021-03-21 21:57:01,600 INFO sqlalchemy.engine.base.Engine INSERT INTO data (date, real_price, pred_price, timestamp) VALUES (?, ?, ?, ?)\n",
      "2021-03-21 21:57:01,604 INFO sqlalchemy.engine.base.Engine ('2021-03-06 09:00:00.000000', 5288600.0, 5253226.215455242, '2021-03-21 21:56:37.175518')\n",
      "2021-03-21 21:57:01,611 INFO sqlalchemy.engine.base.Engine INSERT INTO data (date, real_price, pred_price, timestamp) VALUES (?, ?, ?, ?)\n",
      "2021-03-21 21:57:01,615 INFO sqlalchemy.engine.base.Engine ('2021-03-07 09:00:00.000000', 5285300.0, 5293271.014187044, '2021-03-21 21:56:37.175518')\n",
      "2021-03-21 21:57:01,619 INFO sqlalchemy.engine.base.Engine INSERT INTO data (date, real_price, pred_price, timestamp) VALUES (?, ?, ?, ?)\n",
      "2021-03-21 21:57:01,623 INFO sqlalchemy.engine.base.Engine ('2021-03-08 09:00:00.000000', 5513976.0, 5305720.231260951, '2021-03-21 21:56:37.175518')\n"
     ]
    },
    {
     "name": "stdout",
     "output_type": "stream",
     "text": [
      "2021-03-21 21:57:01,628 INFO sqlalchemy.engine.base.Engine INSERT INTO data (date, real_price, pred_price, timestamp) VALUES (?, ?, ?, ?)\n",
      "2021-03-21 21:57:01,632 INFO sqlalchemy.engine.base.Engine ('2021-03-09 09:00:00.000000', 5675188.0, 5535761.212526337, '2021-03-21 21:56:37.175518')\n",
      "2021-03-21 21:57:01,638 INFO sqlalchemy.engine.base.Engine INSERT INTO data (date, real_price, pred_price, timestamp) VALUES (?, ?, ?, ?)\n",
      "2021-03-21 21:57:01,642 INFO sqlalchemy.engine.base.Engine ('2021-03-10 09:00:00.000000', 5943999.0, 5755628.253138576, '2021-03-21 21:56:37.175518')\n",
      "2021-03-21 21:57:01,646 INFO sqlalchemy.engine.base.Engine INSERT INTO data (date, real_price, pred_price, timestamp) VALUES (?, ?, ?, ?)\n",
      "2021-03-21 21:57:01,650 INFO sqlalchemy.engine.base.Engine ('2021-03-11 09:00:00.000000', 6047865.0, 6044273.076192078, '2021-03-21 21:56:37.175518')\n",
      "2021-03-21 21:57:01,657 INFO sqlalchemy.engine.base.Engine INSERT INTO data (date, real_price, pred_price, timestamp) VALUES (?, ?, ?, ?)\n",
      "2021-03-21 21:57:01,660 INFO sqlalchemy.engine.base.Engine ('2021-03-12 09:00:00.000000', 6272402.0, 6125814.226788689, '2021-03-21 21:56:37.175518')\n",
      "2021-03-21 21:57:01,666 INFO sqlalchemy.engine.base.Engine INSERT INTO data (date, real_price, pred_price, timestamp) VALUES (?, ?, ?, ?)\n",
      "2021-03-21 21:57:01,670 INFO sqlalchemy.engine.base.Engine ('2021-03-13 09:00:00.000000', 6230001.0, 6351655.373882191, '2021-03-21 21:56:37.175518')\n",
      "2021-03-21 21:57:01,676 INFO sqlalchemy.engine.base.Engine INSERT INTO data (date, real_price, pred_price, timestamp) VALUES (?, ?, ?, ?)\n",
      "2021-03-21 21:57:01,679 INFO sqlalchemy.engine.base.Engine ('2021-03-14 09:00:00.000000', 6680000.0, 6266838.056293657, '2021-03-21 21:56:37.175518')\n",
      "2021-03-21 21:57:01,685 INFO sqlalchemy.engine.base.Engine INSERT INTO data (date, real_price, pred_price, timestamp) VALUES (?, ?, ?, ?)\n",
      "2021-03-21 21:57:01,688 INFO sqlalchemy.engine.base.Engine ('2021-03-15 09:00:00.000000', 6432427.0, 6773500.884201947, '2021-03-21 21:56:37.175518')\n",
      "2021-03-21 21:57:01,691 INFO sqlalchemy.engine.base.Engine INSERT INTO data (date, real_price, pred_price, timestamp) VALUES (?, ?, ?, ?)\n",
      "2021-03-21 21:57:01,696 INFO sqlalchemy.engine.base.Engine ('2021-03-16 09:00:00.000000', 6082381.0, 6486862.227474169, '2021-03-21 21:56:37.175518')\n",
      "2021-03-21 21:57:01,702 INFO sqlalchemy.engine.base.Engine INSERT INTO data (date, real_price, pred_price, timestamp) VALUES (?, ?, ?, ?)\n",
      "2021-03-21 21:57:01,707 INFO sqlalchemy.engine.base.Engine ('2021-03-17 09:00:00.000000', 6200000.0, 6181548.771902972, '2021-03-21 21:56:37.175518')\n",
      "2021-03-21 21:57:01,713 INFO sqlalchemy.engine.base.Engine INSERT INTO data (date, real_price, pred_price, timestamp) VALUES (?, ?, ?, ?)\n",
      "2021-03-21 21:57:01,717 INFO sqlalchemy.engine.base.Engine ('2021-03-18 09:00:00.000000', 6411597.0, 6176059.734516133, '2021-03-21 21:56:37.175518')\n",
      "2021-03-21 21:57:01,721 INFO sqlalchemy.engine.base.Engine INSERT INTO data (date, real_price, pred_price, timestamp) VALUES (?, ?, ?, ?)\n",
      "2021-03-21 21:57:01,721 INFO sqlalchemy.engine.base.Engine ('2021-03-19 09:00:00.000000', 6284358.0, 6361521.57181157, '2021-03-21 21:56:37.175518')\n",
      "2021-03-21 21:57:01,727 INFO sqlalchemy.engine.base.Engine INSERT INTO data (date, real_price, pred_price, timestamp) VALUES (?, ?, ?, ?)\n",
      "2021-03-21 21:57:01,733 INFO sqlalchemy.engine.base.Engine ('2021-03-20 09:00:00.000000', 6327712.0, 6322144.939125774, '2021-03-21 21:56:37.175518')\n",
      "2021-03-21 21:57:01,738 INFO sqlalchemy.engine.base.Engine INSERT INTO data (date, real_price, pred_price, timestamp) VALUES (?, ?, ?, ?)\n",
      "2021-03-21 21:57:01,740 INFO sqlalchemy.engine.base.Engine ('2021-03-21 09:00:00.000000', 6333656.0, 6338234.9619972585, '2021-03-21 21:56:37.175518')\n",
      "2021-03-21 21:57:01,790 INFO sqlalchemy.engine.base.Engine COMMIT\n",
      "2021-03-21 21:57:01,829 INFO sqlalchemy.engine.base.Engine BEGIN (implicit)\n",
      "2021-03-21 21:57:01,836 INFO sqlalchemy.engine.base.Engine SELECT data.id AS data_id, data.date AS data_date, data.real_price AS data_real_price, data.pred_price AS data_pred_price, data.timestamp AS data_timestamp \n",
      "FROM data\n",
      "2021-03-21 21:57:01,838 INFO sqlalchemy.engine.base.Engine ()\n",
      "2021-03-21 21:57:01,914 INFO sqlalchemy.engine.base.Engine SELECT data.id AS data_id, data.date AS data_date, data.real_price AS data_real_price, data.pred_price AS data_pred_price, data.timestamp AS data_timestamp \n",
      "FROM data\n",
      "2021-03-21 21:57:01,920 INFO sqlalchemy.engine.base.Engine ()\n",
      "2021-03-21 21:57:01,994 INFO sqlalchemy.engine.base.Engine INSERT INTO data (date, real_price, pred_price, timestamp) VALUES (?, ?, ?, ?)\n",
      "2021-03-21 21:57:01,999 INFO sqlalchemy.engine.base.Engine ('2021-03-22 09:00:00.000000', None, 6350886.5, '2021-03-21 21:56:37.175518')\n",
      "2021-03-21 21:57:02,014 INFO sqlalchemy.engine.base.Engine COMMIT\n"
     ]
    }
   ],
   "source": [
    "write_data()"
   ]
  },
  {
   "cell_type": "code",
   "execution_count": 4,
   "metadata": {},
   "outputs": [
    {
     "name": "stdout",
     "output_type": "stream",
     "text": [
      "2021-03-21 21:58:04,169 INFO sqlalchemy.engine.base.Engine BEGIN (implicit)\n",
      "2021-03-21 21:58:04,171 INFO sqlalchemy.engine.base.Engine SELECT data.date AS data_date, data.real_price AS data_real_price, data.pred_price AS data_pred_price \n",
      "FROM data\n",
      "2021-03-21 21:58:04,175 INFO sqlalchemy.engine.base.Engine ()\n"
     ]
    }
   ],
   "source": [
    "# DBからデータを取得\n",
    "data = db_session.query(Data.date, Data.real_price, Data.pred_price).all()\n",
    "\n",
    "# 取得したデータを項目ごとに分配\n",
    "dates = []\n",
    "real_prices = []\n",
    "pred_prices = []\n",
    "\n",
    "for _data in data:\n",
    "    dates.append(_data.date)\n",
    "    real_prices.append(_data.real_price)\n",
    "    pred_prices.append(_data.pred_price)"
   ]
  },
  {
   "cell_type": "code",
   "execution_count": 8,
   "metadata": {},
   "outputs": [
    {
     "data": {
      "image/png": "[encoded data removed]",
      "text/plain": [
       "<Figure size 432x288 with 1 Axes>"
      ]
     },
     "metadata": {
      "needs_background": "light"
     },
     "output_type": "display_data"
    }
   ],
   "source": [
    "df = pd.DataFrame({'date':dates, 'real_price':real_prices})   \n",
    "plt.plot(df['date'], df['real_price'], label=\"real_price\")\n",
    "plt.legend()\n",
    "plt.show()"
   ]
  },
  {
   "cell_type": "code",
   "execution_count": null,
   "metadata": {},
   "outputs": [],
   "source": []
  }
 ],
 "metadata": {
  "kernelspec": {
   "display_name": "Environment (conda_dashbitcopy)",
   "language": "python",
   "name": "conda_dashbitcopy"
  },
  "language_info": {
   "codemirror_mode": {
    "name": "ipython",
    "version": 3
   },
   "file_extension": ".py",
   "mimetype": "text/x-python",
   "name": "python",
   "nbconvert_exporter": "python",
   "pygments_lexer": "ipython3",
   "version": "3.7.9"
  },
  "varInspector": {
   "cols": {
    "lenName": 16,
    "lenType": 16,
    "lenVar": 40
   },
   "kernels_config": {
    "python": {
     "delete_cmd_postfix": "",
     "delete_cmd_prefix": "del ",
     "library": "var_list.py",
     "varRefreshCmd": "print(var_dic_list())"
    },
    "r": {
     "delete_cmd_postfix": ") ",
     "delete_cmd_prefix": "rm(",
     "library": "var_list.r",
     "varRefreshCmd": "cat(var_dic_list()) "
    }
   },
   "types_to_exclude": [
    "module",
    "function",
    "builtin_function_or_method",
    "instance",
    "_Feature"
   ],
   "window_display": false
  }
 },
 "nbformat": 4,
 "nbformat_minor": 4
}
