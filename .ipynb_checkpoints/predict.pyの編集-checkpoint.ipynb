{
 "cells": [
  {
   "cell_type": "code",
   "execution_count": 1,
   "metadata": {},
   "outputs": [
    {
     "name": "stderr",
     "output_type": "stream",
     "text": [
      "Using TensorFlow backend.\n"
     ]
    }
   ],
   "source": [
    "from assets.database import db_session\n",
    "from assets.models import Data\n",
    "\n",
    "from keras.models import Sequential\n",
    "import numpy as np\n",
    "import requests\n",
    "import pickle\n",
    "from datetime import datetime\n",
    "from datetime import timedelta"
   ]
  },
  {
   "cell_type": "code",
   "execution_count": null,
   "metadata": {},
   "outputs": [],
   "source": [
    "# DBからデータを取得\n",
    "data = db_session.query(Data.date, Data.real_price, Data.pred_price).all()\n",
    "\n",
    "# 取得したデータを項目ごとに分配\n",
    "dates = []\n",
    "real_prices = []\n",
    "pred_prices = []\n",
    "\n",
    "for _data in data:\n",
    "    dates.append(_data.date)\n",
    "    real_prices.append(_data.real_price)\n",
    "    pred_prices.append(_data.pred_price)\n",
    "    \n",
    "dat"
   ]
  },
  {
   "cell_type": "code",
   "execution_count": null,
   "metadata": {},
   "outputs": [],
   "source": []
  },
  {
   "cell_type": "code",
   "execution_count": null,
   "metadata": {},
   "outputs": [],
   "source": []
  },
  {
   "cell_type": "code",
   "execution_count": 33,
   "metadata": {},
   "outputs": [
    {
     "name": "stdout",
     "output_type": "stream",
     "text": [
      "2021-02-22 01:58:04,588 INFO sqlalchemy.engine.base.Engine SELECT data.id AS data_id, data.date AS data_date, data.real_price AS data_real_price, data.pred_price AS data_pred_price, data.timestamp AS data_timestamp \n",
      "FROM data\n",
      "2021-02-22 01:58:04,590 INFO sqlalchemy.engine.base.Engine ()\n"
     ]
    },
    {
     "data": {
      "text/plain": [
       "datetime.datetime(2021, 2, 21, 0, 0)"
      ]
     },
     "execution_count": 33,
     "metadata": {},
     "output_type": "execute_result"
    }
   ],
   "source": [
    "db_session.query(Data).all()[-1].date"
   ]
  },
  {
   "cell_type": "code",
   "execution_count": 19,
   "metadata": {},
   "outputs": [
    {
     "name": "stdout",
     "output_type": "stream",
     "text": [
      "2021-02-22 01:44:55,385 INFO sqlalchemy.engine.base.Engine SELECT data.id AS data_id, data.date AS data_date, data.real_price AS data_real_price, data.pred_price AS data_pred_price, data.timestamp AS data_timestamp \n",
      "FROM data\n",
      "2021-02-22 01:44:55,388 INFO sqlalchemy.engine.base.Engine ()\n"
     ]
    },
    {
     "data": {
      "text/plain": [
       "array([[[-1.44852977],\n",
       "        [-0.27361098],\n",
       "        [-0.53299331],\n",
       "        [ 1.12853731],\n",
       "        [ 1.12659674]]])"
      ]
     },
     "execution_count": 19,
     "metadata": {},
     "output_type": "execute_result"
    }
   ],
   "source": [
    "a = db_session.query(Data).all()[-5:]\n",
    "input_will = []\n",
    "\n",
    "for price in a:\n",
    "    input_will.append(price.real_price)\n",
    "input_will = np.array(input_will).reshape(1, 5, 1)\n",
    "input_mean = np.mean(input_will)\n",
    "input_std = np.std(input_will)\n",
    "sta_input = (input_will - input_mean) / input_std\n",
    "sta_input"
   ]
  },
  {
   "cell_type": "code",
   "execution_count": 38,
   "metadata": {},
   "outputs": [
    {
     "name": "stdout",
     "output_type": "stream",
     "text": [
      "2021-02-22 02:00:07,729 INFO sqlalchemy.engine.base.Engine SELECT data.id AS data_id, data.date AS data_date, data.real_price AS data_real_price, data.pred_price AS data_pred_price, data.timestamp AS data_timestamp \n",
      "FROM data\n",
      "2021-02-22 02:00:07,732 INFO sqlalchemy.engine.base.Engine ()\n"
     ]
    },
    {
     "data": {
      "text/plain": [
       "datetime.datetime(2021, 2, 22, 0, 0)"
      ]
     },
     "execution_count": 38,
     "metadata": {},
     "output_type": "execute_result"
    }
   ],
   "source": [
    "# 翌日の日付を取得\n",
    "today = db_session.query(Data).all()[-1].date\n",
    "next_day = today + timedelta(days=1)\n",
    "next_day"
   ]
  },
  {
   "cell_type": "code",
   "execution_count": 1,
   "metadata": {},
   "outputs": [
    {
     "name": "stderr",
     "output_type": "stream",
     "text": [
      "Using TensorFlow backend.\n",
      "C:\\Users\\tomot\\anaconda3\\envs\\lstm\\lib\\site-packages\\tensorflow\\python\\framework\\dtypes.py:523: FutureWarning: Passing (type, 1) or '1type' as a synonym of type is deprecated; in a future version of numpy, it will be understood as (type, (1,)) / '(1,)type'.\n",
      "  _np_qint8 = np.dtype([(\"qint8\", np.int8, 1)])\n",
      "C:\\Users\\tomot\\anaconda3\\envs\\lstm\\lib\\site-packages\\tensorflow\\python\\framework\\dtypes.py:524: FutureWarning: Passing (type, 1) or '1type' as a synonym of type is deprecated; in a future version of numpy, it will be understood as (type, (1,)) / '(1,)type'.\n",
      "  _np_quint8 = np.dtype([(\"quint8\", np.uint8, 1)])\n",
      "C:\\Users\\tomot\\anaconda3\\envs\\lstm\\lib\\site-packages\\tensorflow\\python\\framework\\dtypes.py:525: FutureWarning: Passing (type, 1) or '1type' as a synonym of type is deprecated; in a future version of numpy, it will be understood as (type, (1,)) / '(1,)type'.\n",
      "  _np_qint16 = np.dtype([(\"qint16\", np.int16, 1)])\n",
      "C:\\Users\\tomot\\anaconda3\\envs\\lstm\\lib\\site-packages\\tensorflow\\python\\framework\\dtypes.py:526: FutureWarning: Passing (type, 1) or '1type' as a synonym of type is deprecated; in a future version of numpy, it will be understood as (type, (1,)) / '(1,)type'.\n",
      "  _np_quint16 = np.dtype([(\"quint16\", np.uint16, 1)])\n",
      "C:\\Users\\tomot\\anaconda3\\envs\\lstm\\lib\\site-packages\\tensorflow\\python\\framework\\dtypes.py:527: FutureWarning: Passing (type, 1) or '1type' as a synonym of type is deprecated; in a future version of numpy, it will be understood as (type, (1,)) / '(1,)type'.\n",
      "  _np_qint32 = np.dtype([(\"qint32\", np.int32, 1)])\n",
      "C:\\Users\\tomot\\anaconda3\\envs\\lstm\\lib\\site-packages\\tensorflow\\python\\framework\\dtypes.py:532: FutureWarning: Passing (type, 1) or '1type' as a synonym of type is deprecated; in a future version of numpy, it will be understood as (type, (1,)) / '(1,)type'.\n",
      "  np_resource = np.dtype([(\"resource\", np.ubyte, 1)])\n"
     ]
    }
   ],
   "source": [
    "from assets.database import db_session\n",
    "from assets.models import Data\n",
    "\n",
    "from keras.models import Sequential\n",
    "import numpy as np\n",
    "import requests\n",
    "import pickle\n",
    "#from datetime import datetime\n",
    "from datetime import timedelta\n",
    "\n",
    "def get_price():\n",
    "    URL = 'https://coincheck.com/api/ticker'\n",
    "    coincheck = requests.get(URL).json() \n",
    "    last_price = coincheck['last']\n",
    "    \n",
    "    return last_price\n",
    "\n",
    "def predict_nextday():\n",
    "\n",
    "    # 価格情報を取得しデータフレームに格納\n",
    "    today_data = db_session.query(Data).all()[-1]\n",
    "    today_data.real_price = get_price()  # 上書き\n",
    "    db_session.add(today_data)\n",
    "    db_session.commit()\n",
    "\n",
    "    # windowを作成し標準化\n",
    "    window = 5\n",
    "\n",
    "    data_five = db_session.query(Data).all()[-window:]\n",
    "    input_will = []\n",
    "\n",
    "    for price in data_five:\n",
    "        input_will.append(price.real_price)\n",
    "    input_will = np.array(input_will).reshape(1, window, 1)\n",
    "    input_mean = np.mean(input_will)\n",
    "    input_std = np.std(input_will)\n",
    "    sta_input = (input_will - input_mean) / input_std\n",
    "    print(sta_input)\n",
    "\n",
    "    # 学習済みモデルを取得\n",
    "    with open(\"lstm_model.pickle\", \"rb\") as f:\n",
    "        model = pickle.load(f)\n",
    "\n",
    "    # 翌日の価格を予測、標準化してあるので元に戻す\n",
    "    future_price = model.predict(sta_input)\n",
    "    future_price = future_price.reshape(-1)\n",
    "    future_price = future_price*input_std + input_mean\n",
    "    future_price = float(future_price)\n",
    "    print(future_price)\n",
    "\n",
    "    # 翌日の日付を取得\n",
    "    today = db_session.query(Data).all()[-1].date\n",
    "    next_day = today + timedelta(days=1)\n",
    "    print(next_day)\n",
    "\n",
    "    # 翌日の日付、予測した価格をデータベースに格納\n",
    "    row = Data(date = next_day, real_price = None, pred_price = future_price)\n",
    "    db_session.add(row)\n",
    "    db_session.commit()"
   ]
  },
  {
   "cell_type": "code",
   "execution_count": 2,
   "metadata": {},
   "outputs": [
    {
     "name": "stdout",
     "output_type": "stream",
     "text": [
      "2021-02-23 17:13:06,304 INFO sqlalchemy.engine.base.Engine SELECT CAST('test plain returns' AS VARCHAR(60)) AS anon_1\n",
      "2021-02-23 17:13:06,311 INFO sqlalchemy.engine.base.Engine ()\n",
      "2021-02-23 17:13:06,321 INFO sqlalchemy.engine.base.Engine SELECT CAST('test unicode returns' AS VARCHAR(60)) AS anon_1\n",
      "2021-02-23 17:13:06,324 INFO sqlalchemy.engine.base.Engine ()\n",
      "2021-02-23 17:13:06,331 INFO sqlalchemy.engine.base.Engine BEGIN (implicit)\n",
      "2021-02-23 17:13:06,344 INFO sqlalchemy.engine.base.Engine SELECT data.id AS data_id, data.date AS data_date, data.real_price AS data_real_price, data.pred_price AS data_pred_price, data.timestamp AS data_timestamp \n",
      "FROM data\n",
      "2021-02-23 17:13:06,349 INFO sqlalchemy.engine.base.Engine ()\n",
      "2021-02-23 17:13:08,238 INFO sqlalchemy.engine.base.Engine UPDATE data SET real_price=? WHERE data.id = ?\n",
      "2021-02-23 17:13:08,243 INFO sqlalchemy.engine.base.Engine (5129755.0, 749)\n",
      "2021-02-23 17:13:08,256 INFO sqlalchemy.engine.base.Engine COMMIT\n",
      "2021-02-23 17:13:08,291 INFO sqlalchemy.engine.base.Engine BEGIN (implicit)\n",
      "2021-02-23 17:13:08,296 INFO sqlalchemy.engine.base.Engine SELECT data.id AS data_id, data.date AS data_date, data.real_price AS data_real_price, data.pred_price AS data_pred_price, data.timestamp AS data_timestamp \n",
      "FROM data\n",
      "2021-02-23 17:13:08,303 INFO sqlalchemy.engine.base.Engine ()\n",
      "[[[-0.6149011 ]\n",
      "  [ 0.86479702]\n",
      "  [ 0.86306881]\n",
      "  [ 0.56373853]\n",
      "  [-1.67670327]]]\n",
      "5318548.0\n",
      "2021-02-23 17:13:16,931 INFO sqlalchemy.engine.base.Engine SELECT data.id AS data_id, data.date AS data_date, data.real_price AS data_real_price, data.pred_price AS data_pred_price, data.timestamp AS data_timestamp \n",
      "FROM data\n",
      "2021-02-23 17:13:16,942 INFO sqlalchemy.engine.base.Engine ()\n",
      "2021-02-24 00:00:00\n",
      "2021-02-23 17:13:17,000 INFO sqlalchemy.engine.base.Engine INSERT INTO data (date, real_price, pred_price, timestamp) VALUES (?, ?, ?, ?)\n",
      "2021-02-23 17:13:17,005 INFO sqlalchemy.engine.base.Engine ('2021-02-24 00:00:00.000000', None, 5318548.0, '2021-02-23 17:12:17.855228')\n",
      "2021-02-23 17:13:17,017 INFO sqlalchemy.engine.base.Engine COMMIT\n"
     ]
    }
   ],
   "source": [
    "predict_nextday()"
   ]
  },
  {
   "cell_type": "code",
   "execution_count": 47,
   "metadata": {},
   "outputs": [
    {
     "name": "stdout",
     "output_type": "stream",
     "text": [
      "2021-02-22 02:09:53,807 INFO sqlalchemy.engine.base.Engine INSERT INTO data (date, real_price, pred_price, timestamp) VALUES (?, ?, ?, ?)\n",
      "2021-02-22 02:09:53,809 INFO sqlalchemy.engine.base.Engine ('2021-02-22 00:00:00.000000', None, 6211567.0, '2021-02-22 01:09:37.634966')\n",
      "2021-02-22 02:09:53,818 INFO sqlalchemy.engine.base.Engine COMMIT\n"
     ]
    }
   ],
   "source": [
    "# 翌日の日付、予測した価格をデータベースに格納\n",
    "row = Data(date = next_day, real_price = None, pred_price = future_price)\n",
    "db_session.add(row)\n",
    "db_session.commit()"
   ]
  },
  {
   "cell_type": "code",
   "execution_count": 51,
   "metadata": {},
   "outputs": [
    {
     "name": "stdout",
     "output_type": "stream",
     "text": [
      "2021-02-22 02:11:03,158 INFO sqlalchemy.engine.base.Engine SELECT data.id AS data_id, data.date AS data_date, data.real_price AS data_real_price, data.pred_price AS data_pred_price, data.timestamp AS data_timestamp \n",
      "FROM data\n",
      "2021-02-22 02:11:03,158 INFO sqlalchemy.engine.base.Engine ()\n",
      "None\n"
     ]
    }
   ],
   "source": [
    "print(db_session.query(Data).all()[-1].real_price)"
   ]
  },
  {
   "cell_type": "code",
   "execution_count": null,
   "metadata": {},
   "outputs": [],
   "source": []
  },
  {
   "cell_type": "code",
   "execution_count": null,
   "metadata": {},
   "outputs": [],
   "source": []
  },
  {
   "cell_type": "code",
   "execution_count": null,
   "metadata": {},
   "outputs": [],
   "source": []
  },
  {
   "cell_type": "code",
   "execution_count": null,
   "metadata": {},
   "outputs": [],
   "source": []
  },
  {
   "cell_type": "code",
   "execution_count": null,
   "metadata": {},
   "outputs": [],
   "source": []
  }
 ],
 "metadata": {
  "kernelspec": {
   "display_name": "Environment (conda_dashbitcopy)",
   "language": "python",
   "name": "conda_dashbitcopy"
  },
  "language_info": {
   "codemirror_mode": {
    "name": "ipython",
    "version": 3
   },
   "file_extension": ".py",
   "mimetype": "text/x-python",
   "name": "python",
   "nbconvert_exporter": "python",
   "pygments_lexer": "ipython3",
   "version": "3.7.9"
  },
  "varInspector": {
   "cols": {
    "lenName": 16,
    "lenType": 16,
    "lenVar": 40
   },
   "kernels_config": {
    "python": {
     "delete_cmd_postfix": "",
     "delete_cmd_prefix": "del ",
     "library": "var_list.py",
     "varRefreshCmd": "print(var_dic_list())"
    },
    "r": {
     "delete_cmd_postfix": ") ",
     "delete_cmd_prefix": "rm(",
     "library": "var_list.r",
     "varRefreshCmd": "cat(var_dic_list()) "
    }
   },
   "types_to_exclude": [
    "module",
    "function",
    "builtin_function_or_method",
    "instance",
    "_Feature"
   ],
   "window_display": false
  }
 },
 "nbformat": 4,
 "nbformat_minor": 4
}
